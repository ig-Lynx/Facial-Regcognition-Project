{
 "cells": [
  {
   "cell_type": "code",
   "execution_count": 1,
   "id": "ac0dc844-647e-4d2c-b3f2-864ad33f03cc",
   "metadata": {},
   "outputs": [],
   "source": [
    "import os\n",
    "import tensorflow as tf\n",
    "from tensorflow import keras\n",
    "from tensorflow.keras import layers\n",
    "os.environ['KMP_DUPLICATE_LIB_OK']='True'"
   ]
  },
  {
   "cell_type": "code",
   "execution_count": null,
   "id": "91481a75-4cd7-4e78-93e9-e2a69fe8a630",
   "metadata": {},
   "outputs": [
    {
     "name": "stdout",
     "output_type": "stream",
     "text": [
      "Requirement already satisfied: opencv-python in c:\\users\\daksh\\desktop\\sop\\my_venv\\lib\\site-packages (4.9.0.80)Note: you may need to restart the kernel to use updated packages.\n"
     ]
    },
    {
     "name": "stderr",
     "output_type": "stream",
     "text": [
      "\n",
      "[notice] A new release of pip is available: 24.0 -> 25.0.1\n",
      "[notice] To update, run: python.exe -m pip install --upgrade pip\n"
     ]
    },
    {
     "name": "stdout",
     "output_type": "stream",
     "text": [
      "\n",
      "Requirement already satisfied: numpy>=1.21.2 in c:\\users\\daksh\\desktop\\sop\\my_venv\\lib\\site-packages (from opencv-python) (1.26.4)\n"
     ]
    }
   ],
   "source": [
    "pip install opencv-python"
   ]
  },
  {
   "cell_type": "code",
   "execution_count": null,
   "id": "304bb61a-fa76-45c1-926a-2bb7d289138a",
   "metadata": {},
   "outputs": [
    {
     "name": "stdout",
     "output_type": "stream",
     "text": [
      "Requirement already satisfied: matplotlib in c:\\users\\daksh\\desktop\\sop\\my_venv\\lib\\site-packages (3.9.0)\n",
      "Requirement already satisfied: contourpy>=1.0.1 in c:\\users\\daksh\\desktop\\sop\\my_venv\\lib\\site-packages (from matplotlib) (1.2.1)\n",
      "Requirement already satisfied: cycler>=0.10 in c:\\users\\daksh\\desktop\\sop\\my_venv\\lib\\site-packages (from matplotlib) (0.12.1)\n",
      "Requirement already satisfied: fonttools>=4.22.0 in c:\\users\\daksh\\desktop\\sop\\my_venv\\lib\\site-packages (from matplotlib) (4.53.0)\n",
      "Requirement already satisfied: kiwisolver>=1.3.1 in c:\\users\\daksh\\desktop\\sop\\my_venv\\lib\\site-packages (from matplotlib) (1.4.5)\n",
      "Requirement already satisfied: numpy>=1.23 in c:\\users\\daksh\\desktop\\sop\\my_venv\\lib\\site-packages (from matplotlib) (1.26.4)\n",
      "Requirement already satisfied: packaging>=20.0 in c:\\users\\daksh\\desktop\\sop\\my_venv\\lib\\site-packages (from matplotlib) (24.0)\n",
      "Requirement already satisfied: pillow>=8 in c:\\users\\daksh\\desktop\\sop\\my_venv\\lib\\site-packages (from matplotlib) (10.3.0)\n",
      "Requirement already satisfied: pyparsing>=2.3.1 in c:\\users\\daksh\\desktop\\sop\\my_venv\\lib\\site-packages (from matplotlib) (3.1.2)\n",
      "Requirement already satisfied: python-dateutil>=2.7 in c:\\users\\daksh\\desktop\\sop\\my_venv\\lib\\site-packages (from matplotlib) (2.9.0.post0)\n",
      "Requirement already satisfied: six>=1.5 in c:\\users\\daksh\\desktop\\sop\\my_venv\\lib\\site-packages (from python-dateutil>=2.7->matplotlib) (1.16.0)\n",
      "Note: you may need to restart the kernel to use updated packages.\n"
     ]
    },
    {
     "name": "stderr",
     "output_type": "stream",
     "text": [
      "\n",
      "[notice] A new release of pip is available: 24.0 -> 24.1\n",
      "[notice] To update, run: python.exe -m pip install --upgrade pip\n"
     ]
    }
   ],
   "source": [
    "pip install matplotlib"
   ]
  },
  {
   "cell_type": "code",
   "execution_count": 8,
   "id": "4080f4ca-93d3-4a68-bf26-d2318c1c0925",
   "metadata": {},
   "outputs": [],
   "source": [
    "# Import standard dependencies\n",
    "import cv2\n",
    "import os\n",
    "import random\n",
    "import numpy as np\n",
    "from matplotlib import pyplot as plt"
   ]
  },
  {
   "cell_type": "code",
   "execution_count": 9,
   "id": "f8211f8b-100d-41b4-824b-c7d777ab3d21",
   "metadata": {},
   "outputs": [],
   "source": [
    "# Import tensorflow dependencies - Functional API\n",
    "from tensorflow.keras.models import Model\n",
    "from tensorflow.keras.layers import Layer, Conv2D, Dense, MaxPooling2D, Input, Flatten\n",
    "import tensorflow as tf"
   ]
  },
  {
   "cell_type": "code",
   "execution_count": 10,
   "id": "d79d83ec-7ff3-470e-8369-6991379aa742",
   "metadata": {},
   "outputs": [],
   "source": [
    "# Generate random unique image names\n",
    "import uuid"
   ]
  },
  {
   "cell_type": "code",
   "execution_count": 11,
   "id": "bab98dcb-0d4f-4668-9d6b-d3462d0488a5",
   "metadata": {},
   "outputs": [],
   "source": [
    "# Avoid OOM errors by setting GPU Memory Consumption Growth\n",
    "gpus = tf.config.experimental.list_physical_devices('GPU')\n",
    "for gpu in gpus: \n",
    "    tf.config.experimental.set_memory_growth(gpu, True)"
   ]
  },
  {
   "cell_type": "code",
   "execution_count": 12,
   "id": "97ea93b5-0780-4aae-89b1-a9e978204957",
   "metadata": {},
   "outputs": [],
   "source": [
    "# Setup File Paths\n",
    "POS_PATH = os.path.join('data', 'positive')\n",
    "NEG_PATH = os.path.join('data', 'negative')\n",
    "ANC_PATH = os.path.join('data', 'anchor')"
   ]
  },
  {
   "cell_type": "code",
   "execution_count": 13,
   "id": "3cba2c7d-fc7a-449c-9d01-5874906bc3ac",
   "metadata": {},
   "outputs": [],
   "source": [
    "os.makedirs(POS_PATH)\n",
    "os.makedirs(NEG_PATH)\n",
    "os.makedirs(ANC_PATH)"
   ]
  },
  {
   "cell_type": "code",
   "execution_count": 14,
   "id": "c60f986c-71b1-417f-b5e5-10d93a99352c",
   "metadata": {},
   "outputs": [],
   "source": [
    "# Uncompress labelled faces in the tar dataset\n",
    "!tar -xf lfw.tgz"
   ]
  },
  {
   "cell_type": "code",
   "execution_count": 15,
   "id": "a90c9608-c7e2-496f-b890-6924585da01b",
   "metadata": {},
   "outputs": [],
   "source": [
    "# Move lfw to the data/negative folder\n",
    "for directory in os.listdir('lfw'):\n",
    "    for file in os.listdir(os.path.join('lfw', directory)):\n",
    "        CUR_PATH = os.path.join('lfw', directory, file)\n",
    "        NEW_PATH = os.path.join(NEG_PATH, file)\n",
    "        os.replace(CUR_PATH, NEW_PATH)"
   ]
  },
  {
   "cell_type": "code",
   "execution_count": 16,
   "id": "36f79b88-63fb-40c1-a6f6-623600e85398",
   "metadata": {},
   "outputs": [
    {
     "data": {
      "text/plain": [
       "'data\\\\anchor\\\\03518a69-304c-11ef-bb49-a8fbefe3552a.jpg'"
      ]
     },
     "execution_count": 16,
     "metadata": {},
     "output_type": "execute_result"
    }
   ],
   "source": [
    "os.path.join(ANC_PATH, '{}.jpg'.format(uuid.uuid1()))"
   ]
  },
  {
   "cell_type": "code",
   "execution_count": 15,
   "id": "9ff2c91e-39f7-494b-b629-2931595d2c78",
   "metadata": {},
   "outputs": [
    {
     "name": "stdout",
     "output_type": "stream",
     "text": [
      "Cameras available: 0\n",
      "[0]\n"
     ]
    }
   ],
   "source": [
    "# Camera Availability\n",
    "\n",
    "cam_avail = []\n",
    "\n",
    "for camera in range(10):\n",
    "    cap = cv2.VideoCapture(camera)\n",
    "    if cap.isOpened():\n",
    "        print(\"Cameras available:\", camera)\n",
    "        cam_avail.append(camera)\n",
    "        cap.release()\n",
    "print(cam_avail)"
   ]
  },
  {
   "cell_type": "code",
   "execution_count": 17,
   "id": "9b6f3ea0-af1b-4c24-b22c-5a547ef2af33",
   "metadata": {},
   "outputs": [],
   "source": [
    "# Establishing Connection to WebCam\n",
    "cap = cv2.VideoCapture(0)\n",
    "while cap.isOpened():\n",
    "    ret, frame = cap.read()\n",
    "\n",
    "    # Cut down frame to 250x250px\n",
    "    frame = frame[120:120+250, 200:200+250]\n",
    "\n",
    "    # Collecting Anchor\n",
    "    if cv2.waitKey(1) & 0XFF == ord('a'):\n",
    "        # Create file path\n",
    "        imgname = os.path.join(ANC_PATH, '{}.jpg'.format(uuid.uuid1()))\n",
    "        # Save the anchor image\n",
    "        cv2.imwrite(imgname, frame)\n",
    "\n",
    "    cv2.imshow(\"Image Collected\", frame)\n",
    "\n",
    "    if cv2.waitKey(1) & 0XFF == ord('q'):\n",
    "        break\n",
    "cap.release()\n",
    "cv2.destroyAllWindows()"
   ]
  },
  {
   "cell_type": "code",
   "execution_count": 18,
   "id": "043205e5-e30b-4bb7-a27a-7c49cc12181d",
   "metadata": {},
   "outputs": [
    {
     "data": {
      "text/plain": [
       "<matplotlib.image.AxesImage at 0x26367d37a90>"
      ]
     },
     "execution_count": 18,
     "metadata": {},
     "output_type": "execute_result"
    },
    {
     "data": {
      "image/png": "[encoded data removed]",
      "text/plain": [
       "<Figure size 640x480 with 1 Axes>"
      ]
     },
     "metadata": {},
     "output_type": "display_data"
    }
   ],
   "source": [
    "plt.imshow(frame[120:120+250, 200:200+250, :])"
   ]
  },
  {
   "cell_type": "code",
   "execution_count": 19,
   "id": "6a8bcfc4-dfd8-48d3-9ceb-029bbff42c7c",
   "metadata": {},
   "outputs": [
    {
     "name": "stdout",
     "output_type": "stream",
     "text": [
      "Collecting image 0\n",
      "Collecting image 1\n",
      "Collecting image 2\n",
      "Collecting image 3\n",
      "Collecting image 4\n",
      "Collecting image 5\n"
     ]
    }
   ],
   "source": [
    "# Collecting Positive Images\n",
    "import time\n",
    "number_images = 6\n",
    "\n",
    "cap = cv2.VideoCapture(0)\n",
    "for imgnum in range(number_images):\n",
    "    print(\"Collecting image {}\".format(imgnum))\n",
    "    ret, frame = cap.read()\n",
    "    # Tempo\n",
    "    frame = frame[120:120+250, 200:200+250, :]\n",
    "\n",
    "    imgname = os.path.join(POS_PATH, f'{str(uuid.uuid1())}.jpg')\n",
    "    cv2.imwrite(imgname, frame)\n",
    "    cv2.imshow('6 Images',frame)\n",
    "    time.sleep(5)\n",
    "\n",
    "    if cv2.waitKey(1) & 0XFF == ord('q'):\n",
    "        break\n",
    "\n",
    "cap.release()\n",
    "cv2.destroyAllWindows()"
   ]
  },
  {
   "cell_type": "code",
   "execution_count": 20,
   "id": "2ca4b7bd-40fa-4142-b2f0-65b8046b788b",
   "metadata": {},
   "outputs": [],
   "source": [
    "# Create a Dataset of each type of image\n",
    "anchor = tf.data.Dataset.list_files(ANC_PATH + '\\*.jpg').take(6)\n",
    "positive = tf.data.Dataset.list_files(POS_PATH + '\\*.jpg').take(6)\n",
    "negative = tf.data.Dataset.list_files(NEG_PATH + '\\*.jpg').take(6)"
   ]
  },
  {
   "cell_type": "code",
   "execution_count": 21,
   "id": "0e767d37-d552-4853-bf4c-beb7fa9f3596",
   "metadata": {},
   "outputs": [],
   "source": [
    "dir_test = anchor.as_numpy_iterator()"
   ]
  },
  {
   "cell_type": "code",
   "execution_count": 22,
   "id": "b573711c-aade-4248-ab45-35029d81a353",
   "metadata": {},
   "outputs": [
    {
     "name": "stdout",
     "output_type": "stream",
     "text": [
      "b'data\\\\anchor\\\\2bca4ec9-304c-11ef-aa81-a8fbefe3552a.jpg'\n"
     ]
    }
   ],
   "source": [
    "print(dir_test.next())"
   ]
  },
  {
   "cell_type": "code",
   "execution_count": 22,
   "id": "6d676a4c-ed6d-46f2-9b30-c2cd6abba552",
   "metadata": {},
   "outputs": [],
   "source": [
    "# Preprocess - Scale and Resizing Image"
   ]
  },
  {
   "cell_type": "code",
   "execution_count": 23,
   "id": "68f5e44c-403c-4765-a97e-32104db8f8a9",
   "metadata": {},
   "outputs": [],
   "source": [
    "def preprocess(file_path):\n",
    "\n",
    "    # Read image from the file path\n",
    "    byte_img = tf.io.read_file(file_path)\n",
    "    # Decode byte string to Array\n",
    "    img = tf.io.decode_jpeg(byte_img)\n",
    "\n",
    "    # Resize the image to be 100x100\n",
    "    img = tf.image.resize(img, (100, 100))\n",
    "\n",
    "    img = img/255.0\n",
    "    return img"
   ]
  },
  {
   "cell_type": "code",
   "execution_count": 24,
   "id": "dd27a151-ad30-4a0c-9c90-78b79e3855a3",
   "metadata": {},
   "outputs": [
    {
     "data": {
      "text/plain": [
       "<matplotlib.image.AxesImage at 0x26371a80dd0>"
      ]
     },
     "execution_count": 24,
     "metadata": {},
     "output_type": "execute_result"
    },
    {
     "data": {
      "image/png": "[encoded data removed]",
      "text/plain": [
       "<Figure size 640x480 with 1 Axes>"
      ]
     },
     "metadata": {},
     "output_type": "display_data"
    }
   ],
   "source": [
    "img = preprocess('data\\\\anchor\\\\2bca4ec9-304c-11ef-aa81-a8fbefe3552a.jpg')\n",
    "plt.imshow(img)"
   ]
  },
  {
   "cell_type": "code",
   "execution_count": 25,
   "id": "908ea1f8-727f-4500-9d69-f4bc42b3cad4",
   "metadata": {},
   "outputs": [],
   "source": [
    "# Create Labelled Data Set"
   ]
  },
  {
   "cell_type": "code",
   "execution_count": 25,
   "id": "98147457-4751-4740-9192-25bd58cfc57b",
   "metadata": {},
   "outputs": [],
   "source": [
    "positives = tf.data.Dataset.zip((anchor,positive, tf.data.Dataset.from_tensor_slices(tf.ones(len(anchor)))))\n",
    "negatives = tf.data.Dataset.zip((anchor,negative, tf.data.Dataset.from_tensor_slices(tf.ones(len(anchor)))))\n",
    "\n",
    "# Combining  the positive and negative data sets  into one\n",
    "\n",
    "data = positives.concatenate(negatives)"
   ]
  },
  {
   "cell_type": "code",
   "execution_count": 26,
   "id": "13ecc5f2-ecfb-420a-af66-816bbb481e7c",
   "metadata": {},
   "outputs": [
    {
     "data": {
      "text/plain": [
       "<_ConcatenateDataset element_spec=(TensorSpec(shape=(), dtype=tf.string, name=None), TensorSpec(shape=(), dtype=tf.string, name=None), TensorSpec(shape=(), dtype=tf.float32, name=None))>"
      ]
     },
     "execution_count": 26,
     "metadata": {},
     "output_type": "execute_result"
    }
   ],
   "source": [
    "data"
   ]
  },
  {
   "cell_type": "code",
   "execution_count": 27,
   "id": "24ca6380-569c-4ff8-8a45-0e1e3d254769",
   "metadata": {},
   "outputs": [],
   "source": [
    "samples = data.as_numpy_iterator()"
   ]
  },
  {
   "cell_type": "code",
   "execution_count": 28,
   "id": "e01434ab-4ae3-496c-836a-5593e024f267",
   "metadata": {},
   "outputs": [
    {
     "data": {
      "text/plain": [
       "(b'data\\\\anchor\\\\2bca4ec9-304c-11ef-aa81-a8fbefe3552a.jpg',\n",
       " b'data\\\\positive\\\\3cc87da5-304c-11ef-b5aa-a8fbefe3552a.jpg',\n",
       " 1.0)"
      ]
     },
     "execution_count": 28,
     "metadata": {},
     "output_type": "execute_result"
    }
   ],
   "source": [
    "ex = samples.next()\n",
    "ex"
   ]
  },
  {
   "cell_type": "code",
   "execution_count": 24,
   "id": "ba28ded4-9538-47c4-bb98-606538863861",
   "metadata": {},
   "outputs": [],
   "source": [
    "# BUILD TRAIN & TEST"
   ]
  },
  {
   "cell_type": "code",
   "execution_count": 29,
   "id": "9800fc61-919c-49c1-a68a-35fc8f0d5c34",
   "metadata": {},
   "outputs": [],
   "source": [
    "def preprocess_twin(input_img, validation_img, label):\n",
    "    return (preprocess(input_img), preprocess(validation_img), label)"
   ]
  },
  {
   "cell_type": "code",
   "execution_count": 34,
   "id": "7e395b84-d10e-42a0-83da-f2c6706f991c",
   "metadata": {},
   "outputs": [],
   "source": [
    "res = preprocess_twin(*ex)"
   ]
  },
  {
   "cell_type": "code",
   "execution_count": 35,
   "id": "4dc7fe5e-444f-43d0-8300-17dff70a358b",
   "metadata": {},
   "outputs": [
    {
     "data": {
      "text/plain": [
       "<matplotlib.image.AxesImage at 0x26371a83d90>"
      ]
     },
     "execution_count": 35,
     "metadata": {},
     "output_type": "execute_result"
    },
    {
     "data": {
      "image/png": "[encoded data removed]",
      "text/plain": [
       "<Figure size 640x480 with 1 Axes>"
      ]
     },
     "metadata": {},
     "output_type": "display_data"
    }
   ],
   "source": [
    "plt.imshow(res[1])\n",
    "# res[0] - Shows the anchor image\n",
    "# res[1] - Shows the positive/negative image dependent on the 'ex' value\n",
    "# res[2] - Shows the Labelled Value for the 2 datasets\n",
    "# Label value is '1' - For 'anchor' and 'positive' image\n",
    "# Label value is '0' - For 'anchor' and 'negative' image"
   ]
  },
  {
   "cell_type": "code",
   "execution_count": 32,
   "id": "761c77c0-4a05-4e25-8ab3-58a55f07b4a4",
   "metadata": {},
   "outputs": [
    {
     "data": {
      "text/plain": [
       "1.0"
      ]
     },
     "execution_count": 32,
     "metadata": {},
     "output_type": "execute_result"
    }
   ],
   "source": [
    "res[2]"
   ]
  },
  {
   "cell_type": "code",
   "execution_count": 38,
   "id": "d4ad0016-5d45-448d-bc08-6486f8616598",
   "metadata": {},
   "outputs": [],
   "source": [
    "# Build DataLoader Pipeline\n"
   ]
  },
  {
   "cell_type": "code",
   "execution_count": 36,
   "id": "ea5882fa-8316-40b7-869e-55019a14170e",
   "metadata": {},
   "outputs": [],
   "source": [
    "data = data.map(preprocess_twin)\n",
    "data = data.cache()\n",
    "data = data.shuffle(buffer_size=1024)"
   ]
  },
  {
   "cell_type": "code",
   "execution_count": 37,
   "id": "383da148-0407-438c-a91d-4df4b0b92e90",
   "metadata": {},
   "outputs": [],
   "source": [
    "# Training Part\n",
    "\n",
    "# 70% of the data is taken first\n",
    "train_data = data.take(round(len(data)*0.7))\n",
    "\n",
    "# Now the data will be sent in a batch of 16\n",
    "train_data = train_data.batch(16)\n",
    "\n",
    "# Starts preprocessing the next set of images so that we don't bottleup our neural network\n",
    "train_data = train_data.prefetch(8)"
   ]
  },
  {
   "cell_type": "code",
   "execution_count": 38,
   "id": "cf34ffd0-6d08-4745-b6ae-10b5512bc049",
   "metadata": {},
   "outputs": [],
   "source": [
    "# Refine/ Testing Phase\n",
    "test_data = data.skip(round(len(data)*0.7))\n",
    "test_data = test_data.take(round(len(data)*0.3))\n",
    "test_data = test_data.batch(16)\n",
    "test_data = test_data.prefetch(8)"
   ]
  },
  {
   "cell_type": "code",
   "execution_count": 39,
   "id": "c4306ed7",
   "metadata": {},
   "outputs": [
    {
     "data": {
      "text/plain": [
       "<_PrefetchDataset element_spec=(TensorSpec(shape=(None, 100, 100, None), dtype=tf.float32, name=None), TensorSpec(shape=(None, 100, 100, None), dtype=tf.float32, name=None), TensorSpec(shape=(None,), dtype=tf.float32, name=None))>"
      ]
     },
     "execution_count": 39,
     "metadata": {},
     "output_type": "execute_result"
    }
   ],
   "source": [
    "test_data"
   ]
  },
  {
   "cell_type": "code",
   "execution_count": 36,
   "id": "647614fa-d98c-4f23-804d-023382359125",
   "metadata": {},
   "outputs": [],
   "source": [
    "# EMBEDDING LAYER"
   ]
  },
  {
   "cell_type": "code",
   "execution_count": 40,
   "id": "5645a6ee-46e1-47ce-921a-ef3e9eaa4459",
   "metadata": {},
   "outputs": [],
   "source": [
    "inp = Input(shape=(100,100,3), name=\"input_img\")"
   ]
  },
  {
   "cell_type": "code",
   "execution_count": 41,
   "id": "0cb660f1-71b4-428a-8cbc-44ea47dac298",
   "metadata": {},
   "outputs": [],
   "source": [
    "cl1 = Conv2D(64, (10,10), activation='relu')(inp)"
   ]
  },
  {
   "cell_type": "code",
   "execution_count": 42,
   "id": "68de5eec-a72b-42ad-95ec-a45efb3eb91d",
   "metadata": {},
   "outputs": [
    {
     "data": {
      "text/plain": [
       "<KerasTensor shape=(None, 91, 91, 64), dtype=float32, sparse=False, name=keras_tensor>"
      ]
     },
     "execution_count": 42,
     "metadata": {},
     "output_type": "execute_result"
    }
   ],
   "source": [
    "cl1"
   ]
  },
  {
   "cell_type": "code",
   "execution_count": 43,
   "id": "665c3b37-28d5-4608-9ce5-7c5f8ef9b884",
   "metadata": {},
   "outputs": [],
   "source": [
    "m1 = MaxPooling2D(64,(2,2),padding='same')(cl1)"
   ]
  },
  {
   "cell_type": "code",
   "execution_count": 44,
   "id": "0d8d2478-7054-40b0-9d6a-f73895335ae8",
   "metadata": {},
   "outputs": [
    {
     "data": {
      "text/plain": [
       "<KerasTensor shape=(None, 46, 46, 64), dtype=float32, sparse=False, name=keras_tensor_1>"
      ]
     },
     "execution_count": 44,
     "metadata": {},
     "output_type": "execute_result"
    }
   ],
   "source": [
    "m1"
   ]
  },
  {
   "cell_type": "code",
   "execution_count": 45,
   "id": "74b50ad2-7682-489b-9942-c507547002b0",
   "metadata": {},
   "outputs": [
    {
     "name": "stdout",
     "output_type": "stream",
     "text": [
      "<KerasTensor shape=(None, 40, 40, 128), dtype=float32, sparse=False, name=keras_tensor_2>\n",
      "<KerasTensor shape=(None, 20, 20, 128), dtype=float32, sparse=False, name=keras_tensor_3>\n"
     ]
    }
   ],
   "source": [
    "cl2 = Conv2D(128, (7,7), activation='relu')(m1)\n",
    "m2 = MaxPooling2D(64, (2,2), padding='same')(cl2)\n",
    "\n",
    "print(cl2)\n",
    "print(m2)"
   ]
  },
  {
   "cell_type": "code",
   "execution_count": 46,
   "id": "41fbf5da-c30e-4f4d-803a-7ba1df8e01c0",
   "metadata": {},
   "outputs": [
    {
     "name": "stdout",
     "output_type": "stream",
     "text": [
      "<KerasTensor shape=(None, 17, 17, 128), dtype=float32, sparse=False, name=keras_tensor_4>\n",
      "<KerasTensor shape=(None, 9, 9, 128), dtype=float32, sparse=False, name=keras_tensor_5>\n"
     ]
    }
   ],
   "source": [
    "cl3 = Conv2D(128, (4,4), activation='relu')(m2)\n",
    "m3 = MaxPooling2D(64, (2,2), padding='same')(cl3)\n",
    "\n",
    "print(cl3)\n",
    "print(m3)"
   ]
  },
  {
   "cell_type": "code",
   "execution_count": 47,
   "id": "5449f8f0-37e2-43c0-b0ec-6a81fbe76b07",
   "metadata": {},
   "outputs": [
    {
     "name": "stdout",
     "output_type": "stream",
     "text": [
      "<KerasTensor shape=(None, 6, 6, 256), dtype=float32, sparse=False, name=keras_tensor_6>\n",
      "<KerasTensor shape=(None, 9216), dtype=float32, sparse=False, name=keras_tensor_7>\n",
      "<KerasTensor shape=(None, 4096), dtype=float32, sparse=False, name=keras_tensor_8>\n"
     ]
    }
   ],
   "source": [
    "cl4 = Conv2D(256, (4,4), activation='relu')(m3)\n",
    "\n",
    "# flattning all the output of CNN layer which are in 3D into a single Dimension\n",
    "f1 = Flatten()(cl4)\n",
    "d1 = Dense(4096, activation='sigmoid')(f1)\n",
    "\n",
    "print(cl4)\n",
    "print(f1)\n",
    "print(d1)"
   ]
  },
  {
   "cell_type": "code",
   "execution_count": 48,
   "id": "8a6f82c0-871a-44fe-8e64-1227839a9eac",
   "metadata": {},
   "outputs": [],
   "source": [
    "mod = Model(inputs=[inp], outputs=[d1], name=\"Embedding\")"
   ]
  },
  {
   "cell_type": "code",
   "execution_count": 49,
   "id": "13ba36a0-653e-4e13-9cf0-beb22e2d79c9",
   "metadata": {},
   "outputs": [
    {
     "data": {
      "text/html": [
       "<pre style=\"white-space:pre;overflow-x:auto;line-height:normal;font-family:Menlo,'DejaVu Sans Mono',consolas,'Courier New',monospace\"><span style=\"font-weight: bold\">Model: \"Embedding\"</span>\n",
       "</pre>\n"
      ],
      "text/plain": [
       "\u001b[1mModel: \"Embedding\"\u001b[0m\n"
      ]
     },
     "metadata": {},
     "output_type": "display_data"
    },
    {
     "data": {
      "text/html": [
       "<pre style=\"white-space:pre;overflow-x:auto;line-height:normal;font-family:Menlo,'DejaVu Sans Mono',consolas,'Courier New',monospace\">┏━━━━━━━━━━━━━━━━━━━━━━━━━━━━━━━━━┳━━━━━━━━━━━━━━━━━━━━━━━━┳━━━━━━━━━━━━━━━┓\n",
       "┃<span style=\"font-weight: bold\"> Layer (type)                    </span>┃<span style=\"font-weight: bold\"> Output Shape           </span>┃<span style=\"font-weight: bold\">       Param # </span>┃\n",
       "┡━━━━━━━━━━━━━━━━━━━━━━━━━━━━━━━━━╇━━━━━━━━━━━━━━━━━━━━━━━━╇━━━━━━━━━━━━━━━┩\n",
       "│ input_img (<span style=\"color: #0087ff; text-decoration-color: #0087ff\">InputLayer</span>)          │ (<span style=\"color: #00d7ff; text-decoration-color: #00d7ff\">None</span>, <span style=\"color: #00af00; text-decoration-color: #00af00\">100</span>, <span style=\"color: #00af00; text-decoration-color: #00af00\">100</span>, <span style=\"color: #00af00; text-decoration-color: #00af00\">3</span>)    │             <span style=\"color: #00af00; text-decoration-color: #00af00\">0</span> │\n",
       "├─────────────────────────────────┼────────────────────────┼───────────────┤\n",
       "│ conv2d (<span style=\"color: #0087ff; text-decoration-color: #0087ff\">Conv2D</span>)                 │ (<span style=\"color: #00d7ff; text-decoration-color: #00d7ff\">None</span>, <span style=\"color: #00af00; text-decoration-color: #00af00\">91</span>, <span style=\"color: #00af00; text-decoration-color: #00af00\">91</span>, <span style=\"color: #00af00; text-decoration-color: #00af00\">64</span>)     │        <span style=\"color: #00af00; text-decoration-color: #00af00\">19,264</span> │\n",
       "├─────────────────────────────────┼────────────────────────┼───────────────┤\n",
       "│ max_pooling2d (<span style=\"color: #0087ff; text-decoration-color: #0087ff\">MaxPooling2D</span>)    │ (<span style=\"color: #00d7ff; text-decoration-color: #00d7ff\">None</span>, <span style=\"color: #00af00; text-decoration-color: #00af00\">46</span>, <span style=\"color: #00af00; text-decoration-color: #00af00\">46</span>, <span style=\"color: #00af00; text-decoration-color: #00af00\">64</span>)     │             <span style=\"color: #00af00; text-decoration-color: #00af00\">0</span> │\n",
       "├─────────────────────────────────┼────────────────────────┼───────────────┤\n",
       "│ conv2d_1 (<span style=\"color: #0087ff; text-decoration-color: #0087ff\">Conv2D</span>)               │ (<span style=\"color: #00d7ff; text-decoration-color: #00d7ff\">None</span>, <span style=\"color: #00af00; text-decoration-color: #00af00\">40</span>, <span style=\"color: #00af00; text-decoration-color: #00af00\">40</span>, <span style=\"color: #00af00; text-decoration-color: #00af00\">128</span>)    │       <span style=\"color: #00af00; text-decoration-color: #00af00\">401,536</span> │\n",
       "├─────────────────────────────────┼────────────────────────┼───────────────┤\n",
       "│ max_pooling2d_1 (<span style=\"color: #0087ff; text-decoration-color: #0087ff\">MaxPooling2D</span>)  │ (<span style=\"color: #00d7ff; text-decoration-color: #00d7ff\">None</span>, <span style=\"color: #00af00; text-decoration-color: #00af00\">20</span>, <span style=\"color: #00af00; text-decoration-color: #00af00\">20</span>, <span style=\"color: #00af00; text-decoration-color: #00af00\">128</span>)    │             <span style=\"color: #00af00; text-decoration-color: #00af00\">0</span> │\n",
       "├─────────────────────────────────┼────────────────────────┼───────────────┤\n",
       "│ conv2d_2 (<span style=\"color: #0087ff; text-decoration-color: #0087ff\">Conv2D</span>)               │ (<span style=\"color: #00d7ff; text-decoration-color: #00d7ff\">None</span>, <span style=\"color: #00af00; text-decoration-color: #00af00\">17</span>, <span style=\"color: #00af00; text-decoration-color: #00af00\">17</span>, <span style=\"color: #00af00; text-decoration-color: #00af00\">128</span>)    │       <span style=\"color: #00af00; text-decoration-color: #00af00\">262,272</span> │\n",
       "├─────────────────────────────────┼────────────────────────┼───────────────┤\n",
       "│ max_pooling2d_2 (<span style=\"color: #0087ff; text-decoration-color: #0087ff\">MaxPooling2D</span>)  │ (<span style=\"color: #00d7ff; text-decoration-color: #00d7ff\">None</span>, <span style=\"color: #00af00; text-decoration-color: #00af00\">9</span>, <span style=\"color: #00af00; text-decoration-color: #00af00\">9</span>, <span style=\"color: #00af00; text-decoration-color: #00af00\">128</span>)      │             <span style=\"color: #00af00; text-decoration-color: #00af00\">0</span> │\n",
       "├─────────────────────────────────┼────────────────────────┼───────────────┤\n",
       "│ conv2d_3 (<span style=\"color: #0087ff; text-decoration-color: #0087ff\">Conv2D</span>)               │ (<span style=\"color: #00d7ff; text-decoration-color: #00d7ff\">None</span>, <span style=\"color: #00af00; text-decoration-color: #00af00\">6</span>, <span style=\"color: #00af00; text-decoration-color: #00af00\">6</span>, <span style=\"color: #00af00; text-decoration-color: #00af00\">256</span>)      │       <span style=\"color: #00af00; text-decoration-color: #00af00\">524,544</span> │\n",
       "├─────────────────────────────────┼────────────────────────┼───────────────┤\n",
       "│ flatten (<span style=\"color: #0087ff; text-decoration-color: #0087ff\">Flatten</span>)               │ (<span style=\"color: #00d7ff; text-decoration-color: #00d7ff\">None</span>, <span style=\"color: #00af00; text-decoration-color: #00af00\">9216</span>)           │             <span style=\"color: #00af00; text-decoration-color: #00af00\">0</span> │\n",
       "├─────────────────────────────────┼────────────────────────┼───────────────┤\n",
       "│ dense (<span style=\"color: #0087ff; text-decoration-color: #0087ff\">Dense</span>)                   │ (<span style=\"color: #00d7ff; text-decoration-color: #00d7ff\">None</span>, <span style=\"color: #00af00; text-decoration-color: #00af00\">4096</span>)           │    <span style=\"color: #00af00; text-decoration-color: #00af00\">37,752,832</span> │\n",
       "└─────────────────────────────────┴────────────────────────┴───────────────┘\n",
       "</pre>\n"
      ],
      "text/plain": [
       "┏━━━━━━━━━━━━━━━━━━━━━━━━━━━━━━━━━┳━━━━━━━━━━━━━━━━━━━━━━━━┳━━━━━━━━━━━━━━━┓\n",
       "┃\u001b[1m \u001b[0m\u001b[1mLayer (type)                   \u001b[0m\u001b[1m \u001b[0m┃\u001b[1m \u001b[0m\u001b[1mOutput Shape          \u001b[0m\u001b[1m \u001b[0m┃\u001b[1m \u001b[0m\u001b[1m      Param #\u001b[0m\u001b[1m \u001b[0m┃\n",
       "┡━━━━━━━━━━━━━━━━━━━━━━━━━━━━━━━━━╇━━━━━━━━━━━━━━━━━━━━━━━━╇━━━━━━━━━━━━━━━┩\n",
       "│ input_img (\u001b[38;5;33mInputLayer\u001b[0m)          │ (\u001b[38;5;45mNone\u001b[0m, \u001b[38;5;34m100\u001b[0m, \u001b[38;5;34m100\u001b[0m, \u001b[38;5;34m3\u001b[0m)    │             \u001b[38;5;34m0\u001b[0m │\n",
       "├─────────────────────────────────┼────────────────────────┼───────────────┤\n",
       "│ conv2d (\u001b[38;5;33mConv2D\u001b[0m)                 │ (\u001b[38;5;45mNone\u001b[0m, \u001b[38;5;34m91\u001b[0m, \u001b[38;5;34m91\u001b[0m, \u001b[38;5;34m64\u001b[0m)     │        \u001b[38;5;34m19,264\u001b[0m │\n",
       "├─────────────────────────────────┼────────────────────────┼───────────────┤\n",
       "│ max_pooling2d (\u001b[38;5;33mMaxPooling2D\u001b[0m)    │ (\u001b[38;5;45mNone\u001b[0m, \u001b[38;5;34m46\u001b[0m, \u001b[38;5;34m46\u001b[0m, \u001b[38;5;34m64\u001b[0m)     │             \u001b[38;5;34m0\u001b[0m │\n",
       "├─────────────────────────────────┼────────────────────────┼───────────────┤\n",
       "│ conv2d_1 (\u001b[38;5;33mConv2D\u001b[0m)               │ (\u001b[38;5;45mNone\u001b[0m, \u001b[38;5;34m40\u001b[0m, \u001b[38;5;34m40\u001b[0m, \u001b[38;5;34m128\u001b[0m)    │       \u001b[38;5;34m401,536\u001b[0m │\n",
       "├─────────────────────────────────┼────────────────────────┼───────────────┤\n",
       "│ max_pooling2d_1 (\u001b[38;5;33mMaxPooling2D\u001b[0m)  │ (\u001b[38;5;45mNone\u001b[0m, \u001b[38;5;34m20\u001b[0m, \u001b[38;5;34m20\u001b[0m, \u001b[38;5;34m128\u001b[0m)    │             \u001b[38;5;34m0\u001b[0m │\n",
       "├─────────────────────────────────┼────────────────────────┼───────────────┤\n",
       "│ conv2d_2 (\u001b[38;5;33mConv2D\u001b[0m)               │ (\u001b[38;5;45mNone\u001b[0m, \u001b[38;5;34m17\u001b[0m, \u001b[38;5;34m17\u001b[0m, \u001b[38;5;34m128\u001b[0m)    │       \u001b[38;5;34m262,272\u001b[0m │\n",
       "├─────────────────────────────────┼────────────────────────┼───────────────┤\n",
       "│ max_pooling2d_2 (\u001b[38;5;33mMaxPooling2D\u001b[0m)  │ (\u001b[38;5;45mNone\u001b[0m, \u001b[38;5;34m9\u001b[0m, \u001b[38;5;34m9\u001b[0m, \u001b[38;5;34m128\u001b[0m)      │             \u001b[38;5;34m0\u001b[0m │\n",
       "├─────────────────────────────────┼────────────────────────┼───────────────┤\n",
       "│ conv2d_3 (\u001b[38;5;33mConv2D\u001b[0m)               │ (\u001b[38;5;45mNone\u001b[0m, \u001b[38;5;34m6\u001b[0m, \u001b[38;5;34m6\u001b[0m, \u001b[38;5;34m256\u001b[0m)      │       \u001b[38;5;34m524,544\u001b[0m │\n",
       "├─────────────────────────────────┼────────────────────────┼───────────────┤\n",
       "│ flatten (\u001b[38;5;33mFlatten\u001b[0m)               │ (\u001b[38;5;45mNone\u001b[0m, \u001b[38;5;34m9216\u001b[0m)           │             \u001b[38;5;34m0\u001b[0m │\n",
       "├─────────────────────────────────┼────────────────────────┼───────────────┤\n",
       "│ dense (\u001b[38;5;33mDense\u001b[0m)                   │ (\u001b[38;5;45mNone\u001b[0m, \u001b[38;5;34m4096\u001b[0m)           │    \u001b[38;5;34m37,752,832\u001b[0m │\n",
       "└─────────────────────────────────┴────────────────────────┴───────────────┘\n"
      ]
     },
     "metadata": {},
     "output_type": "display_data"
    },
    {
     "data": {
      "text/html": [
       "<pre style=\"white-space:pre;overflow-x:auto;line-height:normal;font-family:Menlo,'DejaVu Sans Mono',consolas,'Courier New',monospace\"><span style=\"font-weight: bold\"> Total params: </span><span style=\"color: #00af00; text-decoration-color: #00af00\">38,960,448</span> (148.62 MB)\n",
       "</pre>\n"
      ],
      "text/plain": [
       "\u001b[1m Total params: \u001b[0m\u001b[38;5;34m38,960,448\u001b[0m (148.62 MB)\n"
      ]
     },
     "metadata": {},
     "output_type": "display_data"
    },
    {
     "data": {
      "text/html": [
       "<pre style=\"white-space:pre;overflow-x:auto;line-height:normal;font-family:Menlo,'DejaVu Sans Mono',consolas,'Courier New',monospace\"><span style=\"font-weight: bold\"> Trainable params: </span><span style=\"color: #00af00; text-decoration-color: #00af00\">38,960,448</span> (148.62 MB)\n",
       "</pre>\n"
      ],
      "text/plain": [
       "\u001b[1m Trainable params: \u001b[0m\u001b[38;5;34m38,960,448\u001b[0m (148.62 MB)\n"
      ]
     },
     "metadata": {},
     "output_type": "display_data"
    },
    {
     "data": {
      "text/html": [
       "<pre style=\"white-space:pre;overflow-x:auto;line-height:normal;font-family:Menlo,'DejaVu Sans Mono',consolas,'Courier New',monospace\"><span style=\"font-weight: bold\"> Non-trainable params: </span><span style=\"color: #00af00; text-decoration-color: #00af00\">0</span> (0.00 B)\n",
       "</pre>\n"
      ],
      "text/plain": [
       "\u001b[1m Non-trainable params: \u001b[0m\u001b[38;5;34m0\u001b[0m (0.00 B)\n"
      ]
     },
     "metadata": {},
     "output_type": "display_data"
    }
   ],
   "source": [
    "mod.summary()"
   ]
  },
  {
   "cell_type": "code",
   "execution_count": 50,
   "id": "3bdf6050-75fd-416f-bbb9-f274af283fd4",
   "metadata": {},
   "outputs": [],
   "source": [
    "def make_embedding():\n",
    "\n",
    "    # First Layer\n",
    "    inp = Input(shape=(100,100,3), name=\"input_img\")\n",
    "    c1 = Conv2D(64, (10,10), activation='relu')(inp)\n",
    "    m1 = MaxPooling2D(64, (2,2), padding='same')(c1)\n",
    "\n",
    "    # Second Layer\n",
    "    cl2 = Conv2D(128, (7,7), activation='relu')(m1)\n",
    "    m2 = MaxPooling2D(64, (2,2), padding='same')(cl2)\n",
    "\n",
    "    # Third Layer\n",
    "    cl3 = Conv2D(128, (4,4), activation='relu')(m2)\n",
    "    m3 = MaxPooling2D(64, (2,2), padding='same')(cl3)\n",
    "\n",
    "    # Fourth Layer \n",
    "    cl4 = Conv2D(256, (4,4), activation='relu')(m3)\n",
    "\n",
    "    # flattning all the output of CNN layer which are in 3D into a single Dimension\n",
    "    f1 = Flatten()(cl4)\n",
    "    d1 = Dense(4096, activation='sigmoid')(f1)\n",
    "\n",
    "    return Model(inputs=[inp], outputs=[d1], name=\"Embedding\")"
   ]
  },
  {
   "cell_type": "code",
   "execution_count": 51,
   "id": "1fe70ba8-7b1f-481d-bac5-89faab0ceb0d",
   "metadata": {},
   "outputs": [
    {
     "data": {
      "text/html": [
       "<pre style=\"white-space:pre;overflow-x:auto;line-height:normal;font-family:Menlo,'DejaVu Sans Mono',consolas,'Courier New',monospace\"><span style=\"font-weight: bold\">Model: \"Embedding\"</span>\n",
       "</pre>\n"
      ],
      "text/plain": [
       "\u001b[1mModel: \"Embedding\"\u001b[0m\n"
      ]
     },
     "metadata": {},
     "output_type": "display_data"
    },
    {
     "data": {
      "text/html": [
       "<pre style=\"white-space:pre;overflow-x:auto;line-height:normal;font-family:Menlo,'DejaVu Sans Mono',consolas,'Courier New',monospace\">┏━━━━━━━━━━━━━━━━━━━━━━━━━━━━━━━━━┳━━━━━━━━━━━━━━━━━━━━━━━━┳━━━━━━━━━━━━━━━┓\n",
       "┃<span style=\"font-weight: bold\"> Layer (type)                    </span>┃<span style=\"font-weight: bold\"> Output Shape           </span>┃<span style=\"font-weight: bold\">       Param # </span>┃\n",
       "┡━━━━━━━━━━━━━━━━━━━━━━━━━━━━━━━━━╇━━━━━━━━━━━━━━━━━━━━━━━━╇━━━━━━━━━━━━━━━┩\n",
       "│ input_img (<span style=\"color: #0087ff; text-decoration-color: #0087ff\">InputLayer</span>)          │ (<span style=\"color: #00d7ff; text-decoration-color: #00d7ff\">None</span>, <span style=\"color: #00af00; text-decoration-color: #00af00\">100</span>, <span style=\"color: #00af00; text-decoration-color: #00af00\">100</span>, <span style=\"color: #00af00; text-decoration-color: #00af00\">3</span>)    │             <span style=\"color: #00af00; text-decoration-color: #00af00\">0</span> │\n",
       "├─────────────────────────────────┼────────────────────────┼───────────────┤\n",
       "│ conv2d_4 (<span style=\"color: #0087ff; text-decoration-color: #0087ff\">Conv2D</span>)               │ (<span style=\"color: #00d7ff; text-decoration-color: #00d7ff\">None</span>, <span style=\"color: #00af00; text-decoration-color: #00af00\">91</span>, <span style=\"color: #00af00; text-decoration-color: #00af00\">91</span>, <span style=\"color: #00af00; text-decoration-color: #00af00\">64</span>)     │        <span style=\"color: #00af00; text-decoration-color: #00af00\">19,264</span> │\n",
       "├─────────────────────────────────┼────────────────────────┼───────────────┤\n",
       "│ max_pooling2d_3 (<span style=\"color: #0087ff; text-decoration-color: #0087ff\">MaxPooling2D</span>)  │ (<span style=\"color: #00d7ff; text-decoration-color: #00d7ff\">None</span>, <span style=\"color: #00af00; text-decoration-color: #00af00\">46</span>, <span style=\"color: #00af00; text-decoration-color: #00af00\">46</span>, <span style=\"color: #00af00; text-decoration-color: #00af00\">64</span>)     │             <span style=\"color: #00af00; text-decoration-color: #00af00\">0</span> │\n",
       "├─────────────────────────────────┼────────────────────────┼───────────────┤\n",
       "│ conv2d_5 (<span style=\"color: #0087ff; text-decoration-color: #0087ff\">Conv2D</span>)               │ (<span style=\"color: #00d7ff; text-decoration-color: #00d7ff\">None</span>, <span style=\"color: #00af00; text-decoration-color: #00af00\">40</span>, <span style=\"color: #00af00; text-decoration-color: #00af00\">40</span>, <span style=\"color: #00af00; text-decoration-color: #00af00\">128</span>)    │       <span style=\"color: #00af00; text-decoration-color: #00af00\">401,536</span> │\n",
       "├─────────────────────────────────┼────────────────────────┼───────────────┤\n",
       "│ max_pooling2d_4 (<span style=\"color: #0087ff; text-decoration-color: #0087ff\">MaxPooling2D</span>)  │ (<span style=\"color: #00d7ff; text-decoration-color: #00d7ff\">None</span>, <span style=\"color: #00af00; text-decoration-color: #00af00\">20</span>, <span style=\"color: #00af00; text-decoration-color: #00af00\">20</span>, <span style=\"color: #00af00; text-decoration-color: #00af00\">128</span>)    │             <span style=\"color: #00af00; text-decoration-color: #00af00\">0</span> │\n",
       "├─────────────────────────────────┼────────────────────────┼───────────────┤\n",
       "│ conv2d_6 (<span style=\"color: #0087ff; text-decoration-color: #0087ff\">Conv2D</span>)               │ (<span style=\"color: #00d7ff; text-decoration-color: #00d7ff\">None</span>, <span style=\"color: #00af00; text-decoration-color: #00af00\">17</span>, <span style=\"color: #00af00; text-decoration-color: #00af00\">17</span>, <span style=\"color: #00af00; text-decoration-color: #00af00\">128</span>)    │       <span style=\"color: #00af00; text-decoration-color: #00af00\">262,272</span> │\n",
       "├─────────────────────────────────┼────────────────────────┼───────────────┤\n",
       "│ max_pooling2d_5 (<span style=\"color: #0087ff; text-decoration-color: #0087ff\">MaxPooling2D</span>)  │ (<span style=\"color: #00d7ff; text-decoration-color: #00d7ff\">None</span>, <span style=\"color: #00af00; text-decoration-color: #00af00\">9</span>, <span style=\"color: #00af00; text-decoration-color: #00af00\">9</span>, <span style=\"color: #00af00; text-decoration-color: #00af00\">128</span>)      │             <span style=\"color: #00af00; text-decoration-color: #00af00\">0</span> │\n",
       "├─────────────────────────────────┼────────────────────────┼───────────────┤\n",
       "│ conv2d_7 (<span style=\"color: #0087ff; text-decoration-color: #0087ff\">Conv2D</span>)               │ (<span style=\"color: #00d7ff; text-decoration-color: #00d7ff\">None</span>, <span style=\"color: #00af00; text-decoration-color: #00af00\">6</span>, <span style=\"color: #00af00; text-decoration-color: #00af00\">6</span>, <span style=\"color: #00af00; text-decoration-color: #00af00\">256</span>)      │       <span style=\"color: #00af00; text-decoration-color: #00af00\">524,544</span> │\n",
       "├─────────────────────────────────┼────────────────────────┼───────────────┤\n",
       "│ flatten_1 (<span style=\"color: #0087ff; text-decoration-color: #0087ff\">Flatten</span>)             │ (<span style=\"color: #00d7ff; text-decoration-color: #00d7ff\">None</span>, <span style=\"color: #00af00; text-decoration-color: #00af00\">9216</span>)           │             <span style=\"color: #00af00; text-decoration-color: #00af00\">0</span> │\n",
       "├─────────────────────────────────┼────────────────────────┼───────────────┤\n",
       "│ dense_1 (<span style=\"color: #0087ff; text-decoration-color: #0087ff\">Dense</span>)                 │ (<span style=\"color: #00d7ff; text-decoration-color: #00d7ff\">None</span>, <span style=\"color: #00af00; text-decoration-color: #00af00\">4096</span>)           │    <span style=\"color: #00af00; text-decoration-color: #00af00\">37,752,832</span> │\n",
       "└─────────────────────────────────┴────────────────────────┴───────────────┘\n",
       "</pre>\n"
      ],
      "text/plain": [
       "┏━━━━━━━━━━━━━━━━━━━━━━━━━━━━━━━━━┳━━━━━━━━━━━━━━━━━━━━━━━━┳━━━━━━━━━━━━━━━┓\n",
       "┃\u001b[1m \u001b[0m\u001b[1mLayer (type)                   \u001b[0m\u001b[1m \u001b[0m┃\u001b[1m \u001b[0m\u001b[1mOutput Shape          \u001b[0m\u001b[1m \u001b[0m┃\u001b[1m \u001b[0m\u001b[1m      Param #\u001b[0m\u001b[1m \u001b[0m┃\n",
       "┡━━━━━━━━━━━━━━━━━━━━━━━━━━━━━━━━━╇━━━━━━━━━━━━━━━━━━━━━━━━╇━━━━━━━━━━━━━━━┩\n",
       "│ input_img (\u001b[38;5;33mInputLayer\u001b[0m)          │ (\u001b[38;5;45mNone\u001b[0m, \u001b[38;5;34m100\u001b[0m, \u001b[38;5;34m100\u001b[0m, \u001b[38;5;34m3\u001b[0m)    │             \u001b[38;5;34m0\u001b[0m │\n",
       "├─────────────────────────────────┼────────────────────────┼───────────────┤\n",
       "│ conv2d_4 (\u001b[38;5;33mConv2D\u001b[0m)               │ (\u001b[38;5;45mNone\u001b[0m, \u001b[38;5;34m91\u001b[0m, \u001b[38;5;34m91\u001b[0m, \u001b[38;5;34m64\u001b[0m)     │        \u001b[38;5;34m19,264\u001b[0m │\n",
       "├─────────────────────────────────┼────────────────────────┼───────────────┤\n",
       "│ max_pooling2d_3 (\u001b[38;5;33mMaxPooling2D\u001b[0m)  │ (\u001b[38;5;45mNone\u001b[0m, \u001b[38;5;34m46\u001b[0m, \u001b[38;5;34m46\u001b[0m, \u001b[38;5;34m64\u001b[0m)     │             \u001b[38;5;34m0\u001b[0m │\n",
       "├─────────────────────────────────┼────────────────────────┼───────────────┤\n",
       "│ conv2d_5 (\u001b[38;5;33mConv2D\u001b[0m)               │ (\u001b[38;5;45mNone\u001b[0m, \u001b[38;5;34m40\u001b[0m, \u001b[38;5;34m40\u001b[0m, \u001b[38;5;34m128\u001b[0m)    │       \u001b[38;5;34m401,536\u001b[0m │\n",
       "├─────────────────────────────────┼────────────────────────┼───────────────┤\n",
       "│ max_pooling2d_4 (\u001b[38;5;33mMaxPooling2D\u001b[0m)  │ (\u001b[38;5;45mNone\u001b[0m, \u001b[38;5;34m20\u001b[0m, \u001b[38;5;34m20\u001b[0m, \u001b[38;5;34m128\u001b[0m)    │             \u001b[38;5;34m0\u001b[0m │\n",
       "├─────────────────────────────────┼────────────────────────┼───────────────┤\n",
       "│ conv2d_6 (\u001b[38;5;33mConv2D\u001b[0m)               │ (\u001b[38;5;45mNone\u001b[0m, \u001b[38;5;34m17\u001b[0m, \u001b[38;5;34m17\u001b[0m, \u001b[38;5;34m128\u001b[0m)    │       \u001b[38;5;34m262,272\u001b[0m │\n",
       "├─────────────────────────────────┼────────────────────────┼───────────────┤\n",
       "│ max_pooling2d_5 (\u001b[38;5;33mMaxPooling2D\u001b[0m)  │ (\u001b[38;5;45mNone\u001b[0m, \u001b[38;5;34m9\u001b[0m, \u001b[38;5;34m9\u001b[0m, \u001b[38;5;34m128\u001b[0m)      │             \u001b[38;5;34m0\u001b[0m │\n",
       "├─────────────────────────────────┼────────────────────────┼───────────────┤\n",
       "│ conv2d_7 (\u001b[38;5;33mConv2D\u001b[0m)               │ (\u001b[38;5;45mNone\u001b[0m, \u001b[38;5;34m6\u001b[0m, \u001b[38;5;34m6\u001b[0m, \u001b[38;5;34m256\u001b[0m)      │       \u001b[38;5;34m524,544\u001b[0m │\n",
       "├─────────────────────────────────┼────────────────────────┼───────────────┤\n",
       "│ flatten_1 (\u001b[38;5;33mFlatten\u001b[0m)             │ (\u001b[38;5;45mNone\u001b[0m, \u001b[38;5;34m9216\u001b[0m)           │             \u001b[38;5;34m0\u001b[0m │\n",
       "├─────────────────────────────────┼────────────────────────┼───────────────┤\n",
       "│ dense_1 (\u001b[38;5;33mDense\u001b[0m)                 │ (\u001b[38;5;45mNone\u001b[0m, \u001b[38;5;34m4096\u001b[0m)           │    \u001b[38;5;34m37,752,832\u001b[0m │\n",
       "└─────────────────────────────────┴────────────────────────┴───────────────┘\n"
      ]
     },
     "metadata": {},
     "output_type": "display_data"
    },
    {
     "data": {
      "text/html": [
       "<pre style=\"white-space:pre;overflow-x:auto;line-height:normal;font-family:Menlo,'DejaVu Sans Mono',consolas,'Courier New',monospace\"><span style=\"font-weight: bold\"> Total params: </span><span style=\"color: #00af00; text-decoration-color: #00af00\">38,960,448</span> (148.62 MB)\n",
       "</pre>\n"
      ],
      "text/plain": [
       "\u001b[1m Total params: \u001b[0m\u001b[38;5;34m38,960,448\u001b[0m (148.62 MB)\n"
      ]
     },
     "metadata": {},
     "output_type": "display_data"
    },
    {
     "data": {
      "text/html": [
       "<pre style=\"white-space:pre;overflow-x:auto;line-height:normal;font-family:Menlo,'DejaVu Sans Mono',consolas,'Courier New',monospace\"><span style=\"font-weight: bold\"> Trainable params: </span><span style=\"color: #00af00; text-decoration-color: #00af00\">38,960,448</span> (148.62 MB)\n",
       "</pre>\n"
      ],
      "text/plain": [
       "\u001b[1m Trainable params: \u001b[0m\u001b[38;5;34m38,960,448\u001b[0m (148.62 MB)\n"
      ]
     },
     "metadata": {},
     "output_type": "display_data"
    },
    {
     "data": {
      "text/html": [
       "<pre style=\"white-space:pre;overflow-x:auto;line-height:normal;font-family:Menlo,'DejaVu Sans Mono',consolas,'Courier New',monospace\"><span style=\"font-weight: bold\"> Non-trainable params: </span><span style=\"color: #00af00; text-decoration-color: #00af00\">0</span> (0.00 B)\n",
       "</pre>\n"
      ],
      "text/plain": [
       "\u001b[1m Non-trainable params: \u001b[0m\u001b[38;5;34m0\u001b[0m (0.00 B)\n"
      ]
     },
     "metadata": {},
     "output_type": "display_data"
    }
   ],
   "source": [
    "em = make_embedding()\n",
    "em.summary()"
   ]
  },
  {
   "cell_type": "code",
   "execution_count": 52,
   "id": "6ad8d6de-6004-43c0-8b5b-f9cd586c812f",
   "metadata": {},
   "outputs": [
    {
     "data": {
      "text/plain": [
       "keras.src.models.functional.Functional"
      ]
     },
     "execution_count": 52,
     "metadata": {},
     "output_type": "execute_result"
    }
   ],
   "source": [
    "type(em)"
   ]
  },
  {
   "cell_type": "code",
   "execution_count": 53,
   "id": "6a110c66-4ea4-405f-b4fe-c6c044c74a24",
   "metadata": {},
   "outputs": [],
   "source": [
    "# BUILDING DISTANCE LAYER"
   ]
  },
  {
   "cell_type": "code",
   "execution_count": 54,
   "id": "450575d6-2cdb-4170-8916-e48198aea644",
   "metadata": {},
   "outputs": [],
   "source": [
    "class L1Dist(Layer):\n",
    "\n",
    "    def __init__(self, **kwargs):\n",
    "        super().__init__()\n",
    "\n",
    "    def call(self, input_embedding, validation_embedding):\n",
    "        return tf.math.abs(input_embedding - validation_embedding)\n",
    "\n",
    "# Subtracting cause we want to determine the similarity between them"
   ]
  },
  {
   "cell_type": "code",
   "execution_count": 55,
   "id": "7641e258-fe6f-4d0d-b713-59d3e0203ce4",
   "metadata": {},
   "outputs": [],
   "source": [
    "em = tf.keras.Sequential([\n",
    "    tf.keras.layers.Conv2D(32, (3, 3), activation='relu'),\n",
    "    tf.keras.layers.MaxPooling2D((2, 2)),\n",
    "    tf.keras.layers.Flatten()\n",
    "])"
   ]
  },
  {
   "cell_type": "code",
   "execution_count": 56,
   "id": "ba8c5e8d-ea6e-4770-98dd-2ecdf28a9069",
   "metadata": {},
   "outputs": [],
   "source": [
    "input_image = Input(name='input_img', shape=(100,100,3))\n",
    "validation_image = Input(name='validation_img', shape=(100, 100, 3))"
   ]
  },
  {
   "cell_type": "code",
   "execution_count": 57,
   "id": "48341f49-bcae-4dbc-981b-a7b5441504af",
   "metadata": {},
   "outputs": [
    {
     "data": {
      "text/plain": [
       "<KerasTensor shape=(None, 76832), dtype=float32, sparse=False, name=keras_tensor_22>"
      ]
     },
     "execution_count": 57,
     "metadata": {},
     "output_type": "execute_result"
    }
   ],
   "source": [
    "em(input_image)"
   ]
  },
  {
   "cell_type": "code",
   "execution_count": 58,
   "id": "61fe9207-af2b-4d8e-96e2-722812253568",
   "metadata": {},
   "outputs": [],
   "source": [
    "inp_embedding = em(input_image)\n",
    "val_embedding = em(validation_image)"
   ]
  },
  {
   "cell_type": "code",
   "execution_count": 59,
   "id": "a8ed82b3-b9b4-4338-a390-f28c4e2f3c17",
   "metadata": {},
   "outputs": [
    {
     "name": "stdout",
     "output_type": "stream",
     "text": [
      "<class 'keras.src.backend.common.keras_tensor.KerasTensor'>\n"
     ]
    }
   ],
   "source": [
    "print(type(inp_embedding))"
   ]
  },
  {
   "cell_type": "code",
   "execution_count": 60,
   "id": "995cef15-ae12-40eb-bdd3-050d0572f988",
   "metadata": {},
   "outputs": [],
   "source": [
    "siamese_layer = L1Dist()"
   ]
  },
  {
   "cell_type": "code",
   "execution_count": 61,
   "id": "c1713c87-8164-4451-86ac-c2b22bfebcb0",
   "metadata": {},
   "outputs": [
    {
     "name": "stdout",
     "output_type": "stream",
     "text": [
      "WARNING:tensorflow:From c:\\Users\\daksh\\Desktop\\SOP\\my_venv\\Lib\\site-packages\\keras\\src\\backend\\tensorflow\\core.py:184: The name tf.placeholder is deprecated. Please use tf.compat.v1.placeholder instead.\n",
      "\n"
     ]
    }
   ],
   "source": [
    "distances = siamese_layer(inp_embedding, val_embedding)"
   ]
  },
  {
   "cell_type": "code",
   "execution_count": 62,
   "id": "216c8d29-3dba-4667-973d-b14a10d89b6b",
   "metadata": {},
   "outputs": [
    {
     "data": {
      "text/plain": [
       "keras.src.backend.common.keras_tensor.KerasTensor"
      ]
     },
     "execution_count": 62,
     "metadata": {},
     "output_type": "execute_result"
    }
   ],
   "source": [
    "type(distances)"
   ]
  },
  {
   "cell_type": "code",
   "execution_count": 63,
   "id": "3b0abd9b-e980-41e4-be3e-1162040a4ce7",
   "metadata": {},
   "outputs": [],
   "source": [
    "classifier = Dense(1, activation='sigmoid')(distances)"
   ]
  },
  {
   "cell_type": "code",
   "execution_count": 64,
   "id": "5eba78f8-2e1b-45ed-b250-8a924941d1f3",
   "metadata": {},
   "outputs": [
    {
     "data": {
      "text/html": [
       "<pre style=\"white-space:pre;overflow-x:auto;line-height:normal;font-family:Menlo,'DejaVu Sans Mono',consolas,'Courier New',monospace\"><span style=\"font-weight: bold\">Model: \"SiameseNetwork\"</span>\n",
       "</pre>\n"
      ],
      "text/plain": [
       "\u001b[1mModel: \"SiameseNetwork\"\u001b[0m\n"
      ]
     },
     "metadata": {},
     "output_type": "display_data"
    },
    {
     "data": {
      "text/html": [
       "<pre style=\"white-space:pre;overflow-x:auto;line-height:normal;font-family:Menlo,'DejaVu Sans Mono',consolas,'Courier New',monospace\">┏━━━━━━━━━━━━━━━━━━━━━┳━━━━━━━━━━━━━━━━━━━┳━━━━━━━━━━━━┳━━━━━━━━━━━━━━━━━━━┓\n",
       "┃<span style=\"font-weight: bold\"> Layer (type)        </span>┃<span style=\"font-weight: bold\"> Output Shape      </span>┃<span style=\"font-weight: bold\">    Param # </span>┃<span style=\"font-weight: bold\"> Connected to      </span>┃\n",
       "┡━━━━━━━━━━━━━━━━━━━━━╇━━━━━━━━━━━━━━━━━━━╇━━━━━━━━━━━━╇━━━━━━━━━━━━━━━━━━━┩\n",
       "│ input_img           │ (<span style=\"color: #00d7ff; text-decoration-color: #00d7ff\">None</span>, <span style=\"color: #00af00; text-decoration-color: #00af00\">100</span>, <span style=\"color: #00af00; text-decoration-color: #00af00\">100</span>,  │          <span style=\"color: #00af00; text-decoration-color: #00af00\">0</span> │ -                 │\n",
       "│ (<span style=\"color: #0087ff; text-decoration-color: #0087ff\">InputLayer</span>)        │ <span style=\"color: #00af00; text-decoration-color: #00af00\">3</span>)                │            │                   │\n",
       "├─────────────────────┼───────────────────┼────────────┼───────────────────┤\n",
       "│ validation_img      │ (<span style=\"color: #00d7ff; text-decoration-color: #00d7ff\">None</span>, <span style=\"color: #00af00; text-decoration-color: #00af00\">100</span>, <span style=\"color: #00af00; text-decoration-color: #00af00\">100</span>,  │          <span style=\"color: #00af00; text-decoration-color: #00af00\">0</span> │ -                 │\n",
       "│ (<span style=\"color: #0087ff; text-decoration-color: #0087ff\">InputLayer</span>)        │ <span style=\"color: #00af00; text-decoration-color: #00af00\">3</span>)                │            │                   │\n",
       "├─────────────────────┼───────────────────┼────────────┼───────────────────┤\n",
       "│ sequential          │ (<span style=\"color: #00d7ff; text-decoration-color: #00d7ff\">None</span>, <span style=\"color: #00af00; text-decoration-color: #00af00\">76832</span>)     │        <span style=\"color: #00af00; text-decoration-color: #00af00\">896</span> │ input_img[<span style=\"color: #00af00; text-decoration-color: #00af00\">0</span>][<span style=\"color: #00af00; text-decoration-color: #00af00\">0</span>],  │\n",
       "│ (<span style=\"color: #0087ff; text-decoration-color: #0087ff\">Sequential</span>)        │                   │            │ validation_img[<span style=\"color: #00af00; text-decoration-color: #00af00\">0</span>… │\n",
       "├─────────────────────┼───────────────────┼────────────┼───────────────────┤\n",
       "│ l1_dist (<span style=\"color: #0087ff; text-decoration-color: #0087ff\">L1Dist</span>)    │ (<span style=\"color: #00d7ff; text-decoration-color: #00d7ff\">None</span>, <span style=\"color: #00af00; text-decoration-color: #00af00\">76832</span>)     │          <span style=\"color: #00af00; text-decoration-color: #00af00\">0</span> │ sequential[<span style=\"color: #00af00; text-decoration-color: #00af00\">1</span>][<span style=\"color: #00af00; text-decoration-color: #00af00\">0</span>], │\n",
       "│                     │                   │            │ sequential[<span style=\"color: #00af00; text-decoration-color: #00af00\">2</span>][<span style=\"color: #00af00; text-decoration-color: #00af00\">0</span>]  │\n",
       "├─────────────────────┼───────────────────┼────────────┼───────────────────┤\n",
       "│ dense_2 (<span style=\"color: #0087ff; text-decoration-color: #0087ff\">Dense</span>)     │ (<span style=\"color: #00d7ff; text-decoration-color: #00d7ff\">None</span>, <span style=\"color: #00af00; text-decoration-color: #00af00\">1</span>)         │     <span style=\"color: #00af00; text-decoration-color: #00af00\">76,833</span> │ l1_dist[<span style=\"color: #00af00; text-decoration-color: #00af00\">0</span>][<span style=\"color: #00af00; text-decoration-color: #00af00\">0</span>]     │\n",
       "└─────────────────────┴───────────────────┴────────────┴───────────────────┘\n",
       "</pre>\n"
      ],
      "text/plain": [
       "┏━━━━━━━━━━━━━━━━━━━━━┳━━━━━━━━━━━━━━━━━━━┳━━━━━━━━━━━━┳━━━━━━━━━━━━━━━━━━━┓\n",
       "┃\u001b[1m \u001b[0m\u001b[1mLayer (type)       \u001b[0m\u001b[1m \u001b[0m┃\u001b[1m \u001b[0m\u001b[1mOutput Shape     \u001b[0m\u001b[1m \u001b[0m┃\u001b[1m \u001b[0m\u001b[1m   Param #\u001b[0m\u001b[1m \u001b[0m┃\u001b[1m \u001b[0m\u001b[1mConnected to     \u001b[0m\u001b[1m \u001b[0m┃\n",
       "┡━━━━━━━━━━━━━━━━━━━━━╇━━━━━━━━━━━━━━━━━━━╇━━━━━━━━━━━━╇━━━━━━━━━━━━━━━━━━━┩\n",
       "│ input_img           │ (\u001b[38;5;45mNone\u001b[0m, \u001b[38;5;34m100\u001b[0m, \u001b[38;5;34m100\u001b[0m,  │          \u001b[38;5;34m0\u001b[0m │ -                 │\n",
       "│ (\u001b[38;5;33mInputLayer\u001b[0m)        │ \u001b[38;5;34m3\u001b[0m)                │            │                   │\n",
       "├─────────────────────┼───────────────────┼────────────┼───────────────────┤\n",
       "│ validation_img      │ (\u001b[38;5;45mNone\u001b[0m, \u001b[38;5;34m100\u001b[0m, \u001b[38;5;34m100\u001b[0m,  │          \u001b[38;5;34m0\u001b[0m │ -                 │\n",
       "│ (\u001b[38;5;33mInputLayer\u001b[0m)        │ \u001b[38;5;34m3\u001b[0m)                │            │                   │\n",
       "├─────────────────────┼───────────────────┼────────────┼───────────────────┤\n",
       "│ sequential          │ (\u001b[38;5;45mNone\u001b[0m, \u001b[38;5;34m76832\u001b[0m)     │        \u001b[38;5;34m896\u001b[0m │ input_img[\u001b[38;5;34m0\u001b[0m][\u001b[38;5;34m0\u001b[0m],  │\n",
       "│ (\u001b[38;5;33mSequential\u001b[0m)        │                   │            │ validation_img[\u001b[38;5;34m0\u001b[0m… │\n",
       "├─────────────────────┼───────────────────┼────────────┼───────────────────┤\n",
       "│ l1_dist (\u001b[38;5;33mL1Dist\u001b[0m)    │ (\u001b[38;5;45mNone\u001b[0m, \u001b[38;5;34m76832\u001b[0m)     │          \u001b[38;5;34m0\u001b[0m │ sequential[\u001b[38;5;34m1\u001b[0m][\u001b[38;5;34m0\u001b[0m], │\n",
       "│                     │                   │            │ sequential[\u001b[38;5;34m2\u001b[0m][\u001b[38;5;34m0\u001b[0m]  │\n",
       "├─────────────────────┼───────────────────┼────────────┼───────────────────┤\n",
       "│ dense_2 (\u001b[38;5;33mDense\u001b[0m)     │ (\u001b[38;5;45mNone\u001b[0m, \u001b[38;5;34m1\u001b[0m)         │     \u001b[38;5;34m76,833\u001b[0m │ l1_dist[\u001b[38;5;34m0\u001b[0m][\u001b[38;5;34m0\u001b[0m]     │\n",
       "└─────────────────────┴───────────────────┴────────────┴───────────────────┘\n"
      ]
     },
     "metadata": {},
     "output_type": "display_data"
    },
    {
     "data": {
      "text/html": [
       "<pre style=\"white-space:pre;overflow-x:auto;line-height:normal;font-family:Menlo,'DejaVu Sans Mono',consolas,'Courier New',monospace\"><span style=\"font-weight: bold\"> Total params: </span><span style=\"color: #00af00; text-decoration-color: #00af00\">77,729</span> (303.63 KB)\n",
       "</pre>\n"
      ],
      "text/plain": [
       "\u001b[1m Total params: \u001b[0m\u001b[38;5;34m77,729\u001b[0m (303.63 KB)\n"
      ]
     },
     "metadata": {},
     "output_type": "display_data"
    },
    {
     "data": {
      "text/html": [
       "<pre style=\"white-space:pre;overflow-x:auto;line-height:normal;font-family:Menlo,'DejaVu Sans Mono',consolas,'Courier New',monospace\"><span style=\"font-weight: bold\"> Trainable params: </span><span style=\"color: #00af00; text-decoration-color: #00af00\">77,729</span> (303.63 KB)\n",
       "</pre>\n"
      ],
      "text/plain": [
       "\u001b[1m Trainable params: \u001b[0m\u001b[38;5;34m77,729\u001b[0m (303.63 KB)\n"
      ]
     },
     "metadata": {},
     "output_type": "display_data"
    },
    {
     "data": {
      "text/html": [
       "<pre style=\"white-space:pre;overflow-x:auto;line-height:normal;font-family:Menlo,'DejaVu Sans Mono',consolas,'Courier New',monospace\"><span style=\"font-weight: bold\"> Non-trainable params: </span><span style=\"color: #00af00; text-decoration-color: #00af00\">0</span> (0.00 B)\n",
       "</pre>\n"
      ],
      "text/plain": [
       "\u001b[1m Non-trainable params: \u001b[0m\u001b[38;5;34m0\u001b[0m (0.00 B)\n"
      ]
     },
     "metadata": {},
     "output_type": "display_data"
    }
   ],
   "source": [
    "siamese_network = Model(inputs=[input_image, validation_image], outputs=classifier, name='SiameseNetwork')\n",
    "siamese_network.summary()"
   ]
  },
  {
   "cell_type": "code",
   "execution_count": 65,
   "id": "b6213297-4499-4527-8e84-147ea40b524f",
   "metadata": {},
   "outputs": [],
   "source": [
    "def make_siamese_model():\n",
    "\n",
    "    # Anchor image as input\n",
    "    input_image = Input(name='input_img', shape=(100, 100, 3))\n",
    "\n",
    "    # Validation image - Positive/Negative\n",
    "    validation_image = Input(name='validation_img', shape=(100, 100, 3))\n",
    "\n",
    "    # Combining all components\n",
    "    siamese_layer = L1Dist()\n",
    "    siamese_layer._name = 'distance'\n",
    "    distances = siamese_layer(em(input_image), em(validation_image))\n",
    "\n",
    "    # Classification Layer\n",
    "    classifier = Dense(1, activation='sigmoid')(distances)\n",
    "\n",
    "    return Model(inputs=[input_image, validation_image], outputs=classifier, name='SiameseNetwork')"
   ]
  },
  {
   "cell_type": "code",
   "execution_count": 66,
   "id": "3fdaf45e-0d78-492c-be12-36cbc167f144",
   "metadata": {},
   "outputs": [
    {
     "data": {
      "text/html": [
       "<pre style=\"white-space:pre;overflow-x:auto;line-height:normal;font-family:Menlo,'DejaVu Sans Mono',consolas,'Courier New',monospace\"><span style=\"font-weight: bold\">Model: \"SiameseNetwork\"</span>\n",
       "</pre>\n"
      ],
      "text/plain": [
       "\u001b[1mModel: \"SiameseNetwork\"\u001b[0m\n"
      ]
     },
     "metadata": {},
     "output_type": "display_data"
    },
    {
     "data": {
      "text/html": [
       "<pre style=\"white-space:pre;overflow-x:auto;line-height:normal;font-family:Menlo,'DejaVu Sans Mono',consolas,'Courier New',monospace\">┏━━━━━━━━━━━━━━━━━━━━━┳━━━━━━━━━━━━━━━━━━━┳━━━━━━━━━━━━┳━━━━━━━━━━━━━━━━━━━┓\n",
       "┃<span style=\"font-weight: bold\"> Layer (type)        </span>┃<span style=\"font-weight: bold\"> Output Shape      </span>┃<span style=\"font-weight: bold\">    Param # </span>┃<span style=\"font-weight: bold\"> Connected to      </span>┃\n",
       "┡━━━━━━━━━━━━━━━━━━━━━╇━━━━━━━━━━━━━━━━━━━╇━━━━━━━━━━━━╇━━━━━━━━━━━━━━━━━━━┩\n",
       "│ input_img           │ (<span style=\"color: #00d7ff; text-decoration-color: #00d7ff\">None</span>, <span style=\"color: #00af00; text-decoration-color: #00af00\">100</span>, <span style=\"color: #00af00; text-decoration-color: #00af00\">100</span>,  │          <span style=\"color: #00af00; text-decoration-color: #00af00\">0</span> │ -                 │\n",
       "│ (<span style=\"color: #0087ff; text-decoration-color: #0087ff\">InputLayer</span>)        │ <span style=\"color: #00af00; text-decoration-color: #00af00\">3</span>)                │            │                   │\n",
       "├─────────────────────┼───────────────────┼────────────┼───────────────────┤\n",
       "│ validation_img      │ (<span style=\"color: #00d7ff; text-decoration-color: #00d7ff\">None</span>, <span style=\"color: #00af00; text-decoration-color: #00af00\">100</span>, <span style=\"color: #00af00; text-decoration-color: #00af00\">100</span>,  │          <span style=\"color: #00af00; text-decoration-color: #00af00\">0</span> │ -                 │\n",
       "│ (<span style=\"color: #0087ff; text-decoration-color: #0087ff\">InputLayer</span>)        │ <span style=\"color: #00af00; text-decoration-color: #00af00\">3</span>)                │            │                   │\n",
       "├─────────────────────┼───────────────────┼────────────┼───────────────────┤\n",
       "│ sequential          │ (<span style=\"color: #00d7ff; text-decoration-color: #00d7ff\">None</span>, <span style=\"color: #00af00; text-decoration-color: #00af00\">76832</span>)     │        <span style=\"color: #00af00; text-decoration-color: #00af00\">896</span> │ input_img[<span style=\"color: #00af00; text-decoration-color: #00af00\">0</span>][<span style=\"color: #00af00; text-decoration-color: #00af00\">0</span>],  │\n",
       "│ (<span style=\"color: #0087ff; text-decoration-color: #0087ff\">Sequential</span>)        │                   │            │ validation_img[<span style=\"color: #00af00; text-decoration-color: #00af00\">0</span>… │\n",
       "├─────────────────────┼───────────────────┼────────────┼───────────────────┤\n",
       "│ l1_dist_1 (<span style=\"color: #0087ff; text-decoration-color: #0087ff\">L1Dist</span>)  │ (<span style=\"color: #00d7ff; text-decoration-color: #00d7ff\">None</span>, <span style=\"color: #00af00; text-decoration-color: #00af00\">76832</span>)     │          <span style=\"color: #00af00; text-decoration-color: #00af00\">0</span> │ sequential[<span style=\"color: #00af00; text-decoration-color: #00af00\">3</span>][<span style=\"color: #00af00; text-decoration-color: #00af00\">0</span>], │\n",
       "│                     │                   │            │ sequential[<span style=\"color: #00af00; text-decoration-color: #00af00\">4</span>][<span style=\"color: #00af00; text-decoration-color: #00af00\">0</span>]  │\n",
       "├─────────────────────┼───────────────────┼────────────┼───────────────────┤\n",
       "│ dense_3 (<span style=\"color: #0087ff; text-decoration-color: #0087ff\">Dense</span>)     │ (<span style=\"color: #00d7ff; text-decoration-color: #00d7ff\">None</span>, <span style=\"color: #00af00; text-decoration-color: #00af00\">1</span>)         │     <span style=\"color: #00af00; text-decoration-color: #00af00\">76,833</span> │ l1_dist_1[<span style=\"color: #00af00; text-decoration-color: #00af00\">0</span>][<span style=\"color: #00af00; text-decoration-color: #00af00\">0</span>]   │\n",
       "└─────────────────────┴───────────────────┴────────────┴───────────────────┘\n",
       "</pre>\n"
      ],
      "text/plain": [
       "┏━━━━━━━━━━━━━━━━━━━━━┳━━━━━━━━━━━━━━━━━━━┳━━━━━━━━━━━━┳━━━━━━━━━━━━━━━━━━━┓\n",
       "┃\u001b[1m \u001b[0m\u001b[1mLayer (type)       \u001b[0m\u001b[1m \u001b[0m┃\u001b[1m \u001b[0m\u001b[1mOutput Shape     \u001b[0m\u001b[1m \u001b[0m┃\u001b[1m \u001b[0m\u001b[1m   Param #\u001b[0m\u001b[1m \u001b[0m┃\u001b[1m \u001b[0m\u001b[1mConnected to     \u001b[0m\u001b[1m \u001b[0m┃\n",
       "┡━━━━━━━━━━━━━━━━━━━━━╇━━━━━━━━━━━━━━━━━━━╇━━━━━━━━━━━━╇━━━━━━━━━━━━━━━━━━━┩\n",
       "│ input_img           │ (\u001b[38;5;45mNone\u001b[0m, \u001b[38;5;34m100\u001b[0m, \u001b[38;5;34m100\u001b[0m,  │          \u001b[38;5;34m0\u001b[0m │ -                 │\n",
       "│ (\u001b[38;5;33mInputLayer\u001b[0m)        │ \u001b[38;5;34m3\u001b[0m)                │            │                   │\n",
       "├─────────────────────┼───────────────────┼────────────┼───────────────────┤\n",
       "│ validation_img      │ (\u001b[38;5;45mNone\u001b[0m, \u001b[38;5;34m100\u001b[0m, \u001b[38;5;34m100\u001b[0m,  │          \u001b[38;5;34m0\u001b[0m │ -                 │\n",
       "│ (\u001b[38;5;33mInputLayer\u001b[0m)        │ \u001b[38;5;34m3\u001b[0m)                │            │                   │\n",
       "├─────────────────────┼───────────────────┼────────────┼───────────────────┤\n",
       "│ sequential          │ (\u001b[38;5;45mNone\u001b[0m, \u001b[38;5;34m76832\u001b[0m)     │        \u001b[38;5;34m896\u001b[0m │ input_img[\u001b[38;5;34m0\u001b[0m][\u001b[38;5;34m0\u001b[0m],  │\n",
       "│ (\u001b[38;5;33mSequential\u001b[0m)        │                   │            │ validation_img[\u001b[38;5;34m0\u001b[0m… │\n",
       "├─────────────────────┼───────────────────┼────────────┼───────────────────┤\n",
       "│ l1_dist_1 (\u001b[38;5;33mL1Dist\u001b[0m)  │ (\u001b[38;5;45mNone\u001b[0m, \u001b[38;5;34m76832\u001b[0m)     │          \u001b[38;5;34m0\u001b[0m │ sequential[\u001b[38;5;34m3\u001b[0m][\u001b[38;5;34m0\u001b[0m], │\n",
       "│                     │                   │            │ sequential[\u001b[38;5;34m4\u001b[0m][\u001b[38;5;34m0\u001b[0m]  │\n",
       "├─────────────────────┼───────────────────┼────────────┼───────────────────┤\n",
       "│ dense_3 (\u001b[38;5;33mDense\u001b[0m)     │ (\u001b[38;5;45mNone\u001b[0m, \u001b[38;5;34m1\u001b[0m)         │     \u001b[38;5;34m76,833\u001b[0m │ l1_dist_1[\u001b[38;5;34m0\u001b[0m][\u001b[38;5;34m0\u001b[0m]   │\n",
       "└─────────────────────┴───────────────────┴────────────┴───────────────────┘\n"
      ]
     },
     "metadata": {},
     "output_type": "display_data"
    },
    {
     "data": {
      "text/html": [
       "<pre style=\"white-space:pre;overflow-x:auto;line-height:normal;font-family:Menlo,'DejaVu Sans Mono',consolas,'Courier New',monospace\"><span style=\"font-weight: bold\"> Total params: </span><span style=\"color: #00af00; text-decoration-color: #00af00\">77,729</span> (303.63 KB)\n",
       "</pre>\n"
      ],
      "text/plain": [
       "\u001b[1m Total params: \u001b[0m\u001b[38;5;34m77,729\u001b[0m (303.63 KB)\n"
      ]
     },
     "metadata": {},
     "output_type": "display_data"
    },
    {
     "data": {
      "text/html": [
       "<pre style=\"white-space:pre;overflow-x:auto;line-height:normal;font-family:Menlo,'DejaVu Sans Mono',consolas,'Courier New',monospace\"><span style=\"font-weight: bold\"> Trainable params: </span><span style=\"color: #00af00; text-decoration-color: #00af00\">77,729</span> (303.63 KB)\n",
       "</pre>\n"
      ],
      "text/plain": [
       "\u001b[1m Trainable params: \u001b[0m\u001b[38;5;34m77,729\u001b[0m (303.63 KB)\n"
      ]
     },
     "metadata": {},
     "output_type": "display_data"
    },
    {
     "data": {
      "text/html": [
       "<pre style=\"white-space:pre;overflow-x:auto;line-height:normal;font-family:Menlo,'DejaVu Sans Mono',consolas,'Courier New',monospace\"><span style=\"font-weight: bold\"> Non-trainable params: </span><span style=\"color: #00af00; text-decoration-color: #00af00\">0</span> (0.00 B)\n",
       "</pre>\n"
      ],
      "text/plain": [
       "\u001b[1m Non-trainable params: \u001b[0m\u001b[38;5;34m0\u001b[0m (0.00 B)\n"
      ]
     },
     "metadata": {},
     "output_type": "display_data"
    }
   ],
   "source": [
    "siamese_model = make_siamese_model()\n",
    "siamese_model.summary()"
   ]
  },
  {
   "cell_type": "code",
   "execution_count": 65,
   "id": "c182c0f8-a54e-42fc-b9e4-621f9e3f472a",
   "metadata": {},
   "outputs": [],
   "source": [
    "# TRAINING MODEL"
   ]
  },
  {
   "cell_type": "code",
   "execution_count": 67,
   "id": "3e23ca6d-dd1f-423b-8b0b-57827e5d3847",
   "metadata": {},
   "outputs": [],
   "source": [
    "binary_cross_loss = tf.losses.BinaryCrossentropy()"
   ]
  },
  {
   "cell_type": "code",
   "execution_count": 68,
   "id": "41f15a96-306d-45b5-b848-593249f7297a",
   "metadata": {},
   "outputs": [],
   "source": [
    "opt = tf.keras.optimizers.Adam(1e-4)"
   ]
  },
  {
   "cell_type": "code",
   "execution_count": 68,
   "id": "260999ce-4dda-4f16-8680-0dcd1eede6df",
   "metadata": {},
   "outputs": [],
   "source": [
    "\n",
    "# Establishing Checkpoints "
   ]
  },
  {
   "cell_type": "code",
   "execution_count": 69,
   "id": "907ce865-7256-4df6-8109-48e321fc9ab3",
   "metadata": {},
   "outputs": [],
   "source": [
    "checkpoint_dir = './training_checkpoints'\n",
    "checkpoint_prefix = os.path.join(checkpoint_dir, 'ckpt')\n",
    "checkpoint = tf.train.Checkpoint(opt=opt, siamese_model = siamese_model)"
   ]
  },
  {
   "cell_type": "code",
   "execution_count": 70,
   "id": "04fdd67c-4cec-4aa6-a330-f93bdf5b6bae",
   "metadata": {},
   "outputs": [],
   "source": [
    "test_batch = train_data.as_numpy_iterator()\n",
    "batch_1 = test_batch.next()"
   ]
  },
  {
   "cell_type": "code",
   "execution_count": 71,
   "id": "425a013e-3c4f-44a4-9c94-377b5e99817b",
   "metadata": {},
   "outputs": [
    {
     "data": {
      "text/plain": [
       "(array([[[[0.76936275, 0.6987745 , 0.6517157 ],\n",
       "          [0.7727941 , 0.7022059 , 0.64730394],\n",
       "          [0.76887256, 0.6982843 , 0.6433824 ],\n",
       "          ...,\n",
       "          [0.89117646, 0.8303922 , 0.78137255],\n",
       "          [0.88308823, 0.8281863 , 0.79093134],\n",
       "          [0.88039213, 0.8254902 , 0.79019606]],\n",
       " \n",
       "         [[0.7678922 , 0.69534314, 0.6512255 ],\n",
       "          [0.7642157 , 0.69215685, 0.64730394],\n",
       "          [0.7754902 , 0.70490193, 0.65343136],\n",
       "          ...,\n",
       "          [0.89215684, 0.8276961 , 0.78186274],\n",
       "          [0.89093137, 0.8308824 , 0.79534316],\n",
       "          [0.89117646, 0.8362745 , 0.8009804 ]],\n",
       " \n",
       "         [[0.7882353 , 0.70980394, 0.6745098 ],\n",
       "          [0.77916664, 0.7012255 , 0.66519606],\n",
       "          [0.7752451 , 0.6987745 , 0.65612745],\n",
       "          ...,\n",
       "          [0.9019608 , 0.8352941 , 0.79607844],\n",
       "          [0.8990196 , 0.83235294, 0.79901963],\n",
       "          [0.8901961 , 0.8352941 , 0.8       ]],\n",
       " \n",
       "         ...,\n",
       " \n",
       "         [[0.87083334, 0.95      , 0.9857843 ],\n",
       "          [0.8786765 , 0.9585784 , 0.9852941 ],\n",
       "          [0.88039213, 0.9625    , 0.9889706 ],\n",
       "          ...,\n",
       "          [1.        , 1.        , 1.        ],\n",
       "          [1.        , 1.        , 1.        ],\n",
       "          [0.99534315, 0.99534315, 0.99534315]],\n",
       " \n",
       "         [[0.86764705, 0.95980394, 1.        ],\n",
       "          [0.86838233, 0.9629902 , 0.9916667 ],\n",
       "          [0.8720588 , 0.9644608 , 0.997549  ],\n",
       "          ...,\n",
       "          [1.        , 1.        , 1.        ],\n",
       "          [1.        , 1.        , 1.        ],\n",
       "          [0.99607843, 0.99607843, 0.99607843]],\n",
       " \n",
       "         [[0.8598039 , 0.9460784 , 0.9889706 ],\n",
       "          [0.8661765 , 0.95637256, 0.9877451 ],\n",
       "          [0.87328434, 0.9605392 , 0.9992647 ],\n",
       "          ...,\n",
       "          [1.        , 1.        , 1.        ],\n",
       "          [1.        , 1.        , 1.        ],\n",
       "          [0.99607843, 0.99607843, 0.99607843]]],\n",
       " \n",
       " \n",
       "        [[[0.77843136, 0.71568626, 0.6647059 ],\n",
       "          [0.78039217, 0.7176471 , 0.6666667 ],\n",
       "          [0.77867645, 0.71593136, 0.66495097],\n",
       "          ...,\n",
       "          [0.9017157 , 0.83431375, 0.79509807],\n",
       "          [0.9002451 , 0.8335784 , 0.8002451 ],\n",
       "          [0.90294117, 0.83431375, 0.8039216 ]],\n",
       " \n",
       "         [[0.7772059 , 0.7134804 , 0.66544116],\n",
       "          [0.78063726, 0.71666664, 0.66813725],\n",
       "          [0.7882353 , 0.7235294 , 0.6735294 ],\n",
       "          ...,\n",
       "          [0.8901961 , 0.84068626, 0.80563724],\n",
       "          [0.8889706 , 0.8365196 , 0.80196077],\n",
       "          [0.89191175, 0.8394608 , 0.80490196]],\n",
       " \n",
       "         [[0.7794118 , 0.7127451 , 0.6735294 ],\n",
       "          [0.78063726, 0.7107843 , 0.67107844],\n",
       "          [0.7852941 , 0.7147059 , 0.6691176 ],\n",
       "          ...,\n",
       "          [0.8901961 , 0.8480392 , 0.8215686 ],\n",
       "          [0.8879902 , 0.8502451 , 0.8215686 ],\n",
       "          [0.8862745 , 0.85      , 0.8147059 ]],\n",
       " \n",
       "         ...,\n",
       " \n",
       "         [[0.8870098 , 0.96838236, 0.99485296],\n",
       "          [0.8813726 , 0.9735294 , 1.        ],\n",
       "          [0.877451  , 0.96960783, 0.99338233],\n",
       "          ...,\n",
       "          [0.9970588 , 1.        , 0.9980392 ],\n",
       "          [0.9970588 , 1.        , 0.99215686],\n",
       "          [0.99215686, 0.9980392 , 0.9872549 ]],\n",
       " \n",
       "         [[0.8715686 , 0.9676471 , 0.9882353 ],\n",
       "          [0.8747549 , 0.9742647 , 1.        ],\n",
       "          [0.8659314 , 0.9747549 , 0.99264705],\n",
       "          ...,\n",
       "          [0.9977941 , 1.        , 0.9936274 ],\n",
       "          [1.        , 1.        , 0.99215686],\n",
       "          [0.9990196 , 0.9990196 , 0.9911765 ]],\n",
       " \n",
       "         [[0.8843137 , 0.9762255 , 0.9963235 ],\n",
       "          [0.86740196, 0.9639706 , 0.9911765 ],\n",
       "          [0.86495095, 0.9752451 , 0.99828434],\n",
       "          ...,\n",
       "          [0.9941176 , 1.        , 0.9892157 ],\n",
       "          [0.9992647 , 0.9992647 , 0.9914216 ],\n",
       "          [0.99215686, 0.99215686, 0.9843137 ]]],\n",
       " \n",
       " \n",
       "        [[[0.7970588 , 0.6990196 , 0.6811274 ],\n",
       "          [0.79019606, 0.7022059 , 0.6791667 ],\n",
       "          [0.78333336, 0.7078431 , 0.68039215],\n",
       "          ...,\n",
       "          [0.92009807, 0.83235294, 0.78995097],\n",
       "          [0.91568625, 0.8352941 , 0.7921569 ],\n",
       "          [0.90294117, 0.83235294, 0.7852941 ]],\n",
       " \n",
       "         [[0.7921569 , 0.7051471 , 0.6627451 ],\n",
       "          [0.7892157 , 0.70490193, 0.6617647 ],\n",
       "          [0.78406864, 0.7110294 , 0.6627451 ],\n",
       "          ...,\n",
       "          [0.91519606, 0.83235294, 0.7892157 ],\n",
       "          [0.9122549 , 0.8352941 , 0.7914216 ],\n",
       "          [0.90367645, 0.8330882 , 0.7860294 ]],\n",
       " \n",
       "         [[0.7921569 , 0.7058824 , 0.6519608 ],\n",
       "          [0.7892157 , 0.7058824 , 0.6517157 ],\n",
       "          [0.782598  , 0.7080882 , 0.65318626],\n",
       "          ...,\n",
       "          [0.90857846, 0.8360294 , 0.79583335],\n",
       "          [0.90931374, 0.8382353 , 0.7973039 ],\n",
       "          [0.90588236, 0.8352941 , 0.7882353 ]],\n",
       " \n",
       "         ...,\n",
       " \n",
       "         [[0.90318626, 0.9502451 , 0.9970588 ],\n",
       "          [0.9078431 , 0.9497549 , 0.99019605],\n",
       "          [0.8990196 , 0.9482843 , 0.9887255 ],\n",
       "          ...,\n",
       "          [1.        , 1.        , 1.        ],\n",
       "          [1.        , 1.        , 1.        ],\n",
       "          [0.9970588 , 0.9970588 , 0.9970588 ]],\n",
       " \n",
       "         [[0.90392154, 0.95686275, 0.99485296],\n",
       "          [0.90294117, 0.95661765, 0.99852943],\n",
       "          [0.9078431 , 0.9627451 , 1.        ],\n",
       "          ...,\n",
       "          [1.        , 1.        , 1.        ],\n",
       "          [1.        , 1.        , 1.        ],\n",
       "          [1.        , 1.        , 1.        ]],\n",
       " \n",
       "         [[0.8862745 , 0.9529412 , 0.9843137 ],\n",
       "          [0.88235295, 0.94558823, 0.9963235 ],\n",
       "          [0.875     , 0.94558823, 0.9862745 ],\n",
       "          ...,\n",
       "          [0.9970588 , 0.9970588 , 0.9970588 ],\n",
       "          [0.9970588 , 0.9970588 , 0.9970588 ],\n",
       "          [0.99607843, 0.99607843, 0.99607843]]],\n",
       " \n",
       " \n",
       "        ...,\n",
       " \n",
       " \n",
       "        [[[0.7970588 , 0.6990196 , 0.6811274 ],\n",
       "          [0.79019606, 0.7022059 , 0.6791667 ],\n",
       "          [0.78333336, 0.7078431 , 0.68039215],\n",
       "          ...,\n",
       "          [0.92009807, 0.83235294, 0.78995097],\n",
       "          [0.91568625, 0.8352941 , 0.7921569 ],\n",
       "          [0.90294117, 0.83235294, 0.7852941 ]],\n",
       " \n",
       "         [[0.7921569 , 0.7051471 , 0.6627451 ],\n",
       "          [0.7892157 , 0.70490193, 0.6617647 ],\n",
       "          [0.78406864, 0.7110294 , 0.6627451 ],\n",
       "          ...,\n",
       "          [0.91519606, 0.83235294, 0.7892157 ],\n",
       "          [0.9122549 , 0.8352941 , 0.7914216 ],\n",
       "          [0.90367645, 0.8330882 , 0.7860294 ]],\n",
       " \n",
       "         [[0.7921569 , 0.7058824 , 0.6519608 ],\n",
       "          [0.7892157 , 0.7058824 , 0.6517157 ],\n",
       "          [0.782598  , 0.7080882 , 0.65318626],\n",
       "          ...,\n",
       "          [0.90857846, 0.8360294 , 0.79583335],\n",
       "          [0.90931374, 0.8382353 , 0.7973039 ],\n",
       "          [0.90588236, 0.8352941 , 0.7882353 ]],\n",
       " \n",
       "         ...,\n",
       " \n",
       "         [[0.90318626, 0.9502451 , 0.9970588 ],\n",
       "          [0.9078431 , 0.9497549 , 0.99019605],\n",
       "          [0.8990196 , 0.9482843 , 0.9887255 ],\n",
       "          ...,\n",
       "          [1.        , 1.        , 1.        ],\n",
       "          [1.        , 1.        , 1.        ],\n",
       "          [0.9970588 , 0.9970588 , 0.9970588 ]],\n",
       " \n",
       "         [[0.90392154, 0.95686275, 0.99485296],\n",
       "          [0.90294117, 0.95661765, 0.99852943],\n",
       "          [0.9078431 , 0.9627451 , 1.        ],\n",
       "          ...,\n",
       "          [1.        , 1.        , 1.        ],\n",
       "          [1.        , 1.        , 1.        ],\n",
       "          [1.        , 1.        , 1.        ]],\n",
       " \n",
       "         [[0.8862745 , 0.9529412 , 0.9843137 ],\n",
       "          [0.88235295, 0.94558823, 0.9963235 ],\n",
       "          [0.875     , 0.94558823, 0.9862745 ],\n",
       "          ...,\n",
       "          [0.9970588 , 0.9970588 , 0.9970588 ],\n",
       "          [0.9970588 , 0.9970588 , 0.9970588 ],\n",
       "          [0.99607843, 0.99607843, 0.99607843]]],\n",
       " \n",
       " \n",
       "        [[[0.7617647 , 0.7051471 , 0.6732843 ],\n",
       "          [0.7705882 , 0.7029412 , 0.6696078 ],\n",
       "          [0.7745098 , 0.70392156, 0.65882355],\n",
       "          ...,\n",
       "          [0.9009804 , 0.8362745 , 0.7862745 ],\n",
       "          [0.9009804 , 0.8303922 , 0.78333336],\n",
       "          [0.9019608 , 0.83137256, 0.78431374]],\n",
       " \n",
       "         [[0.77254903, 0.7058824 , 0.672549  ],\n",
       "          [0.777451  , 0.70980394, 0.67009807],\n",
       "          [0.78357846, 0.7129902 , 0.66740197],\n",
       "          ...,\n",
       "          [0.90392154, 0.8333333 , 0.7862745 ],\n",
       "          [0.90539217, 0.8333333 , 0.7870098 ],\n",
       "          [0.90686274, 0.83431375, 0.7882353 ]],\n",
       " \n",
       "         [[0.77843136, 0.7088235 , 0.6637255 ],\n",
       "          [0.77867645, 0.7088235 , 0.6632353 ],\n",
       "          [0.7764706 , 0.7058824 , 0.6544118 ],\n",
       "          ...,\n",
       "          [0.90318626, 0.83259803, 0.7855392 ],\n",
       "          [0.9107843 , 0.83431375, 0.79019606],\n",
       "          [0.9127451 , 0.83431375, 0.7911765 ]],\n",
       " \n",
       "         ...,\n",
       " \n",
       "         [[0.8784314 , 0.9529412 , 0.98039216],\n",
       "          [0.88529414, 0.94803923, 0.9970588 ],\n",
       "          [0.8897059 , 0.95637256, 0.98970586],\n",
       "          ...,\n",
       "          [1.        , 1.        , 1.        ],\n",
       "          [1.        , 1.        , 1.        ],\n",
       "          [0.99607843, 0.99607843, 0.99607843]],\n",
       " \n",
       "         [[0.8833333 , 0.9519608 , 0.9816176 ],\n",
       "          [0.8955882 , 0.95906866, 0.9992647 ],\n",
       "          [0.8926471 , 0.95710784, 0.9911765 ],\n",
       "          ...,\n",
       "          [1.        , 1.        , 1.        ],\n",
       "          [1.        , 1.        , 1.        ],\n",
       "          [1.        , 1.        , 1.        ]],\n",
       " \n",
       "         [[0.8833333 , 0.9578431 , 0.98137254],\n",
       "          [0.89215684, 0.9558824 , 0.9970588 ],\n",
       "          [0.89436275, 0.9580882 , 0.9938725 ],\n",
       "          ...,\n",
       "          [1.        , 1.        , 1.        ],\n",
       "          [1.        , 1.        , 1.        ],\n",
       "          [0.99607843, 0.99607843, 0.99607843]]],\n",
       " \n",
       " \n",
       "        [[[0.7617647 , 0.7051471 , 0.6732843 ],\n",
       "          [0.7705882 , 0.7029412 , 0.6696078 ],\n",
       "          [0.7745098 , 0.70392156, 0.65882355],\n",
       "          ...,\n",
       "          [0.9009804 , 0.8362745 , 0.7862745 ],\n",
       "          [0.9009804 , 0.8303922 , 0.78333336],\n",
       "          [0.9019608 , 0.83137256, 0.78431374]],\n",
       " \n",
       "         [[0.77254903, 0.7058824 , 0.672549  ],\n",
       "          [0.777451  , 0.70980394, 0.67009807],\n",
       "          [0.78357846, 0.7129902 , 0.66740197],\n",
       "          ...,\n",
       "          [0.90392154, 0.8333333 , 0.7862745 ],\n",
       "          [0.90539217, 0.8333333 , 0.7870098 ],\n",
       "          [0.90686274, 0.83431375, 0.7882353 ]],\n",
       " \n",
       "         [[0.77843136, 0.7088235 , 0.6637255 ],\n",
       "          [0.77867645, 0.7088235 , 0.6632353 ],\n",
       "          [0.7764706 , 0.7058824 , 0.6544118 ],\n",
       "          ...,\n",
       "          [0.90318626, 0.83259803, 0.7855392 ],\n",
       "          [0.9107843 , 0.83431375, 0.79019606],\n",
       "          [0.9127451 , 0.83431375, 0.7911765 ]],\n",
       " \n",
       "         ...,\n",
       " \n",
       "         [[0.8784314 , 0.9529412 , 0.98039216],\n",
       "          [0.88529414, 0.94803923, 0.9970588 ],\n",
       "          [0.8897059 , 0.95637256, 0.98970586],\n",
       "          ...,\n",
       "          [1.        , 1.        , 1.        ],\n",
       "          [1.        , 1.        , 1.        ],\n",
       "          [0.99607843, 0.99607843, 0.99607843]],\n",
       " \n",
       "         [[0.8833333 , 0.9519608 , 0.9816176 ],\n",
       "          [0.8955882 , 0.95906866, 0.9992647 ],\n",
       "          [0.8926471 , 0.95710784, 0.9911765 ],\n",
       "          ...,\n",
       "          [1.        , 1.        , 1.        ],\n",
       "          [1.        , 1.        , 1.        ],\n",
       "          [1.        , 1.        , 1.        ]],\n",
       " \n",
       "         [[0.8833333 , 0.9578431 , 0.98137254],\n",
       "          [0.89215684, 0.9558824 , 0.9970588 ],\n",
       "          [0.89436275, 0.9580882 , 0.9938725 ],\n",
       "          ...,\n",
       "          [1.        , 1.        , 1.        ],\n",
       "          [1.        , 1.        , 1.        ],\n",
       "          [0.99607843, 0.99607843, 0.99607843]]]], dtype=float32),\n",
       " array([[[[7.71568656e-01, 7.08823502e-01, 6.57843113e-01],\n",
       "          [7.73774505e-01, 7.02205896e-01, 6.47303939e-01],\n",
       "          [7.79166639e-01, 7.04656839e-01, 6.49754882e-01],\n",
       "          ...,\n",
       "          [8.90196085e-01, 8.25490177e-01, 7.77450979e-01],\n",
       "          [8.91421556e-01, 8.20833325e-01, 7.81617641e-01],\n",
       "          [8.97058845e-01, 8.18627477e-01, 7.83333361e-01]],\n",
       " \n",
       "         [[7.64705896e-01, 7.00980365e-01, 6.41176462e-01],\n",
       "          [7.66421556e-01, 6.94852948e-01, 6.39950991e-01],\n",
       "          [7.79411793e-01, 7.04166651e-01, 6.51470602e-01],\n",
       "          ...,\n",
       "          [8.87990177e-01, 8.25245082e-01, 7.74264693e-01],\n",
       "          [8.95343125e-01, 8.26715708e-01, 7.84558833e-01],\n",
       "          [8.98039222e-01, 8.27450991e-01, 7.88235307e-01]],\n",
       " \n",
       "         [[7.71568656e-01, 7.04901934e-01, 6.42156839e-01],\n",
       "          [7.70833313e-01, 7.01470613e-01, 6.42156839e-01],\n",
       "          [7.73284316e-01, 6.95833325e-01, 6.49754882e-01],\n",
       "          ...,\n",
       "          [8.89950991e-01, 8.27205896e-01, 7.76225507e-01],\n",
       "          [8.89215708e-01, 8.20588231e-01, 7.78431356e-01],\n",
       "          [9.00980413e-01, 8.30392182e-01, 7.91176498e-01]],\n",
       " \n",
       "         ...,\n",
       " \n",
       "         [[8.99019599e-01, 9.53921556e-01, 9.95098054e-01],\n",
       "          [8.91911745e-01, 9.58578408e-01, 9.91421580e-01],\n",
       "          [8.97303939e-01, 9.65441167e-01, 9.98284340e-01],\n",
       "          ...,\n",
       "          [1.00000000e+00, 1.00000000e+00, 1.00000000e+00],\n",
       "          [1.00000000e+00, 1.00000000e+00, 1.00000000e+00],\n",
       "          [1.00000000e+00, 1.00000000e+00, 1.00000000e+00]],\n",
       " \n",
       "         [[8.99999976e-01, 9.63725507e-01, 9.95343149e-01],\n",
       "          [8.98529410e-01, 9.58578408e-01, 9.98039186e-01],\n",
       "          [8.94362748e-01, 9.66911793e-01, 9.95343149e-01],\n",
       "          ...,\n",
       "          [1.00000000e+00, 1.00000000e+00, 1.00000000e+00],\n",
       "          [1.00000000e+00, 1.00000000e+00, 1.00000000e+00],\n",
       "          [1.00000000e+00, 1.00000000e+00, 1.00000000e+00]],\n",
       " \n",
       "         [[8.99999976e-01, 9.67647076e-01, 9.92156863e-01],\n",
       "          [8.91176462e-01, 9.57843125e-01, 9.95588243e-01],\n",
       "          [8.79166663e-01, 9.52205896e-01, 9.77450967e-01],\n",
       "          ...,\n",
       "          [9.97058809e-01, 9.97058809e-01, 9.97058809e-01],\n",
       "          [9.93137240e-01, 9.93137240e-01, 9.93137240e-01],\n",
       "          [9.96078432e-01, 9.96078432e-01, 9.96078432e-01]]],\n",
       " \n",
       " \n",
       "        [[[2.39215687e-01, 2.07843140e-01, 6.27451017e-02],\n",
       "          [2.37254903e-01, 2.05882356e-01, 6.07843138e-02],\n",
       "          [2.34313726e-01, 2.02941179e-01, 5.78431375e-02],\n",
       "          ...,\n",
       "          [3.22549015e-01, 2.80392170e-01, 7.84313753e-02],\n",
       "          [2.62990206e-01, 2.00490192e-01, 0.00000000e+00],\n",
       "          [2.51225501e-01, 1.65441170e-01, 7.35294132e-04]],\n",
       " \n",
       "         [[2.39215687e-01, 2.07843140e-01, 6.07843138e-02],\n",
       "          [2.42156863e-01, 2.10784316e-01, 6.37254938e-02],\n",
       "          [2.45343134e-01, 2.13970587e-01, 6.69117644e-02],\n",
       "          ...,\n",
       "          [2.90441185e-01, 2.48284310e-01, 4.65686284e-02],\n",
       "          [2.55882353e-01, 1.96078435e-01, 0.00000000e+00],\n",
       "          [2.62990206e-01, 1.79656863e-01, 1.29901962e-02]],\n",
       " \n",
       "         [[2.35294119e-01, 2.03921571e-01, 5.09803928e-02],\n",
       "          [2.35294119e-01, 2.03921571e-01, 5.09803928e-02],\n",
       "          [2.36274511e-01, 2.04901963e-01, 5.19607849e-02],\n",
       "          ...,\n",
       "          [2.67892152e-01, 2.26715684e-01, 3.16176489e-02],\n",
       "          [2.65686274e-01, 2.05147058e-01, 1.10294120e-02],\n",
       "          [2.72058815e-01, 1.96813732e-01, 3.30882370e-02]],\n",
       " \n",
       "         ...,\n",
       " \n",
       "         [[2.22549021e-01, 2.18627453e-01, 2.02941179e-01],\n",
       "          [1.97058827e-01, 1.93137258e-01, 1.77450985e-01],\n",
       "          [1.71568632e-01, 1.67647064e-01, 1.51960790e-01],\n",
       "          ...,\n",
       "          [2.33088240e-01, 2.25245103e-01, 2.29166672e-01],\n",
       "          [2.36274511e-01, 2.28431374e-01, 2.32352942e-01],\n",
       "          [2.25245103e-01, 2.17401966e-01, 2.21323535e-01]],\n",
       " \n",
       "         [[1.99754909e-01, 1.95833340e-01, 1.80147052e-01],\n",
       "          [2.00735301e-01, 1.96813732e-01, 1.81127444e-01],\n",
       "          [1.63480386e-01, 1.59558818e-01, 1.43872544e-01],\n",
       "          ...,\n",
       "          [2.29411766e-01, 2.21568629e-01, 2.25490198e-01],\n",
       "          [2.30147064e-01, 2.22303927e-01, 2.26225495e-01],\n",
       "          [2.20588237e-01, 2.12745100e-01, 2.16666669e-01]],\n",
       " \n",
       "         [[1.85294122e-01, 1.81372553e-01, 1.65686280e-01],\n",
       "          [2.09803924e-01, 2.05882356e-01, 1.90196082e-01],\n",
       "          [1.60784319e-01, 1.56862751e-01, 1.41176477e-01],\n",
       "          ...,\n",
       "          [2.25490198e-01, 2.17647061e-01, 2.21568629e-01],\n",
       "          [2.28431374e-01, 2.20588237e-01, 2.24509805e-01],\n",
       "          [2.17647061e-01, 2.09803924e-01, 2.13725492e-01]]],\n",
       " \n",
       " \n",
       "        [[[4.31372553e-01, 3.60784322e-01, 2.11764708e-01],\n",
       "          [4.31372553e-01, 3.60784322e-01, 2.11764708e-01],\n",
       "          [4.31372553e-01, 3.60784322e-01, 2.11764708e-01],\n",
       "          ...,\n",
       "          [2.31372550e-01, 1.72549024e-01, 5.09803928e-02],\n",
       "          [2.25490198e-01, 1.66666672e-01, 4.50980403e-02],\n",
       "          [2.19607845e-01, 1.60784319e-01, 3.92156877e-02]],\n",
       " \n",
       "         [[4.35294122e-01, 3.64705890e-01, 2.13725492e-01],\n",
       "          [4.35294122e-01, 3.64705890e-01, 2.13725492e-01],\n",
       "          [4.35294122e-01, 3.64705890e-01, 2.13725492e-01],\n",
       "          ...,\n",
       "          [2.30392158e-01, 1.71568632e-01, 5.78431375e-02],\n",
       "          [2.23529413e-01, 1.64705887e-01, 5.09803928e-02],\n",
       "          [2.18627453e-01, 1.59803927e-01, 4.60784324e-02]],\n",
       " \n",
       "         [[4.38235283e-01, 3.67647052e-01, 2.10784316e-01],\n",
       "          [4.38235283e-01, 3.67647052e-01, 2.10784316e-01],\n",
       "          [4.38235283e-01, 3.67647052e-01, 2.10784316e-01],\n",
       "          ...,\n",
       "          [2.10784316e-01, 1.51960790e-01, 3.82352956e-02],\n",
       "          [2.06862748e-01, 1.48039222e-01, 3.43137272e-02],\n",
       "          [1.98039219e-01, 1.39215693e-01, 2.54901964e-02]],\n",
       " \n",
       "         ...,\n",
       " \n",
       "         [[5.38970590e-01, 4.44852948e-01, 3.55637252e-01],\n",
       "          [6.45833313e-01, 5.67647040e-01, 4.83333319e-01],\n",
       "          [7.81617641e-01, 7.33088255e-01, 6.66421592e-01],\n",
       "          ...,\n",
       "          [2.84313727e-02, 4.80392165e-02, 2.05882359e-02],\n",
       "          [2.84313727e-02, 4.80392165e-02, 2.05882359e-02],\n",
       "          [3.13725509e-02, 5.09803928e-02, 2.35294122e-02]],\n",
       " \n",
       "         [[6.47549033e-01, 6.20098054e-01, 5.45588255e-01],\n",
       "          [7.75735319e-01, 7.60294139e-01, 6.95343137e-01],\n",
       "          [8.23774517e-01, 8.26715708e-01, 7.72549033e-01],\n",
       "          ...,\n",
       "          [3.13725509e-02, 5.09803928e-02, 2.35294122e-02],\n",
       "          [3.35784331e-02, 5.31862751e-02, 2.57352944e-02],\n",
       "          [3.03921569e-02, 5.00000007e-02, 2.25490201e-02]],\n",
       " \n",
       "         [[7.91176498e-01, 7.98284292e-01, 7.44362772e-01],\n",
       "          [8.25490177e-01, 8.37990224e-01, 7.95098066e-01],\n",
       "          [8.11764717e-01, 8.38725507e-01, 8.05882335e-01],\n",
       "          ...,\n",
       "          [2.84313727e-02, 4.80392165e-02, 2.05882359e-02],\n",
       "          [3.43137272e-02, 5.39215691e-02, 2.64705885e-02],\n",
       "          [3.52941193e-02, 5.49019612e-02, 2.74509806e-02]]],\n",
       " \n",
       " \n",
       "        ...,\n",
       " \n",
       " \n",
       "        [[[7.72549033e-01, 6.98039234e-01, 6.39215708e-01],\n",
       "          [7.72549033e-01, 6.98039234e-01, 6.39215708e-01],\n",
       "          [7.69607842e-01, 7.00980365e-01, 6.39215708e-01],\n",
       "          ...,\n",
       "          [8.91421556e-01, 8.14951003e-01, 7.78676450e-01],\n",
       "          [8.86519611e-01, 8.12990189e-01, 7.82598019e-01],\n",
       "          [8.78431380e-01, 8.11764717e-01, 7.84313738e-01]],\n",
       " \n",
       "         [[7.72549033e-01, 6.96323514e-01, 6.47058845e-01],\n",
       "          [7.71568656e-01, 6.97303951e-01, 6.47058845e-01],\n",
       "          [7.68627465e-01, 6.98039234e-01, 6.45098031e-01],\n",
       "          ...,\n",
       "          [8.89215708e-01, 8.16911757e-01, 7.82843113e-01],\n",
       "          [8.83333325e-01, 8.14705908e-01, 7.84313738e-01],\n",
       "          [8.87254894e-01, 8.20588231e-01, 7.89215684e-01]],\n",
       " \n",
       "         [[7.72549033e-01, 6.94117665e-01, 6.58823550e-01],\n",
       "          [7.71568656e-01, 6.95098042e-01, 6.57352924e-01],\n",
       "          [7.68627465e-01, 6.98039234e-01, 6.51470602e-01],\n",
       "          ...,\n",
       "          [8.87990177e-01, 8.19362760e-01, 7.88970590e-01],\n",
       "          [8.90196085e-01, 8.23039234e-01, 7.91911781e-01],\n",
       "          [8.93137276e-01, 8.26470613e-01, 7.95098066e-01]],\n",
       " \n",
       "         ...,\n",
       " \n",
       "         [[8.70588243e-01, 9.42647040e-01, 9.73774493e-01],\n",
       "          [8.73039186e-01, 9.47058797e-01, 9.86519635e-01],\n",
       "          [8.75490189e-01, 9.52450991e-01, 9.96323526e-01],\n",
       "          ...,\n",
       "          [1.00000000e+00, 1.00000000e+00, 1.00000000e+00],\n",
       "          [1.00000000e+00, 1.00000000e+00, 1.00000000e+00],\n",
       "          [9.97058809e-01, 9.97058809e-01, 9.97058809e-01]],\n",
       " \n",
       "         [[8.66911769e-01, 9.43382382e-01, 9.79656875e-01],\n",
       "          [8.70098054e-01, 9.48529422e-01, 9.91666675e-01],\n",
       "          [8.74509811e-01, 9.47058797e-01, 9.87254918e-01],\n",
       "          ...,\n",
       "          [1.00000000e+00, 1.00000000e+00, 1.00000000e+00],\n",
       "          [1.00000000e+00, 1.00000000e+00, 1.00000000e+00],\n",
       "          [9.97058809e-01, 9.97058809e-01, 9.97058809e-01]],\n",
       " \n",
       "         [[8.80392134e-01, 9.58823502e-01, 9.97794092e-01],\n",
       "          [8.70588243e-01, 9.54901934e-01, 9.98039186e-01],\n",
       "          [8.79166663e-01, 9.51715708e-01, 9.89705861e-01],\n",
       "          ...,\n",
       "          [1.00000000e+00, 1.00000000e+00, 1.00000000e+00],\n",
       "          [1.00000000e+00, 1.00000000e+00, 1.00000000e+00],\n",
       "          [1.00000000e+00, 1.00000000e+00, 1.00000000e+00]]],\n",
       " \n",
       " \n",
       "        [[[2.57598042e-01, 4.79166657e-01, 3.11519593e-01],\n",
       "          [2.51225501e-01, 4.94362742e-01, 3.16911757e-01],\n",
       "          [4.18627441e-01, 5.59803903e-01, 4.09803927e-01],\n",
       "          ...,\n",
       "          [7.03431368e-01, 7.65441179e-01, 7.77941167e-01],\n",
       "          [6.34068608e-01, 7.12990224e-01, 7.01715708e-01],\n",
       "          [6.72794104e-01, 7.57598042e-01, 7.18382359e-01]],\n",
       " \n",
       "         [[2.29656860e-01, 4.57107842e-01, 2.86519617e-01],\n",
       "          [2.35049024e-01, 4.87745106e-01, 3.07107836e-01],\n",
       "          [4.35784310e-01, 5.83578408e-01, 4.33333337e-01],\n",
       "          ...,\n",
       "          [5.52941203e-01, 6.26225471e-01, 7.05637276e-01],\n",
       "          [5.45588255e-01, 6.30882382e-01, 6.82352960e-01],\n",
       "          [6.47794127e-01, 7.41911769e-01, 7.64950991e-01]],\n",
       " \n",
       "         [[2.38970593e-01, 4.66421574e-01, 2.95833319e-01],\n",
       "          [2.56372541e-01, 5.12009799e-01, 3.32107842e-01],\n",
       "          [4.69607830e-01, 6.25490189e-01, 4.77450967e-01],\n",
       "          ...,\n",
       "          [4.84803915e-01, 5.57352960e-01, 6.46568656e-01],\n",
       "          [5.67647040e-01, 6.44117653e-01, 7.08823502e-01],\n",
       "          [5.64951003e-01, 6.47303939e-01, 6.92892134e-01]],\n",
       " \n",
       "         ...,\n",
       " \n",
       "         [[1.26225486e-01, 4.56617653e-01, 6.73284292e-01],\n",
       "          [1.56372547e-01, 4.91176456e-01, 7.05882370e-01],\n",
       "          [1.56372547e-01, 4.97058809e-01, 7.08088219e-01],\n",
       "          ...,\n",
       "          [3.60539228e-01, 8.27205896e-01, 9.60539222e-01],\n",
       "          [3.46078426e-01, 8.12745094e-01, 9.46078420e-01],\n",
       "          [3.72794122e-01, 8.39460790e-01, 9.72794116e-01]],\n",
       " \n",
       "         [[1.22549020e-01, 4.47058827e-01, 6.60784304e-01],\n",
       "          [1.34068623e-01, 4.62990195e-01, 6.75490201e-01],\n",
       "          [1.35784313e-01, 4.70588237e-01, 6.81617618e-01],\n",
       "          ...,\n",
       "          [3.55147064e-01, 8.21813703e-01, 9.55147088e-01],\n",
       "          [3.39215696e-01, 8.05882335e-01, 9.39215660e-01],\n",
       "          [3.81372541e-01, 8.48039210e-01, 9.81372535e-01]],\n",
       " \n",
       "         [[1.37500003e-01, 4.55147058e-01, 6.62990212e-01],\n",
       "          [1.15686275e-01, 4.41176474e-01, 6.47058845e-01],\n",
       "          [1.16666667e-01, 4.48039204e-01, 6.59803927e-01],\n",
       "          ...,\n",
       "          [3.49019617e-01, 8.15686285e-01, 9.49019611e-01],\n",
       "          [3.21568638e-01, 7.88235307e-01, 9.21568632e-01],\n",
       "          [3.62990201e-01, 8.29656839e-01, 9.62990224e-01]]],\n",
       " \n",
       " \n",
       "        [[[7.80392170e-01, 6.86274529e-01, 6.47058845e-01],\n",
       "          [7.80392170e-01, 6.94117665e-01, 6.50980413e-01],\n",
       "          [7.74509788e-01, 6.94117665e-01, 6.50980413e-01],\n",
       "          ...,\n",
       "          [8.87009799e-01, 8.16421568e-01, 7.69362748e-01],\n",
       "          [8.92401934e-01, 8.21813703e-01, 7.74754882e-01],\n",
       "          [8.91176462e-01, 8.20588231e-01, 7.70098031e-01]],\n",
       " \n",
       "         [[7.77450979e-01, 6.94117665e-01, 6.41176462e-01],\n",
       "          [7.76960790e-01, 6.95833325e-01, 6.42156839e-01],\n",
       "          [7.72549033e-01, 6.98039234e-01, 6.42892182e-01],\n",
       "          ...,\n",
       "          [8.94117653e-01, 8.19607854e-01, 7.93137252e-01],\n",
       "          [8.94117653e-01, 8.22549045e-01, 7.86274493e-01],\n",
       "          [8.98039222e-01, 8.26470613e-01, 7.90196061e-01]],\n",
       " \n",
       "         [[7.62745082e-01, 6.94117665e-01, 6.32352948e-01],\n",
       "          [7.63480365e-01, 6.94852948e-01, 6.33088231e-01],\n",
       "          [7.74754882e-01, 7.01715708e-01, 6.42892182e-01],\n",
       "          ...,\n",
       "          [8.90196085e-01, 8.15686285e-01, 7.89215684e-01],\n",
       "          [8.90196085e-01, 8.15686285e-01, 7.90686250e-01],\n",
       "          [8.94117653e-01, 8.19607854e-01, 7.95098066e-01]],\n",
       " \n",
       "         ...,\n",
       " \n",
       "         [[8.85294139e-01, 9.50980365e-01, 9.93137240e-01],\n",
       "          [8.97549033e-01, 9.67647076e-01, 9.86029387e-01],\n",
       "          [8.95343125e-01, 9.63235319e-01, 9.97058809e-01],\n",
       "          ...,\n",
       "          [9.97548997e-01, 9.97548997e-01, 9.91666675e-01],\n",
       "          [9.99264717e-01, 9.99264717e-01, 9.99264717e-01],\n",
       "          [9.97058809e-01, 9.97058809e-01, 9.97058809e-01]],\n",
       " \n",
       "         [[8.85294139e-01, 9.51715708e-01, 9.91666675e-01],\n",
       "          [8.87745082e-01, 9.61519599e-01, 9.84313726e-01],\n",
       "          [8.89215708e-01, 9.60784316e-01, 9.97058809e-01],\n",
       "          ...,\n",
       "          [9.97058809e-01, 9.97058809e-01, 9.91176486e-01],\n",
       "          [1.00000000e+00, 1.00000000e+00, 1.00000000e+00],\n",
       "          [9.96078432e-01, 9.96078432e-01, 9.96078432e-01]],\n",
       " \n",
       "         [[8.80392134e-01, 9.47058797e-01, 9.86029387e-01],\n",
       "          [8.95833313e-01, 9.69607830e-01, 9.98529434e-01],\n",
       "          [8.89460802e-01, 9.66911793e-01, 9.95833337e-01],\n",
       "          ...,\n",
       "          [1.00000000e+00, 1.00000000e+00, 9.94117618e-01],\n",
       "          [9.93137240e-01, 9.93137240e-01, 9.93137240e-01],\n",
       "          [9.96078432e-01, 9.96078432e-01, 9.96078432e-01]]]],\n",
       "       dtype=float32),\n",
       " array([1., 1., 1., 1., 1., 1., 1., 1.], dtype=float32))"
      ]
     },
     "execution_count": 71,
     "metadata": {},
     "output_type": "execute_result"
    }
   ],
   "source": [
    "batch_1"
   ]
  },
  {
   "cell_type": "code",
   "execution_count": 72,
   "id": "e9d007b9-4ebd-490d-88f4-bbb488d92651",
   "metadata": {},
   "outputs": [],
   "source": [
    "X = batch_1[:2]"
   ]
  },
  {
   "cell_type": "code",
   "execution_count": 73,
   "id": "499c6ebf-f010-4ace-9876-9c6cd6a924cc",
   "metadata": {},
   "outputs": [],
   "source": [
    "Y = batch_1[2]"
   ]
  },
  {
   "cell_type": "code",
   "execution_count": 74,
   "id": "f307e304-7dbb-4d72-b637-0ac95f88a136",
   "metadata": {},
   "outputs": [],
   "source": [
    "# BUILD TRAIN FUNCTIONS"
   ]
  },
  {
   "cell_type": "code",
   "execution_count": 74,
   "id": "62e5885c-7cd7-4324-a7da-2ef714b2fcc9",
   "metadata": {},
   "outputs": [],
   "source": [
    "@tf.function\n",
    "def train_step(batch):\n",
    "\n",
    "    with tf.GradientTape() as tape:\n",
    "\n",
    "        # Anchor & Pos/Neg Image\n",
    "        X = batch[:2]\n",
    "\n",
    "        # Get Label\n",
    "        Y = batch[2]\n",
    "\n",
    "        yhat = siamese_model(X, training=True)\n",
    "        loss = binary_cross_loss(Y, yhat)\n",
    "    print(loss)\n",
    "\n",
    "    # Calculate gradients \n",
    "    grad = tape.gradient(loss, siamese_model.trainable_variables)\n",
    "\n",
    "    opt.apply_gradients(zip(grad, siamese_model.trainable_variables))\n",
    "\n",
    "    return loss"
   ]
  },
  {
   "cell_type": "code",
   "execution_count": 76,
   "id": "1fa2185f-671a-4e3d-915f-497e013cd760",
   "metadata": {},
   "outputs": [],
   "source": [
    "# BUilding a training Loop "
   ]
  },
  {
   "cell_type": "code",
   "execution_count": 75,
   "id": "72e74ec4-d852-44fa-8398-4354f85b6aa0",
   "metadata": {},
   "outputs": [],
   "source": [
    "def train(data, EPOCHS):\n",
    "\n",
    "    for epoch in range(1, EPOCHS+1):\n",
    "        print('\\n Epoch {}/{}'.format(epoch, EPOCHS))\n",
    "        progbar = tf.keras.utils.Progbar(len(data)) # Shows Progress Bar\n",
    "\n",
    "        # Loop through each Batch\n",
    "        for idx, batch in enumerate(data):\n",
    "            # Do training step here\n",
    "            train_step(batch)\n",
    "            progbar.update(idx+1)\n",
    "\n",
    "        # Save Checkpoint\n",
    "        if epoch % 10 ==0:\n",
    "            checkpoint.save(file_prefix=checkpoint_prefix)"
   ]
  },
  {
   "cell_type": "code",
   "execution_count": 76,
   "id": "4c90a609-e14a-4651-811b-210b921fe5f6",
   "metadata": {},
   "outputs": [],
   "source": [
    "EPOCHS = 50"
   ]
  },
  {
   "cell_type": "code",
   "execution_count": 77,
   "id": "326cb629-8769-4c37-a6bd-a785caab3a0d",
   "metadata": {},
   "outputs": [
    {
     "name": "stdout",
     "output_type": "stream",
     "text": [
      "\n",
      " Epoch 1/50\n",
      "Tensor(\"binary_crossentropy/truediv:0\", shape=(), dtype=float32)\n",
      "Tensor(\"binary_crossentropy/truediv:0\", shape=(), dtype=float32)\n",
      "\u001b[1m1/1\u001b[0m \u001b[32m━━━━━━━━━━━━━━━━━━━━\u001b[0m\u001b[37m\u001b[0m \u001b[1m1s\u001b[0m 705ms/step\n",
      "\n",
      " Epoch 2/50\n",
      "\u001b[1m1/1\u001b[0m \u001b[32m━━━━━━━━━━━━━━━━━━━━\u001b[0m\u001b[37m\u001b[0m \u001b[1m0s\u001b[0m 36ms/step\n",
      "\n",
      " Epoch 3/50\n",
      "\u001b[1m1/1\u001b[0m \u001b[32m━━━━━━━━━━━━━━━━━━━━\u001b[0m\u001b[37m\u001b[0m \u001b[1m0s\u001b[0m 23ms/step\n",
      "\n",
      " Epoch 4/50\n",
      "\u001b[1m1/1\u001b[0m \u001b[32m━━━━━━━━━━━━━━━━━━━━\u001b[0m\u001b[37m\u001b[0m \u001b[1m0s\u001b[0m 36ms/step\n",
      "\n",
      " Epoch 5/50\n",
      "\u001b[1m1/1\u001b[0m \u001b[32m━━━━━━━━━━━━━━━━━━━━\u001b[0m\u001b[37m\u001b[0m \u001b[1m0s\u001b[0m 25ms/step\n",
      "\n",
      " Epoch 6/50\n",
      "\u001b[1m1/1\u001b[0m \u001b[32m━━━━━━━━━━━━━━━━━━━━\u001b[0m\u001b[37m\u001b[0m \u001b[1m0s\u001b[0m 36ms/step\n",
      "\n",
      " Epoch 7/50\n",
      "\u001b[1m1/1\u001b[0m \u001b[32m━━━━━━━━━━━━━━━━━━━━\u001b[0m\u001b[37m\u001b[0m \u001b[1m0s\u001b[0m 39ms/step\n",
      "\n",
      " Epoch 8/50\n",
      "\u001b[1m1/1\u001b[0m \u001b[32m━━━━━━━━━━━━━━━━━━━━\u001b[0m\u001b[37m\u001b[0m \u001b[1m0s\u001b[0m 32ms/step\n",
      "\n",
      " Epoch 9/50\n",
      "\u001b[1m1/1\u001b[0m \u001b[32m━━━━━━━━━━━━━━━━━━━━\u001b[0m\u001b[37m\u001b[0m \u001b[1m0s\u001b[0m 16ms/step\n",
      "\n",
      " Epoch 10/50\n",
      "\u001b[1m1/1\u001b[0m \u001b[32m━━━━━━━━━━━━━━━━━━━━\u001b[0m\u001b[37m\u001b[0m \u001b[1m0s\u001b[0m 35ms/step\n",
      "\n",
      " Epoch 11/50\n",
      "\u001b[1m1/1\u001b[0m \u001b[32m━━━━━━━━━━━━━━━━━━━━\u001b[0m\u001b[37m\u001b[0m \u001b[1m0s\u001b[0m 30ms/step\n",
      "\n",
      " Epoch 12/50\n",
      "\u001b[1m1/1\u001b[0m \u001b[32m━━━━━━━━━━━━━━━━━━━━\u001b[0m\u001b[37m\u001b[0m \u001b[1m0s\u001b[0m 36ms/step\n",
      "\n",
      " Epoch 13/50\n",
      "\u001b[1m1/1\u001b[0m \u001b[32m━━━━━━━━━━━━━━━━━━━━\u001b[0m\u001b[37m\u001b[0m \u001b[1m0s\u001b[0m 33ms/step\n",
      "\n",
      " Epoch 14/50\n",
      "\u001b[1m1/1\u001b[0m \u001b[32m━━━━━━━━━━━━━━━━━━━━\u001b[0m\u001b[37m\u001b[0m \u001b[1m0s\u001b[0m 36ms/step\n",
      "\n",
      " Epoch 15/50\n",
      "\u001b[1m1/1\u001b[0m \u001b[32m━━━━━━━━━━━━━━━━━━━━\u001b[0m\u001b[37m\u001b[0m \u001b[1m0s\u001b[0m 37ms/step\n",
      "\n",
      " Epoch 16/50\n",
      "\u001b[1m1/1\u001b[0m \u001b[32m━━━━━━━━━━━━━━━━━━━━\u001b[0m\u001b[37m\u001b[0m \u001b[1m0s\u001b[0m 37ms/step\n",
      "\n",
      " Epoch 17/50\n",
      "\u001b[1m1/1\u001b[0m \u001b[32m━━━━━━━━━━━━━━━━━━━━\u001b[0m\u001b[37m\u001b[0m \u001b[1m0s\u001b[0m 33ms/step\n",
      "\n",
      " Epoch 18/50\n",
      "\u001b[1m1/1\u001b[0m \u001b[32m━━━━━━━━━━━━━━━━━━━━\u001b[0m\u001b[37m\u001b[0m \u001b[1m0s\u001b[0m 32ms/step\n",
      "\n",
      " Epoch 19/50\n",
      "\u001b[1m1/1\u001b[0m \u001b[32m━━━━━━━━━━━━━━━━━━━━\u001b[0m\u001b[37m\u001b[0m \u001b[1m0s\u001b[0m 32ms/step\n",
      "\n",
      " Epoch 20/50\n",
      "\u001b[1m1/1\u001b[0m \u001b[32m━━━━━━━━━━━━━━━━━━━━\u001b[0m\u001b[37m\u001b[0m \u001b[1m0s\u001b[0m 32ms/step\n",
      "\n",
      " Epoch 21/50\n",
      "\u001b[1m1/1\u001b[0m \u001b[32m━━━━━━━━━━━━━━━━━━━━\u001b[0m\u001b[37m\u001b[0m \u001b[1m0s\u001b[0m 34ms/step\n",
      "\n",
      " Epoch 22/50\n",
      "\u001b[1m1/1\u001b[0m \u001b[32m━━━━━━━━━━━━━━━━━━━━\u001b[0m\u001b[37m\u001b[0m \u001b[1m0s\u001b[0m 29ms/step\n",
      "\n",
      " Epoch 23/50\n",
      "\u001b[1m1/1\u001b[0m \u001b[32m━━━━━━━━━━━━━━━━━━━━\u001b[0m\u001b[37m\u001b[0m \u001b[1m0s\u001b[0m 33ms/step\n",
      "\n",
      " Epoch 24/50\n",
      "\u001b[1m1/1\u001b[0m \u001b[32m━━━━━━━━━━━━━━━━━━━━\u001b[0m\u001b[37m\u001b[0m \u001b[1m0s\u001b[0m 31ms/step\n",
      "\n",
      " Epoch 25/50\n",
      "\u001b[1m1/1\u001b[0m \u001b[32m━━━━━━━━━━━━━━━━━━━━\u001b[0m\u001b[37m\u001b[0m \u001b[1m0s\u001b[0m 39ms/step\n",
      "\n",
      " Epoch 26/50\n",
      "\u001b[1m1/1\u001b[0m \u001b[32m━━━━━━━━━━━━━━━━━━━━\u001b[0m\u001b[37m\u001b[0m \u001b[1m0s\u001b[0m 36ms/step\n",
      "\n",
      " Epoch 27/50\n",
      "\u001b[1m1/1\u001b[0m \u001b[32m━━━━━━━━━━━━━━━━━━━━\u001b[0m\u001b[37m\u001b[0m \u001b[1m0s\u001b[0m 38ms/step\n",
      "\n",
      " Epoch 28/50\n",
      "\u001b[1m1/1\u001b[0m \u001b[32m━━━━━━━━━━━━━━━━━━━━\u001b[0m\u001b[37m\u001b[0m \u001b[1m0s\u001b[0m 36ms/step\n",
      "\n",
      " Epoch 29/50\n",
      "\u001b[1m1/1\u001b[0m \u001b[32m━━━━━━━━━━━━━━━━━━━━\u001b[0m\u001b[37m\u001b[0m \u001b[1m0s\u001b[0m 43ms/step\n",
      "\n",
      " Epoch 30/50\n",
      "\u001b[1m1/1\u001b[0m \u001b[32m━━━━━━━━━━━━━━━━━━━━\u001b[0m\u001b[37m\u001b[0m \u001b[1m0s\u001b[0m 40ms/step\n",
      "\n",
      " Epoch 31/50\n",
      "\u001b[1m1/1\u001b[0m \u001b[32m━━━━━━━━━━━━━━━━━━━━\u001b[0m\u001b[37m\u001b[0m \u001b[1m0s\u001b[0m 30ms/step\n",
      "\n",
      " Epoch 32/50\n",
      "\u001b[1m1/1\u001b[0m \u001b[32m━━━━━━━━━━━━━━━━━━━━\u001b[0m\u001b[37m\u001b[0m \u001b[1m0s\u001b[0m 39ms/step\n",
      "\n",
      " Epoch 33/50\n",
      "\u001b[1m1/1\u001b[0m \u001b[32m━━━━━━━━━━━━━━━━━━━━\u001b[0m\u001b[37m\u001b[0m \u001b[1m0s\u001b[0m 32ms/step\n",
      "\n",
      " Epoch 34/50\n",
      "\u001b[1m1/1\u001b[0m \u001b[32m━━━━━━━━━━━━━━━━━━━━\u001b[0m\u001b[37m\u001b[0m \u001b[1m0s\u001b[0m 29ms/step\n",
      "\n",
      " Epoch 35/50\n",
      "\u001b[1m1/1\u001b[0m \u001b[32m━━━━━━━━━━━━━━━━━━━━\u001b[0m\u001b[37m\u001b[0m \u001b[1m0s\u001b[0m 36ms/step\n",
      "\n",
      " Epoch 36/50\n",
      "\u001b[1m1/1\u001b[0m \u001b[32m━━━━━━━━━━━━━━━━━━━━\u001b[0m\u001b[37m\u001b[0m \u001b[1m0s\u001b[0m 29ms/step\n",
      "\n",
      " Epoch 37/50\n",
      "\u001b[1m1/1\u001b[0m \u001b[32m━━━━━━━━━━━━━━━━━━━━\u001b[0m\u001b[37m\u001b[0m \u001b[1m0s\u001b[0m 29ms/step\n",
      "\n",
      " Epoch 38/50\n",
      "\u001b[1m1/1\u001b[0m \u001b[32m━━━━━━━━━━━━━━━━━━━━\u001b[0m\u001b[37m\u001b[0m \u001b[1m0s\u001b[0m 40ms/step\n",
      "\n",
      " Epoch 39/50\n",
      "\u001b[1m1/1\u001b[0m \u001b[32m━━━━━━━━━━━━━━━━━━━━\u001b[0m\u001b[37m\u001b[0m \u001b[1m0s\u001b[0m 37ms/step\n",
      "\n",
      " Epoch 40/50\n",
      "\u001b[1m1/1\u001b[0m \u001b[32m━━━━━━━━━━━━━━━━━━━━\u001b[0m\u001b[37m\u001b[0m \u001b[1m0s\u001b[0m 48ms/step\n",
      "\n",
      " Epoch 41/50\n",
      "\u001b[1m1/1\u001b[0m \u001b[32m━━━━━━━━━━━━━━━━━━━━\u001b[0m\u001b[37m\u001b[0m \u001b[1m0s\u001b[0m 36ms/step\n",
      "\n",
      " Epoch 42/50\n",
      "\u001b[1m1/1\u001b[0m \u001b[32m━━━━━━━━━━━━━━━━━━━━\u001b[0m\u001b[37m\u001b[0m \u001b[1m0s\u001b[0m 34ms/step\n",
      "\n",
      " Epoch 43/50\n",
      "\u001b[1m1/1\u001b[0m \u001b[32m━━━━━━━━━━━━━━━━━━━━\u001b[0m\u001b[37m\u001b[0m \u001b[1m0s\u001b[0m 36ms/step\n",
      "\n",
      " Epoch 44/50\n",
      "\u001b[1m1/1\u001b[0m \u001b[32m━━━━━━━━━━━━━━━━━━━━\u001b[0m\u001b[37m\u001b[0m \u001b[1m0s\u001b[0m 31ms/step\n",
      "\n",
      " Epoch 45/50\n",
      "\u001b[1m1/1\u001b[0m \u001b[32m━━━━━━━━━━━━━━━━━━━━\u001b[0m\u001b[37m\u001b[0m \u001b[1m0s\u001b[0m 42ms/step\n",
      "\n",
      " Epoch 46/50\n",
      "\u001b[1m1/1\u001b[0m \u001b[32m━━━━━━━━━━━━━━━━━━━━\u001b[0m\u001b[37m\u001b[0m \u001b[1m0s\u001b[0m 38ms/step\n",
      "\n",
      " Epoch 47/50\n",
      "\u001b[1m1/1\u001b[0m \u001b[32m━━━━━━━━━━━━━━━━━━━━\u001b[0m\u001b[37m\u001b[0m \u001b[1m0s\u001b[0m 34ms/step\n",
      "\n",
      " Epoch 48/50\n",
      "\u001b[1m1/1\u001b[0m \u001b[32m━━━━━━━━━━━━━━━━━━━━\u001b[0m\u001b[37m\u001b[0m \u001b[1m0s\u001b[0m 37ms/step\n",
      "\n",
      " Epoch 49/50\n",
      "\u001b[1m1/1\u001b[0m \u001b[32m━━━━━━━━━━━━━━━━━━━━\u001b[0m\u001b[37m\u001b[0m \u001b[1m0s\u001b[0m 30ms/step\n",
      "\n",
      " Epoch 50/50\n",
      "\u001b[1m1/1\u001b[0m \u001b[32m━━━━━━━━━━━━━━━━━━━━\u001b[0m\u001b[37m\u001b[0m \u001b[1m0s\u001b[0m 34ms/step\n"
     ]
    }
   ],
   "source": [
    "train(train_data, EPOCHS)"
   ]
  },
  {
   "cell_type": "code",
   "execution_count": 80,
   "id": "58106b74-a787-46d2-9dc8-5636f023b3aa",
   "metadata": {},
   "outputs": [
    {
     "data": {
      "text/plain": [
       "[]"
      ]
     },
     "execution_count": 80,
     "metadata": {},
     "output_type": "execute_result"
    }
   ],
   "source": [
    "tf.config.list_physical_devices('GPU')"
   ]
  },
  {
   "cell_type": "code",
   "execution_count": 81,
   "id": "5ae74fd3-d3d3-4b1f-971a-a7ad32c4b459",
   "metadata": {},
   "outputs": [
    {
     "data": {
      "text/plain": [
       "False"
      ]
     },
     "execution_count": 81,
     "metadata": {},
     "output_type": "execute_result"
    }
   ],
   "source": [
    "tf.test.is_built_with_cuda()"
   ]
  },
  {
   "cell_type": "code",
   "execution_count": 119,
   "id": "2f44fc97-2004-4fad-9a9c-54e0e6470dc8",
   "metadata": {},
   "outputs": [
    {
     "name": "stdout",
     "output_type": "stream",
     "text": [
      "Defaulting to user installation because normal site-packages is not writeableNote: you may need to restart the kernel to use updated packages.\n"
     ]
    },
    {
     "name": "stderr",
     "output_type": "stream",
     "text": [
      "WARNING: tensorflow 2.13.1 does not provide the extra 'and-cuda'\n",
      "  WARNING: The script wheel.exe is installed in 'C:\\Users\\daksh\\AppData\\Roaming\\Python\\Python311\\Scripts' which is not on PATH.\n",
      "  Consider adding this directory to PATH or, if you prefer to suppress this warning, use --no-warn-script-location.\n",
      "  WARNING: The script f2py.exe is installed in 'C:\\Users\\daksh\\AppData\\Roaming\\Python\\Python311\\Scripts' which is not on PATH.\n",
      "  Consider adding this directory to PATH or, if you prefer to suppress this warning, use --no-warn-script-location.\n",
      "  WARNING: The script markdown_py.exe is installed in 'C:\\Users\\daksh\\AppData\\Roaming\\Python\\Python311\\Scripts' which is not on PATH.\n",
      "  Consider adding this directory to PATH or, if you prefer to suppress this warning, use --no-warn-script-location.\n",
      "  WARNING: The script normalizer.exe is installed in 'C:\\Users\\daksh\\AppData\\Roaming\\Python\\Python311\\Scripts' which is not on PATH.\n",
      "  Consider adding this directory to PATH or, if you prefer to suppress this warning, use --no-warn-script-location.\n",
      "  WARNING: The scripts pyrsa-decrypt.exe, pyrsa-encrypt.exe, pyrsa-keygen.exe, pyrsa-priv2pub.exe, pyrsa-sign.exe and pyrsa-verify.exe are installed in 'C:\\Users\\daksh\\AppData\\Roaming\\Python\\Python311\\Scripts' which is not on PATH.\n",
      "  Consider adding this directory to PATH or, if you prefer to suppress this warning, use --no-warn-script-location.\n",
      "  WARNING: Failed to remove contents in a temporary directory 'C:\\Users\\daksh\\AppData\\Roaming\\Python\\Python311\\site-packages\\~5py'.\n",
      "  You can safely remove it manually.\n",
      "  WARNING: The script google-oauthlib-tool.exe is installed in 'C:\\Users\\daksh\\AppData\\Roaming\\Python\\Python311\\Scripts' which is not on PATH.\n",
      "  Consider adding this directory to PATH or, if you prefer to suppress this warning, use --no-warn-script-location.\n",
      "  WARNING: The script tensorboard.exe is installed in 'C:\\Users\\daksh\\AppData\\Roaming\\Python\\Python311\\Scripts' which is not on PATH.\n",
      "  Consider adding this directory to PATH or, if you prefer to suppress this warning, use --no-warn-script-location.\n",
      "  WARNING: The scripts estimator_ckpt_converter.exe, import_pb_to_tensorboard.exe, saved_model_cli.exe, tensorboard.exe, tf_upgrade_v2.exe, tflite_convert.exe, toco.exe and toco_from_protos.exe are installed in 'C:\\Users\\daksh\\AppData\\Roaming\\Python\\Python311\\Scripts' which is not on PATH.\n",
      "  Consider adding this directory to PATH or, if you prefer to suppress this warning, use --no-warn-script-location.\n",
      "  WARNING: Failed to remove contents in a temporary directory 'C:\\Users\\daksh\\AppData\\Roaming\\Python\\Python311\\site-packages\\~ensorflow'.\n",
      "  You can safely remove it manually.\n",
      "ERROR: pip's dependency resolver does not currently take into account all the packages that are installed. This behaviour is the source of the following dependency conflicts.\n",
      "conda-repo-cli 1.0.75 requires requests_mock, which is not installed.\n",
      "gensim 4.3.0 requires FuzzyTM>=0.4.0, which is not installed.\n",
      "botocore 1.31.64 requires urllib3<2.1,>=1.25.4; python_version >= \"3.10\", but you have urllib3 2.2.1 which is incompatible.\n",
      "conda-repo-cli 1.0.75 requires clyent==1.2.1, but you have clyent 1.2.2 which is incompatible.\n",
      "conda-repo-cli 1.0.75 requires requests==2.31.0, but you have requests 2.32.3 which is incompatible.\n",
      "python-lsp-server 1.7.2 requires jedi<0.19.0,>=0.17.2, but you have jedi 0.19.1 which is incompatible.\n",
      "spyder 5.4.3 requires jedi<0.19.0,>=0.17.2, but you have jedi 0.19.1 which is incompatible.\n",
      "sqlalchemy 2.0.25 requires typing-extensions>=4.6.0, but you have typing-extensions 4.5.0 which is incompatible.\n",
      "streamlit 1.30.0 requires packaging<24,>=16.8, but you have packaging 24.0 which is incompatible.\n"
     ]
    },
    {
     "name": "stdout",
     "output_type": "stream",
     "text": [
      "\n",
      "Collecting tensorflow[and-cuda]\n",
      "  Using cached tensorflow-2.16.1-cp311-cp311-win_amd64.whl.metadata (3.5 kB)\n",
      "Collecting tensorflow-intel==2.16.1 (from tensorflow[and-cuda])\n",
      "  Using cached tensorflow_intel-2.16.1-cp311-cp311-win_amd64.whl.metadata (5.0 kB)\n",
      "Collecting nvidia-cublas-cu12==12.3.4.1 (from tensorflow[and-cuda])\n",
      "  Downloading nvidia_cublas_cu12-12.3.4.1-py3-none-win_amd64.whl.metadata (1.5 kB)\n",
      "Collecting nvidia-cuda-cupti-cu12==12.3.101 (from tensorflow[and-cuda])\n",
      "  Downloading nvidia_cuda_cupti_cu12-12.3.101-py3-none-win_amd64.whl.metadata (1.6 kB)\n",
      "Collecting nvidia-cuda-nvcc-cu12==12.3.107 (from tensorflow[and-cuda])\n",
      "  Downloading nvidia_cuda_nvcc_cu12-12.3.107-py3-none-win_amd64.whl.metadata (1.5 kB)\n",
      "Collecting nvidia-cuda-nvrtc-cu12==12.3.107 (from tensorflow[and-cuda])\n",
      "  Downloading nvidia_cuda_nvrtc_cu12-12.3.107-py3-none-win_amd64.whl.metadata (1.5 kB)\n",
      "Collecting nvidia-cuda-runtime-cu12==12.3.101 (from tensorflow[and-cuda])\n",
      "  Downloading nvidia_cuda_runtime_cu12-12.3.101-py3-none-win_amd64.whl.metadata (1.5 kB)\n",
      "Collecting nvidia-cudnn-cu12==8.9.7.29 (from tensorflow[and-cuda])\n",
      "  Downloading nvidia_cudnn_cu12-8.9.7.29-py3-none-win_amd64.whl.metadata (1.6 kB)\n",
      "Collecting nvidia-cufft-cu12==11.0.12.1 (from tensorflow[and-cuda])\n",
      "  Downloading nvidia_cufft_cu12-11.0.12.1-py3-none-win_amd64.whl.metadata (1.5 kB)\n",
      "Collecting nvidia-curand-cu12==10.3.4.107 (from tensorflow[and-cuda])\n",
      "  Downloading nvidia_curand_cu12-10.3.4.107-py3-none-win_amd64.whl.metadata (1.5 kB)\n",
      "Collecting nvidia-cusolver-cu12==11.5.4.101 (from tensorflow[and-cuda])\n",
      "  Downloading nvidia_cusolver_cu12-11.5.4.101-py3-none-win_amd64.whl.metadata (1.6 kB)\n",
      "Collecting nvidia-cusparse-cu12==12.2.0.103 (from tensorflow[and-cuda])\n",
      "  Downloading nvidia_cusparse_cu12-12.2.0.103-py3-none-win_amd64.whl.metadata (1.6 kB)\n",
      "INFO: pip is looking at multiple versions of tensorflow[and-cuda] to determine which version is compatible with other requirements. This could take a while.\n",
      "Collecting tensorflow[and-cuda]\n",
      "  Downloading tensorflow-2.15.1-cp311-cp311-win_amd64.whl.metadata (3.4 kB)\n",
      "Collecting tensorflow-intel==2.15.1 (from tensorflow[and-cuda])\n",
      "  Downloading tensorflow_intel-2.15.1-cp311-cp311-win_amd64.whl.metadata (4.9 kB)\n",
      "Collecting nvidia-cublas-cu12==12.2.5.6 (from tensorflow[and-cuda])\n",
      "  Downloading nvidia_cublas_cu12-12.2.5.6-py3-none-win_amd64.whl.metadata (1.5 kB)\n",
      "Collecting nvidia-cuda-cupti-cu12==12.2.142 (from tensorflow[and-cuda])\n",
      "  Downloading nvidia_cuda_cupti_cu12-12.2.142-py3-none-win_amd64.whl.metadata (1.6 kB)\n",
      "Collecting nvidia-cuda-nvcc-cu12==12.2.140 (from tensorflow[and-cuda])\n",
      "  Downloading nvidia_cuda_nvcc_cu12-12.2.140-py3-none-win_amd64.whl.metadata (1.5 kB)\n",
      "Collecting nvidia-cuda-nvrtc-cu12==12.2.140 (from tensorflow[and-cuda])\n",
      "  Downloading nvidia_cuda_nvrtc_cu12-12.2.140-py3-none-win_amd64.whl.metadata (1.5 kB)\n",
      "Collecting nvidia-cuda-runtime-cu12==12.2.140 (from tensorflow[and-cuda])\n",
      "  Downloading nvidia_cuda_runtime_cu12-12.2.140-py3-none-win_amd64.whl.metadata (1.5 kB)\n",
      "Collecting nvidia-cudnn-cu12==8.9.4.25 (from tensorflow[and-cuda])\n",
      "  Downloading nvidia_cudnn_cu12-8.9.4.25-py3-none-win_amd64.whl.metadata (1.6 kB)\n",
      "Collecting nvidia-cufft-cu12==11.0.8.103 (from tensorflow[and-cuda])\n",
      "  Downloading nvidia_cufft_cu12-11.0.8.103-py3-none-win_amd64.whl.metadata (1.5 kB)\n",
      "Collecting nvidia-curand-cu12==10.3.3.141 (from tensorflow[and-cuda])\n",
      "  Downloading nvidia_curand_cu12-10.3.3.141-py3-none-win_amd64.whl.metadata (1.5 kB)\n",
      "Collecting nvidia-cusolver-cu12==11.5.2.141 (from tensorflow[and-cuda])\n",
      "  Downloading nvidia_cusolver_cu12-11.5.2.141-py3-none-win_amd64.whl.metadata (1.6 kB)\n",
      "Collecting nvidia-cusparse-cu12==12.1.2.141 (from tensorflow[and-cuda])\n",
      "  Downloading nvidia_cusparse_cu12-12.1.2.141-py3-none-win_amd64.whl.metadata (1.6 kB)\n",
      "Collecting tensorflow[and-cuda]\n",
      "  Downloading tensorflow-2.15.0-cp311-cp311-win_amd64.whl.metadata (3.6 kB)\n",
      "Collecting tensorflow-intel==2.15.0 (from tensorflow[and-cuda])\n",
      "  Downloading tensorflow_intel-2.15.0-cp311-cp311-win_amd64.whl.metadata (5.1 kB)\n",
      "Collecting tensorflow[and-cuda]\n",
      "  Downloading tensorflow-2.14.1-cp311-cp311-win_amd64.whl.metadata (3.3 kB)\n",
      "Collecting tensorflow-intel==2.14.1 (from tensorflow[and-cuda])\n",
      "  Downloading tensorflow_intel-2.14.1-cp311-cp311-win_amd64.whl.metadata (4.8 kB)\n",
      "Collecting nvidia-cublas-cu11==11.11.3.6 (from tensorflow[and-cuda])\n",
      "  Downloading nvidia_cublas_cu11-11.11.3.6-py3-none-win_amd64.whl.metadata (1.5 kB)\n",
      "Collecting nvidia-cuda-cupti-cu11==11.8.87 (from tensorflow[and-cuda])\n",
      "  Downloading nvidia_cuda_cupti_cu11-11.8.87-py3-none-win_amd64.whl.metadata (1.6 kB)\n",
      "Collecting nvidia-cuda-nvcc-cu11==11.8.89 (from tensorflow[and-cuda])\n",
      "  Downloading nvidia_cuda_nvcc_cu11-11.8.89-py3-none-win_amd64.whl.metadata (1.5 kB)\n",
      "Collecting nvidia-cuda-runtime-cu11==11.8.89 (from tensorflow[and-cuda])\n",
      "  Downloading nvidia_cuda_runtime_cu11-11.8.89-py3-none-win_amd64.whl.metadata (1.5 kB)\n",
      "Collecting tensorflow[and-cuda]\n",
      "  Downloading tensorflow-2.14.0-cp311-cp311-win_amd64.whl.metadata (3.3 kB)\n",
      "Collecting tensorflow-intel==2.14.0 (from tensorflow[and-cuda])\n",
      "  Downloading tensorflow_intel-2.14.0-cp311-cp311-win_amd64.whl.metadata (4.8 kB)\n",
      "Collecting tensorflow[and-cuda]\n",
      "  Downloading tensorflow-2.13.1-cp311-cp311-win_amd64.whl.metadata (2.6 kB)\n",
      "Collecting tensorflow-intel==2.13.1 (from tensorflow[and-cuda])\n",
      "  Downloading tensorflow_intel-2.13.1-cp311-cp311-win_amd64.whl.metadata (4.1 kB)\n",
      "Collecting absl-py>=1.0.0 (from tensorflow-intel==2.13.1->tensorflow[and-cuda])\n",
      "  Using cached absl_py-2.1.0-py3-none-any.whl.metadata (2.3 kB)\n",
      "Collecting astunparse>=1.6.0 (from tensorflow-intel==2.13.1->tensorflow[and-cuda])\n",
      "  Using cached astunparse-1.6.3-py2.py3-none-any.whl.metadata (4.4 kB)\n",
      "Collecting flatbuffers>=23.1.21 (from tensorflow-intel==2.13.1->tensorflow[and-cuda])\n",
      "  Using cached flatbuffers-24.3.25-py2.py3-none-any.whl.metadata (850 bytes)\n",
      "Collecting gast<=0.4.0,>=0.2.1 (from tensorflow-intel==2.13.1->tensorflow[and-cuda])\n",
      "  Downloading gast-0.4.0-py3-none-any.whl.metadata (1.1 kB)\n",
      "Collecting google-pasta>=0.1.1 (from tensorflow-intel==2.13.1->tensorflow[and-cuda])\n",
      "  Using cached google_pasta-0.2.0-py3-none-any.whl.metadata (814 bytes)\n",
      "Collecting h5py>=2.9.0 (from tensorflow-intel==2.13.1->tensorflow[and-cuda])\n",
      "  Using cached h5py-3.11.0-cp311-cp311-win_amd64.whl.metadata (2.5 kB)\n",
      "Collecting libclang>=13.0.0 (from tensorflow-intel==2.13.1->tensorflow[and-cuda])\n",
      "  Using cached libclang-18.1.1-py2.py3-none-win_amd64.whl.metadata (5.3 kB)\n",
      "Collecting numpy<=1.24.3,>=1.22 (from tensorflow-intel==2.13.1->tensorflow[and-cuda])\n",
      "  Downloading numpy-1.24.3-cp311-cp311-win_amd64.whl.metadata (5.6 kB)\n",
      "Collecting opt-einsum>=2.3.2 (from tensorflow-intel==2.13.1->tensorflow[and-cuda])\n",
      "  Using cached opt_einsum-3.3.0-py3-none-any.whl.metadata (6.5 kB)\n",
      "Collecting packaging (from tensorflow-intel==2.13.1->tensorflow[and-cuda])\n",
      "  Downloading packaging-24.0-py3-none-any.whl.metadata (3.2 kB)\n",
      "Collecting protobuf!=4.21.0,!=4.21.1,!=4.21.2,!=4.21.3,!=4.21.4,!=4.21.5,<5.0.0dev,>=3.20.3 (from tensorflow-intel==2.13.1->tensorflow[and-cuda])\n",
      "  Downloading protobuf-4.25.3-cp310-abi3-win_amd64.whl.metadata (541 bytes)\n",
      "Collecting setuptools (from tensorflow-intel==2.13.1->tensorflow[and-cuda])\n",
      "  Downloading setuptools-70.0.0-py3-none-any.whl.metadata (5.9 kB)\n",
      "Collecting six>=1.12.0 (from tensorflow-intel==2.13.1->tensorflow[and-cuda])\n",
      "  Downloading six-1.16.0-py2.py3-none-any.whl.metadata (1.8 kB)\n",
      "Collecting termcolor>=1.1.0 (from tensorflow-intel==2.13.1->tensorflow[and-cuda])\n",
      "  Using cached termcolor-2.4.0-py3-none-any.whl.metadata (6.1 kB)\n",
      "Collecting typing-extensions<4.6.0,>=3.6.6 (from tensorflow-intel==2.13.1->tensorflow[and-cuda])\n",
      "  Downloading typing_extensions-4.5.0-py3-none-any.whl.metadata (8.5 kB)\n",
      "Collecting wrapt>=1.11.0 (from tensorflow-intel==2.13.1->tensorflow[and-cuda])\n",
      "  Downloading wrapt-1.16.0-cp311-cp311-win_amd64.whl.metadata (6.8 kB)\n",
      "Collecting grpcio<2.0,>=1.24.3 (from tensorflow-intel==2.13.1->tensorflow[and-cuda])\n",
      "  Using cached grpcio-1.64.0-cp311-cp311-win_amd64.whl.metadata (3.4 kB)\n",
      "Collecting tensorboard<2.14,>=2.13 (from tensorflow-intel==2.13.1->tensorflow[and-cuda])\n",
      "  Downloading tensorboard-2.13.0-py3-none-any.whl.metadata (1.8 kB)\n",
      "Collecting tensorflow-estimator<2.14,>=2.13.0 (from tensorflow-intel==2.13.1->tensorflow[and-cuda])\n",
      "  Downloading tensorflow_estimator-2.13.0-py2.py3-none-any.whl.metadata (1.3 kB)\n",
      "Collecting keras<2.14,>=2.13.1 (from tensorflow-intel==2.13.1->tensorflow[and-cuda])\n",
      "  Downloading keras-2.13.1-py3-none-any.whl.metadata (2.4 kB)\n",
      "Collecting tensorflow-io-gcs-filesystem>=0.23.1 (from tensorflow-intel==2.13.1->tensorflow[and-cuda])\n",
      "  Using cached tensorflow_io_gcs_filesystem-0.31.0-cp311-cp311-win_amd64.whl.metadata (14 kB)\n",
      "Collecting wheel<1.0,>=0.23.0 (from astunparse>=1.6.0->tensorflow-intel==2.13.1->tensorflow[and-cuda])\n",
      "  Downloading wheel-0.43.0-py3-none-any.whl.metadata (2.2 kB)\n",
      "Collecting google-auth<3,>=1.6.3 (from tensorboard<2.14,>=2.13->tensorflow-intel==2.13.1->tensorflow[and-cuda])\n",
      "  Downloading google_auth-2.29.0-py2.py3-none-any.whl.metadata (4.7 kB)\n",
      "Collecting google-auth-oauthlib<1.1,>=0.5 (from tensorboard<2.14,>=2.13->tensorflow-intel==2.13.1->tensorflow[and-cuda])\n",
      "  Downloading google_auth_oauthlib-1.0.0-py2.py3-none-any.whl.metadata (2.7 kB)\n",
      "Collecting markdown>=2.6.8 (from tensorboard<2.14,>=2.13->tensorflow-intel==2.13.1->tensorflow[and-cuda])\n",
      "  Downloading Markdown-3.6-py3-none-any.whl.metadata (7.0 kB)\n",
      "Collecting requests<3,>=2.21.0 (from tensorboard<2.14,>=2.13->tensorflow-intel==2.13.1->tensorflow[and-cuda])\n",
      "  Downloading requests-2.32.3-py3-none-any.whl.metadata (4.6 kB)\n",
      "Collecting tensorboard-data-server<0.8.0,>=0.7.0 (from tensorboard<2.14,>=2.13->tensorflow-intel==2.13.1->tensorflow[and-cuda])\n",
      "  Using cached tensorboard_data_server-0.7.2-py3-none-any.whl.metadata (1.1 kB)\n",
      "Collecting werkzeug>=1.0.1 (from tensorboard<2.14,>=2.13->tensorflow-intel==2.13.1->tensorflow[and-cuda])\n",
      "  Downloading werkzeug-3.0.3-py3-none-any.whl.metadata (3.7 kB)\n",
      "Collecting cachetools<6.0,>=2.0.0 (from google-auth<3,>=1.6.3->tensorboard<2.14,>=2.13->tensorflow-intel==2.13.1->tensorflow[and-cuda])\n",
      "  Downloading cachetools-5.3.3-py3-none-any.whl.metadata (5.3 kB)\n",
      "Collecting pyasn1-modules>=0.2.1 (from google-auth<3,>=1.6.3->tensorboard<2.14,>=2.13->tensorflow-intel==2.13.1->tensorflow[and-cuda])\n",
      "  Downloading pyasn1_modules-0.4.0-py3-none-any.whl.metadata (3.4 kB)\n",
      "Collecting rsa<5,>=3.1.4 (from google-auth<3,>=1.6.3->tensorboard<2.14,>=2.13->tensorflow-intel==2.13.1->tensorflow[and-cuda])\n",
      "  Downloading rsa-4.9-py3-none-any.whl.metadata (4.2 kB)\n",
      "Collecting requests-oauthlib>=0.7.0 (from google-auth-oauthlib<1.1,>=0.5->tensorboard<2.14,>=2.13->tensorflow-intel==2.13.1->tensorflow[and-cuda])\n",
      "  Downloading requests_oauthlib-2.0.0-py2.py3-none-any.whl.metadata (11 kB)\n",
      "Collecting charset-normalizer<4,>=2 (from requests<3,>=2.21.0->tensorboard<2.14,>=2.13->tensorflow-intel==2.13.1->tensorflow[and-cuda])\n",
      "  Downloading charset_normalizer-3.3.2-cp311-cp311-win_amd64.whl.metadata (34 kB)\n",
      "Collecting idna<4,>=2.5 (from requests<3,>=2.21.0->tensorboard<2.14,>=2.13->tensorflow-intel==2.13.1->tensorflow[and-cuda])\n",
      "  Downloading idna-3.7-py3-none-any.whl.metadata (9.9 kB)\n",
      "Collecting urllib3<3,>=1.21.1 (from requests<3,>=2.21.0->tensorboard<2.14,>=2.13->tensorflow-intel==2.13.1->tensorflow[and-cuda])\n",
      "  Downloading urllib3-2.2.1-py3-none-any.whl.metadata (6.4 kB)\n",
      "Collecting certifi>=2017.4.17 (from requests<3,>=2.21.0->tensorboard<2.14,>=2.13->tensorflow-intel==2.13.1->tensorflow[and-cuda])\n",
      "  Downloading certifi-2024.2.2-py3-none-any.whl.metadata (2.2 kB)\n",
      "Collecting MarkupSafe>=2.1.1 (from werkzeug>=1.0.1->tensorboard<2.14,>=2.13->tensorflow-intel==2.13.1->tensorflow[and-cuda])\n",
      "  Downloading MarkupSafe-2.1.5-cp311-cp311-win_amd64.whl.metadata (3.1 kB)\n",
      "Collecting pyasn1<0.7.0,>=0.4.6 (from pyasn1-modules>=0.2.1->google-auth<3,>=1.6.3->tensorboard<2.14,>=2.13->tensorflow-intel==2.13.1->tensorflow[and-cuda])\n",
      "  Downloading pyasn1-0.6.0-py2.py3-none-any.whl.metadata (8.3 kB)\n",
      "Collecting oauthlib>=3.0.0 (from requests-oauthlib>=0.7.0->google-auth-oauthlib<1.1,>=0.5->tensorboard<2.14,>=2.13->tensorflow-intel==2.13.1->tensorflow[and-cuda])\n",
      "  Downloading oauthlib-3.2.2-py3-none-any.whl.metadata (7.5 kB)\n",
      "Downloading tensorflow_intel-2.13.1-cp311-cp311-win_amd64.whl (276.6 MB)\n",
      "   ---------------------------------------- 0.0/276.6 MB ? eta -:--:--\n",
      "   ---------------------------------------- 0.1/276.6 MB 3.0 MB/s eta 0:01:33\n",
      "   ---------------------------------------- 0.4/276.6 MB 5.0 MB/s eta 0:00:56\n",
      "   ---------------------------------------- 1.1/276.6 MB 8.6 MB/s eta 0:00:33\n",
      "   ---------------------------------------- 2.0/276.6 MB 11.5 MB/s eta 0:00:24\n",
      "   ---------------------------------------- 2.1/276.6 MB 10.2 MB/s eta 0:00:27\n",
      "   ---------------------------------------- 2.1/276.6 MB 10.2 MB/s eta 0:00:27\n",
      "   ---------------------------------------- 2.1/276.6 MB 10.2 MB/s eta 0:00:27\n",
      "   ---------------------------------------- 3.2/276.6 MB 9.4 MB/s eta 0:00:30\n",
      "    --------------------------------------- 3.7/276.6 MB 9.4 MB/s eta 0:00:30\n",
      "    --------------------------------------- 3.9/276.6 MB 9.1 MB/s eta 0:00:30\n",
      "    --------------------------------------- 4.5/276.6 MB 9.3 MB/s eta 0:00:30\n",
      "    --------------------------------------- 5.3/276.6 MB 10.0 MB/s eta 0:00:28\n",
      "    --------------------------------------- 5.7/276.6 MB 9.9 MB/s eta 0:00:28\n",
      "    --------------------------------------- 6.1/276.6 MB 9.8 MB/s eta 0:00:28\n",
      "    --------------------------------------- 6.5/276.6 MB 9.7 MB/s eta 0:00:28\n",
      "   - -------------------------------------- 6.9/276.6 MB 9.7 MB/s eta 0:00:28\n",
      "   - -------------------------------------- 7.4/276.6 MB 9.6 MB/s eta 0:00:29\n",
      "   - -------------------------------------- 7.7/276.6 MB 9.5 MB/s eta 0:00:29\n",
      "   - -------------------------------------- 8.2/276.6 MB 9.5 MB/s eta 0:00:29\n",
      "   - -------------------------------------- 8.6/276.6 MB 9.4 MB/s eta 0:00:29\n",
      "   - -------------------------------------- 9.0/276.6 MB 9.4 MB/s eta 0:00:29\n",
      "   - -------------------------------------- 9.4/276.6 MB 9.4 MB/s eta 0:00:29\n",
      "   - -------------------------------------- 9.8/276.6 MB 9.3 MB/s eta 0:00:29\n",
      "   - -------------------------------------- 10.2/276.6 MB 9.3 MB/s eta 0:00:29\n",
      "   - -------------------------------------- 10.6/276.6 MB 9.6 MB/s eta 0:00:28\n",
      "   - -------------------------------------- 11.0/276.6 MB 9.5 MB/s eta 0:00:28\n",
      "   - -------------------------------------- 11.4/276.6 MB 9.2 MB/s eta 0:00:29\n",
      "   - -------------------------------------- 11.8/276.6 MB 9.1 MB/s eta 0:00:30\n",
      "   - -------------------------------------- 12.2/276.6 MB 8.8 MB/s eta 0:00:30\n",
      "   - -------------------------------------- 12.6/276.6 MB 9.6 MB/s eta 0:00:28\n",
      "   - -------------------------------------- 13.0/276.6 MB 9.4 MB/s eta 0:00:29\n",
      "   - -------------------------------------- 13.4/276.6 MB 9.1 MB/s eta 0:00:29\n",
      "   -- ------------------------------------- 13.9/276.6 MB 9.1 MB/s eta 0:00:29\n",
      "   -- ------------------------------------- 14.3/276.6 MB 9.6 MB/s eta 0:00:28\n",
      "   -- ------------------------------------- 14.7/276.6 MB 9.2 MB/s eta 0:00:29\n",
      "   -- ------------------------------------- 15.1/276.6 MB 9.0 MB/s eta 0:00:30\n",
      "   -- ------------------------------------- 15.5/276.6 MB 8.8 MB/s eta 0:00:30\n",
      "   -- ------------------------------------- 15.9/276.6 MB 8.8 MB/s eta 0:00:30\n",
      "   -- ------------------------------------- 16.3/276.6 MB 8.8 MB/s eta 0:00:30\n",
      "   -- ------------------------------------- 16.7/276.6 MB 8.8 MB/s eta 0:00:30\n",
      "   -- ------------------------------------- 17.1/276.6 MB 8.8 MB/s eta 0:00:30\n",
      "   -- ------------------------------------- 17.5/276.6 MB 8.8 MB/s eta 0:00:30\n",
      "   -- ------------------------------------- 18.0/276.6 MB 8.8 MB/s eta 0:00:30\n",
      "   -- ------------------------------------- 18.6/276.6 MB 9.1 MB/s eta 0:00:29\n",
      "   -- ------------------------------------- 19.3/276.6 MB 9.4 MB/s eta 0:00:28\n",
      "   -- ------------------------------------- 20.0/276.6 MB 9.6 MB/s eta 0:00:27\n",
      "   -- ------------------------------------- 20.0/276.6 MB 9.6 MB/s eta 0:00:27\n",
      "   -- ------------------------------------- 20.5/276.6 MB 9.4 MB/s eta 0:00:28\n",
      "   -- ------------------------------------- 20.5/276.6 MB 9.2 MB/s eta 0:00:28\n",
      "   --- ------------------------------------ 20.8/276.6 MB 9.0 MB/s eta 0:00:29\n",
      "   --- ------------------------------------ 21.4/276.6 MB 9.2 MB/s eta 0:00:28\n",
      "   --- ------------------------------------ 21.8/276.6 MB 9.2 MB/s eta 0:00:28\n",
      "   --- ------------------------------------ 22.3/276.6 MB 9.1 MB/s eta 0:00:28\n",
      "   --- ------------------------------------ 23.2/276.6 MB 9.5 MB/s eta 0:00:27\n",
      "   --- ------------------------------------ 23.5/276.6 MB 9.5 MB/s eta 0:00:27\n",
      "   --- ------------------------------------ 24.0/276.6 MB 9.5 MB/s eta 0:00:27\n",
      "   --- ------------------------------------ 24.4/276.6 MB 9.5 MB/s eta 0:00:27\n",
      "   --- ------------------------------------ 24.8/276.6 MB 9.5 MB/s eta 0:00:27\n",
      "   --- ------------------------------------ 25.2/276.6 MB 9.5 MB/s eta 0:00:27\n",
      "   --- ------------------------------------ 25.6/276.6 MB 9.4 MB/s eta 0:00:27\n",
      "   --- ------------------------------------ 26.0/276.6 MB 9.4 MB/s eta 0:00:27\n",
      "   --- ------------------------------------ 26.4/276.6 MB 9.4 MB/s eta 0:00:27\n",
      "   --- ------------------------------------ 26.8/276.6 MB 9.4 MB/s eta 0:00:27\n",
      "   --- ------------------------------------ 27.2/276.6 MB 9.4 MB/s eta 0:00:27\n",
      "   --- ------------------------------------ 27.6/276.6 MB 9.4 MB/s eta 0:00:27\n",
      "   ---- ----------------------------------- 28.0/276.6 MB 9.4 MB/s eta 0:00:27\n",
      "   ---- ----------------------------------- 28.4/276.6 MB 9.2 MB/s eta 0:00:27\n",
      "   ---- ----------------------------------- 28.8/276.6 MB 9.1 MB/s eta 0:00:28\n",
      "   ---- ----------------------------------- 29.2/276.6 MB 9.0 MB/s eta 0:00:28\n",
      "   ---- ----------------------------------- 29.6/276.6 MB 8.8 MB/s eta 0:00:28\n",
      "   ---- ----------------------------------- 30.0/276.6 MB 8.6 MB/s eta 0:00:29\n",
      "   ---- ----------------------------------- 30.4/276.6 MB 9.0 MB/s eta 0:00:28\n",
      "   ---- ----------------------------------- 30.8/276.6 MB 9.2 MB/s eta 0:00:27\n",
      "   ---- ----------------------------------- 31.2/276.6 MB 9.4 MB/s eta 0:00:27\n",
      "   ---- ----------------------------------- 31.6/276.6 MB 9.0 MB/s eta 0:00:28\n",
      "   ---- ----------------------------------- 32.0/276.6 MB 9.0 MB/s eta 0:00:28\n",
      "   ---- ----------------------------------- 32.4/276.6 MB 9.2 MB/s eta 0:00:27\n",
      "   ---- ----------------------------------- 32.8/276.6 MB 8.8 MB/s eta 0:00:28\n",
      "   ---- ----------------------------------- 33.2/276.6 MB 8.7 MB/s eta 0:00:28\n",
      "   ---- ----------------------------------- 33.6/276.6 MB 8.7 MB/s eta 0:00:28\n",
      "   ---- ----------------------------------- 34.0/276.6 MB 8.6 MB/s eta 0:00:29\n",
      "   ---- ----------------------------------- 34.4/276.6 MB 8.7 MB/s eta 0:00:28\n",
      "   ----- ---------------------------------- 34.8/276.6 MB 8.7 MB/s eta 0:00:28\n",
      "   ----- ---------------------------------- 35.2/276.6 MB 8.7 MB/s eta 0:00:28\n",
      "   ----- ---------------------------------- 35.6/276.6 MB 8.6 MB/s eta 0:00:28\n",
      "   ----- ---------------------------------- 36.0/276.6 MB 8.6 MB/s eta 0:00:28\n",
      "   ----- ---------------------------------- 36.4/276.6 MB 8.6 MB/s eta 0:00:28\n",
      "   ----- ---------------------------------- 36.8/276.6 MB 8.6 MB/s eta 0:00:28\n",
      "   ----- ---------------------------------- 37.3/276.6 MB 8.7 MB/s eta 0:00:28\n",
      "   ----- ---------------------------------- 37.7/276.6 MB 8.6 MB/s eta 0:00:28\n",
      "   ----- ---------------------------------- 38.2/276.6 MB 8.7 MB/s eta 0:00:28\n",
      "   ----- ---------------------------------- 38.6/276.6 MB 8.8 MB/s eta 0:00:27\n",
      "   ----- ---------------------------------- 39.1/276.6 MB 8.8 MB/s eta 0:00:27\n",
      "   ----- ---------------------------------- 39.7/276.6 MB 9.0 MB/s eta 0:00:27\n",
      "   ----- ---------------------------------- 40.2/276.6 MB 9.2 MB/s eta 0:00:26\n",
      "   ----- ---------------------------------- 40.8/276.6 MB 9.4 MB/s eta 0:00:26\n",
      "   ----- ---------------------------------- 41.4/276.6 MB 9.5 MB/s eta 0:00:25\n",
      "   ------ --------------------------------- 42.0/276.6 MB 9.8 MB/s eta 0:00:25\n",
      "   ------ --------------------------------- 42.2/276.6 MB 9.5 MB/s eta 0:00:25\n",
      "   ------ --------------------------------- 42.4/276.6 MB 9.6 MB/s eta 0:00:25\n",
      "   ------ --------------------------------- 42.9/276.6 MB 9.6 MB/s eta 0:00:25\n",
      "   ------ --------------------------------- 43.3/276.6 MB 9.4 MB/s eta 0:00:25\n",
      "   ------ --------------------------------- 43.7/276.6 MB 9.4 MB/s eta 0:00:25\n",
      "   ------ --------------------------------- 43.9/276.6 MB 9.4 MB/s eta 0:00:25\n",
      "   ------ --------------------------------- 43.9/276.6 MB 9.2 MB/s eta 0:00:26\n",
      "   ------ --------------------------------- 45.5/276.6 MB 9.9 MB/s eta 0:00:24\n",
      "   ------ --------------------------------- 45.8/276.6 MB 10.1 MB/s eta 0:00:23\n",
      "   ------ --------------------------------- 46.3/276.6 MB 10.1 MB/s eta 0:00:23\n",
      "   ------ --------------------------------- 46.7/276.6 MB 9.9 MB/s eta 0:00:24\n",
      "   ------ --------------------------------- 47.1/276.6 MB 9.9 MB/s eta 0:00:24\n",
      "   ------ --------------------------------- 47.5/276.6 MB 10.1 MB/s eta 0:00:23\n",
      "   ------ --------------------------------- 47.9/276.6 MB 10.1 MB/s eta 0:00:23\n",
      "   ------ --------------------------------- 48.3/276.6 MB 9.9 MB/s eta 0:00:24\n",
      "   ------- -------------------------------- 48.7/276.6 MB 9.9 MB/s eta 0:00:23\n",
      "   ------- -------------------------------- 49.2/276.6 MB 9.8 MB/s eta 0:00:24\n",
      "   ------- -------------------------------- 49.6/276.6 MB 9.8 MB/s eta 0:00:24\n",
      "   ------- -------------------------------- 50.0/276.6 MB 9.6 MB/s eta 0:00:24\n",
      "   ------- -------------------------------- 50.4/276.6 MB 9.5 MB/s eta 0:00:24\n",
      "   ------- -------------------------------- 50.8/276.6 MB 9.4 MB/s eta 0:00:25\n",
      "   ------- -------------------------------- 51.2/276.6 MB 9.4 MB/s eta 0:00:25\n",
      "   ------- -------------------------------- 51.6/276.6 MB 9.2 MB/s eta 0:00:25\n",
      "   ------- -------------------------------- 52.0/276.6 MB 9.1 MB/s eta 0:00:25\n",
      "   ------- -------------------------------- 52.4/276.6 MB 9.2 MB/s eta 0:00:25\n",
      "   ------- -------------------------------- 52.8/276.6 MB 9.2 MB/s eta 0:00:25\n",
      "   ------- -------------------------------- 53.2/276.6 MB 9.5 MB/s eta 0:00:24\n",
      "   ------- -------------------------------- 53.7/276.6 MB 9.4 MB/s eta 0:00:24\n",
      "   ------- -------------------------------- 54.1/276.6 MB 9.4 MB/s eta 0:00:24\n",
      "   ------- -------------------------------- 54.5/276.6 MB 9.6 MB/s eta 0:00:24\n",
      "   ------- -------------------------------- 54.9/276.6 MB 9.2 MB/s eta 0:00:25\n",
      "   -------- ------------------------------- 55.3/276.6 MB 9.0 MB/s eta 0:00:25\n",
      "   -------- ------------------------------- 55.7/276.6 MB 8.8 MB/s eta 0:00:25\n",
      "   -------- ------------------------------- 56.2/276.6 MB 8.8 MB/s eta 0:00:25\n",
      "   -------- ------------------------------- 56.6/276.6 MB 8.8 MB/s eta 0:00:25\n",
      "   -------- ------------------------------- 57.0/276.6 MB 8.8 MB/s eta 0:00:25\n",
      "   -------- ------------------------------- 57.4/276.6 MB 8.8 MB/s eta 0:00:25\n",
      "   -------- ------------------------------- 57.8/276.6 MB 8.8 MB/s eta 0:00:25\n",
      "   -------- ------------------------------- 58.2/276.6 MB 8.8 MB/s eta 0:00:25\n",
      "   -------- ------------------------------- 58.6/276.6 MB 8.8 MB/s eta 0:00:25\n",
      "   -------- ------------------------------- 59.1/276.6 MB 8.8 MB/s eta 0:00:25\n",
      "   -------- ------------------------------- 59.5/276.6 MB 8.8 MB/s eta 0:00:25\n",
      "   -------- ------------------------------- 60.0/276.6 MB 9.0 MB/s eta 0:00:25\n",
      "   -------- ------------------------------- 60.6/276.6 MB 9.1 MB/s eta 0:00:24\n",
      "   -------- ------------------------------- 61.1/276.6 MB 9.2 MB/s eta 0:00:24\n",
      "   -------- ------------------------------- 61.6/276.6 MB 9.4 MB/s eta 0:00:23\n",
      "   -------- ------------------------------- 62.2/276.6 MB 9.5 MB/s eta 0:00:23\n",
      "   --------- ------------------------------ 62.6/276.6 MB 9.6 MB/s eta 0:00:23\n",
      "   --------- ------------------------------ 62.7/276.6 MB 9.4 MB/s eta 0:00:23\n",
      "   --------- ------------------------------ 62.7/276.6 MB 9.1 MB/s eta 0:00:24\n",
      "   --------- ------------------------------ 63.5/276.6 MB 9.1 MB/s eta 0:00:24\n",
      "   --------- ------------------------------ 63.8/276.6 MB 9.2 MB/s eta 0:00:24\n",
      "   --------- ------------------------------ 64.4/276.6 MB 9.4 MB/s eta 0:00:23\n",
      "   --------- ------------------------------ 64.8/276.6 MB 9.2 MB/s eta 0:00:23\n",
      "   --------- ------------------------------ 65.8/276.6 MB 9.6 MB/s eta 0:00:22\n",
      "   --------- ------------------------------ 66.2/276.6 MB 9.8 MB/s eta 0:00:22\n",
      "   --------- ------------------------------ 66.6/276.6 MB 9.9 MB/s eta 0:00:22\n",
      "   --------- ------------------------------ 67.0/276.6 MB 9.9 MB/s eta 0:00:22\n",
      "   --------- ------------------------------ 67.5/276.6 MB 9.9 MB/s eta 0:00:22\n",
      "   --------- ------------------------------ 67.9/276.6 MB 9.9 MB/s eta 0:00:22\n",
      "   --------- ------------------------------ 68.3/276.6 MB 9.9 MB/s eta 0:00:21\n",
      "   --------- ------------------------------ 68.7/276.6 MB 9.9 MB/s eta 0:00:21\n",
      "   ---------- ----------------------------- 69.2/276.6 MB 9.9 MB/s eta 0:00:21\n",
      "   ---------- ----------------------------- 69.5/276.6 MB 9.8 MB/s eta 0:00:22\n",
      "   ---------- ----------------------------- 70.0/276.6 MB 9.8 MB/s eta 0:00:22\n",
      "   ---------- ----------------------------- 70.4/276.6 MB 9.8 MB/s eta 0:00:22\n",
      "   ---------- ----------------------------- 70.8/276.6 MB 9.6 MB/s eta 0:00:22\n",
      "   ---------- ----------------------------- 71.2/276.6 MB 9.5 MB/s eta 0:00:22\n",
      "   ---------- ----------------------------- 71.7/276.6 MB 9.5 MB/s eta 0:00:22\n",
      "   ---------- ----------------------------- 72.1/276.6 MB 9.4 MB/s eta 0:00:22\n",
      "   ---------- ----------------------------- 72.5/276.6 MB 9.2 MB/s eta 0:00:23\n",
      "   ---------- ----------------------------- 72.9/276.6 MB 9.8 MB/s eta 0:00:21\n",
      "   ---------- ----------------------------- 73.3/276.6 MB 9.8 MB/s eta 0:00:21\n",
      "   ---------- ----------------------------- 73.7/276.6 MB 9.6 MB/s eta 0:00:22\n",
      "   ---------- ----------------------------- 74.2/276.6 MB 9.8 MB/s eta 0:00:21\n",
      "   ---------- ----------------------------- 74.6/276.6 MB 9.5 MB/s eta 0:00:22\n",
      "   ---------- ----------------------------- 75.0/276.6 MB 9.6 MB/s eta 0:00:21\n",
      "   ---------- ----------------------------- 75.5/276.6 MB 9.4 MB/s eta 0:00:22\n",
      "   ---------- ----------------------------- 75.9/276.6 MB 9.1 MB/s eta 0:00:23\n",
      "   ----------- ---------------------------- 76.3/276.6 MB 9.1 MB/s eta 0:00:23\n",
      "   ----------- ---------------------------- 76.7/276.6 MB 9.1 MB/s eta 0:00:22\n",
      "   ----------- ---------------------------- 77.1/276.6 MB 9.1 MB/s eta 0:00:22\n",
      "   ----------- ---------------------------- 77.5/276.6 MB 9.0 MB/s eta 0:00:23\n",
      "   ----------- ---------------------------- 78.0/276.6 MB 9.0 MB/s eta 0:00:23\n",
      "   ----------- ---------------------------- 78.4/276.6 MB 9.0 MB/s eta 0:00:23\n",
      "   ----------- ---------------------------- 78.8/276.6 MB 9.1 MB/s eta 0:00:22\n",
      "   ----------- ---------------------------- 79.2/276.6 MB 9.0 MB/s eta 0:00:23\n",
      "   ----------- ---------------------------- 79.7/276.6 MB 9.1 MB/s eta 0:00:22\n",
      "   ----------- ---------------------------- 80.1/276.6 MB 9.1 MB/s eta 0:00:22\n",
      "   ----------- ---------------------------- 80.6/276.6 MB 9.1 MB/s eta 0:00:22\n",
      "   ----------- ---------------------------- 81.1/276.6 MB 9.2 MB/s eta 0:00:22\n",
      "   ----------- ---------------------------- 81.6/276.6 MB 9.2 MB/s eta 0:00:22\n",
      "   ----------- ---------------------------- 82.1/276.6 MB 9.4 MB/s eta 0:00:21\n",
      "   ----------- ---------------------------- 82.7/276.6 MB 9.5 MB/s eta 0:00:21\n",
      "   ----------- ---------------------------- 82.7/276.6 MB 9.2 MB/s eta 0:00:22\n",
      "   ------------ --------------------------- 83.3/276.6 MB 9.2 MB/s eta 0:00:21\n",
      "   ------------ --------------------------- 83.7/276.6 MB 9.2 MB/s eta 0:00:21\n",
      "   ------------ --------------------------- 84.0/276.6 MB 9.2 MB/s eta 0:00:21\n",
      "   ------------ --------------------------- 84.4/276.6 MB 9.1 MB/s eta 0:00:22\n",
      "   ------------ --------------------------- 84.7/276.6 MB 9.0 MB/s eta 0:00:22\n",
      "   ------------ --------------------------- 85.2/276.6 MB 9.1 MB/s eta 0:00:22\n",
      "   ------------ --------------------------- 86.1/276.6 MB 9.5 MB/s eta 0:00:21\n",
      "   ------------ --------------------------- 86.6/276.6 MB 9.6 MB/s eta 0:00:20\n",
      "   ------------ --------------------------- 87.0/276.6 MB 9.5 MB/s eta 0:00:20\n",
      "   ------------ --------------------------- 87.4/276.6 MB 9.5 MB/s eta 0:00:20\n",
      "   ------------ --------------------------- 87.9/276.6 MB 9.5 MB/s eta 0:00:20\n",
      "   ------------ --------------------------- 88.3/276.6 MB 9.5 MB/s eta 0:00:20\n",
      "   ------------ --------------------------- 88.7/276.6 MB 9.5 MB/s eta 0:00:20\n",
      "   ------------ --------------------------- 89.1/276.6 MB 9.5 MB/s eta 0:00:20\n",
      "   ------------ --------------------------- 89.6/276.6 MB 9.6 MB/s eta 0:00:20\n",
      "   ------------- -------------------------- 90.0/276.6 MB 9.5 MB/s eta 0:00:20\n",
      "   ------------- -------------------------- 90.4/276.6 MB 9.6 MB/s eta 0:00:20\n",
      "   ------------- -------------------------- 90.8/276.6 MB 9.5 MB/s eta 0:00:20\n",
      "   ------------- -------------------------- 91.3/276.6 MB 9.5 MB/s eta 0:00:20\n",
      "   ------------- -------------------------- 91.7/276.6 MB 9.4 MB/s eta 0:00:20\n",
      "   ------------- -------------------------- 92.1/276.6 MB 9.5 MB/s eta 0:00:20\n",
      "   ------------- -------------------------- 92.5/276.6 MB 9.4 MB/s eta 0:00:20\n",
      "   ------------- -------------------------- 92.9/276.6 MB 9.2 MB/s eta 0:00:20\n",
      "   ------------- -------------------------- 93.2/276.6 MB 9.6 MB/s eta 0:00:20\n",
      "   ------------- -------------------------- 93.2/276.6 MB 9.4 MB/s eta 0:00:20\n",
      "   ------------- -------------------------- 93.2/276.6 MB 9.4 MB/s eta 0:00:20\n",
      "   ------------- -------------------------- 93.2/276.6 MB 8.4 MB/s eta 0:00:22\n",
      "   ------------- -------------------------- 93.2/276.6 MB 8.4 MB/s eta 0:00:22\n",
      "   ------------- -------------------------- 93.2/276.6 MB 8.4 MB/s eta 0:00:22\n",
      "   ------------- -------------------------- 93.6/276.6 MB 7.7 MB/s eta 0:00:24\n",
      "   ------------- -------------------------- 94.0/276.6 MB 7.6 MB/s eta 0:00:24\n",
      "   ------------- -------------------------- 94.4/276.6 MB 7.8 MB/s eta 0:00:24\n",
      "   ------------- -------------------------- 94.9/276.6 MB 7.8 MB/s eta 0:00:24\n",
      "   ------------- -------------------------- 95.3/276.6 MB 7.8 MB/s eta 0:00:24\n",
      "   ------------- -------------------------- 95.7/276.6 MB 7.7 MB/s eta 0:00:24\n",
      "   ------------- -------------------------- 96.1/276.6 MB 7.4 MB/s eta 0:00:25\n",
      "   ------------- -------------------------- 96.6/276.6 MB 7.4 MB/s eta 0:00:25\n",
      "   -------------- ------------------------- 97.0/276.6 MB 7.4 MB/s eta 0:00:25\n",
      "   -------------- ------------------------- 97.4/276.6 MB 7.4 MB/s eta 0:00:25\n",
      "   -------------- ------------------------- 97.8/276.6 MB 7.4 MB/s eta 0:00:25\n",
      "   -------------- ------------------------- 98.3/276.6 MB 7.4 MB/s eta 0:00:24\n",
      "   -------------- ------------------------- 98.7/276.6 MB 7.4 MB/s eta 0:00:24\n",
      "   -------------- ------------------------- 99.1/276.6 MB 7.4 MB/s eta 0:00:24\n",
      "   -------------- ------------------------- 99.5/276.6 MB 7.4 MB/s eta 0:00:24\n",
      "   -------------- ------------------------- 100.0/276.6 MB 7.4 MB/s eta 0:00:24\n",
      "   -------------- ------------------------- 100.4/276.6 MB 7.4 MB/s eta 0:00:24\n",
      "   -------------- ------------------------- 100.8/276.6 MB 7.4 MB/s eta 0:00:24\n",
      "   -------------- ------------------------- 101.3/276.6 MB 7.4 MB/s eta 0:00:24\n",
      "   -------------- ------------------------- 101.7/276.6 MB 7.4 MB/s eta 0:00:24\n",
      "   -------------- ------------------------- 102.2/276.6 MB 7.5 MB/s eta 0:00:24\n",
      "   -------------- ------------------------- 102.7/276.6 MB 7.5 MB/s eta 0:00:24\n",
      "   -------------- ------------------------- 103.2/276.6 MB 7.6 MB/s eta 0:00:23\n",
      "   --------------- ------------------------ 103.8/276.6 MB 9.5 MB/s eta 0:00:19\n",
      "   --------------- ------------------------ 104.3/276.6 MB 9.6 MB/s eta 0:00:18\n",
      "   --------------- ------------------------ 105.0/276.6 MB 9.8 MB/s eta 0:00:18\n",
      "   -------------- ------------------------ 105.6/276.6 MB 10.1 MB/s eta 0:00:17\n",
      "   -------------- ------------------------ 105.7/276.6 MB 10.2 MB/s eta 0:00:17\n",
      "   --------------- ------------------------ 105.9/276.6 MB 9.5 MB/s eta 0:00:18\n",
      "   --------------- ------------------------ 106.5/276.6 MB 9.8 MB/s eta 0:00:18\n",
      "   --------------- ------------------------ 106.7/276.6 MB 9.6 MB/s eta 0:00:18\n",
      "   --------------- ------------------------ 107.2/276.6 MB 9.6 MB/s eta 0:00:18\n",
      "   --------------- ------------------------ 107.7/276.6 MB 9.6 MB/s eta 0:00:18\n",
      "   --------------- ------------------------ 108.1/276.6 MB 9.6 MB/s eta 0:00:18\n",
      "   --------------- ----------------------- 109.0/276.6 MB 10.1 MB/s eta 0:00:17\n",
      "   --------------- ----------------------- 109.4/276.6 MB 10.1 MB/s eta 0:00:17\n",
      "   --------------- ----------------------- 109.8/276.6 MB 10.1 MB/s eta 0:00:17\n",
      "   --------------- ----------------------- 110.2/276.6 MB 10.1 MB/s eta 0:00:17\n",
      "   --------------- ----------------------- 110.6/276.6 MB 10.1 MB/s eta 0:00:17\n",
      "   ---------------- ----------------------- 111.0/276.6 MB 9.9 MB/s eta 0:00:17\n",
      "   ---------------- ----------------------- 111.4/276.6 MB 9.9 MB/s eta 0:00:17\n",
      "   ---------------- ----------------------- 111.8/276.6 MB 9.9 MB/s eta 0:00:17\n",
      "   ---------------- ----------------------- 112.2/276.6 MB 9.8 MB/s eta 0:00:17\n",
      "   ---------------- ----------------------- 112.6/276.6 MB 9.8 MB/s eta 0:00:17\n",
      "   ---------------- ----------------------- 113.0/276.6 MB 9.6 MB/s eta 0:00:17\n",
      "   ---------------- ----------------------- 113.5/276.6 MB 9.6 MB/s eta 0:00:17\n",
      "   ---------------- ----------------------- 113.9/276.6 MB 9.5 MB/s eta 0:00:18\n",
      "   ---------------- ----------------------- 114.3/276.6 MB 9.4 MB/s eta 0:00:18\n",
      "   ---------------- ----------------------- 114.7/276.6 MB 9.2 MB/s eta 0:00:18\n",
      "   ---------------- ----------------------- 115.1/276.6 MB 9.1 MB/s eta 0:00:18\n",
      "   ---------------- ----------------------- 115.5/276.6 MB 9.0 MB/s eta 0:00:18\n",
      "   ---------------- ----------------------- 115.9/276.6 MB 8.8 MB/s eta 0:00:19\n",
      "   ---------------- ----------------------- 116.3/276.6 MB 9.2 MB/s eta 0:00:18\n",
      "   ---------------- ----------------------- 116.7/276.6 MB 9.1 MB/s eta 0:00:18\n",
      "   ---------------- ----------------------- 117.1/276.6 MB 9.2 MB/s eta 0:00:18\n",
      "   ---------------- ----------------------- 117.5/276.6 MB 9.5 MB/s eta 0:00:17\n",
      "   ----------------- ---------------------- 117.9/276.6 MB 9.2 MB/s eta 0:00:18\n",
      "   ----------------- ---------------------- 118.4/276.6 MB 9.2 MB/s eta 0:00:18\n",
      "   ----------------- ---------------------- 118.8/276.6 MB 9.1 MB/s eta 0:00:18\n",
      "   ----------------- ---------------------- 119.2/276.6 MB 8.7 MB/s eta 0:00:19\n",
      "   ----------------- ---------------------- 119.6/276.6 MB 8.7 MB/s eta 0:00:18\n",
      "   ----------------- ---------------------- 120.0/276.6 MB 8.7 MB/s eta 0:00:18\n",
      "   ----------------- ---------------------- 120.4/276.6 MB 8.8 MB/s eta 0:00:18\n",
      "   ----------------- ---------------------- 120.8/276.6 MB 8.8 MB/s eta 0:00:18\n",
      "   ----------------- ---------------------- 121.2/276.6 MB 8.7 MB/s eta 0:00:18\n",
      "   ----------------- ---------------------- 121.7/276.6 MB 8.8 MB/s eta 0:00:18\n",
      "   ----------------- ---------------------- 122.1/276.6 MB 8.7 MB/s eta 0:00:18\n",
      "   ----------------- ---------------------- 122.5/276.6 MB 8.7 MB/s eta 0:00:18\n",
      "   ----------------- ---------------------- 122.9/276.6 MB 8.7 MB/s eta 0:00:18\n",
      "   ----------------- ---------------------- 123.3/276.6 MB 8.8 MB/s eta 0:00:18\n",
      "   ----------------- ---------------------- 123.8/276.6 MB 8.8 MB/s eta 0:00:18\n",
      "   ----------------- ---------------------- 124.3/276.6 MB 9.0 MB/s eta 0:00:17\n",
      "   ------------------ --------------------- 124.8/276.6 MB 9.1 MB/s eta 0:00:17\n",
      "   ------------------ --------------------- 125.4/276.6 MB 9.2 MB/s eta 0:00:17\n",
      "   ------------------ --------------------- 126.0/276.6 MB 9.5 MB/s eta 0:00:16\n",
      "   ------------------ --------------------- 126.6/276.6 MB 9.6 MB/s eta 0:00:16\n",
      "   ------------------ --------------------- 127.0/276.6 MB 9.8 MB/s eta 0:00:16\n",
      "   ------------------ --------------------- 127.2/276.6 MB 9.5 MB/s eta 0:00:16\n",
      "   ------------------ --------------------- 127.6/276.6 MB 9.6 MB/s eta 0:00:16\n",
      "   ------------------ --------------------- 127.9/276.6 MB 9.5 MB/s eta 0:00:16\n",
      "   ------------------ --------------------- 128.5/276.6 MB 9.6 MB/s eta 0:00:16\n",
      "   ------------------ --------------------- 128.8/276.6 MB 9.5 MB/s eta 0:00:16\n",
      "   ------------------ --------------------- 129.2/276.6 MB 9.4 MB/s eta 0:00:16\n",
      "   ------------------ --------------------- 130.0/276.6 MB 9.8 MB/s eta 0:00:16\n",
      "   ------------------ --------------------- 130.6/276.6 MB 9.9 MB/s eta 0:00:15\n",
      "   ------------------ -------------------- 131.0/276.6 MB 10.1 MB/s eta 0:00:15\n",
      "   ------------------ -------------------- 131.4/276.6 MB 10.1 MB/s eta 0:00:15\n",
      "   ------------------ -------------------- 131.9/276.6 MB 10.1 MB/s eta 0:00:15\n",
      "   ------------------ -------------------- 132.3/276.6 MB 10.1 MB/s eta 0:00:15\n",
      "   ------------------ -------------------- 132.8/276.6 MB 10.1 MB/s eta 0:00:15\n",
      "   ------------------ -------------------- 133.2/276.6 MB 10.1 MB/s eta 0:00:15\n",
      "   ------------------ -------------------- 133.6/276.6 MB 10.1 MB/s eta 0:00:15\n",
      "   ------------------- -------------------- 134.0/276.6 MB 9.9 MB/s eta 0:00:15\n",
      "   ------------------- -------------------- 134.5/276.6 MB 9.9 MB/s eta 0:00:15\n",
      "   ------------------- -------------------- 134.9/276.6 MB 9.8 MB/s eta 0:00:15\n",
      "   ------------------- -------------------- 135.3/276.6 MB 9.8 MB/s eta 0:00:15\n",
      "   ------------------- -------------------- 135.7/276.6 MB 9.6 MB/s eta 0:00:15\n",
      "   ------------------- -------------------- 136.2/276.6 MB 9.5 MB/s eta 0:00:15\n",
      "   ------------------- -------------------- 136.6/276.6 MB 9.4 MB/s eta 0:00:15\n",
      "   ------------------- -------------------- 137.0/276.6 MB 9.4 MB/s eta 0:00:15\n",
      "   ------------------- -------------------- 137.5/276.6 MB 9.8 MB/s eta 0:00:15\n",
      "   ------------------- -------------------- 137.9/276.6 MB 9.6 MB/s eta 0:00:15\n",
      "   -------------------- ------------------- 138.3/276.6 MB 9.8 MB/s eta 0:00:15\n",
      "   -------------------- ------------------- 138.7/276.6 MB 9.8 MB/s eta 0:00:15\n",
      "   -------------------- ------------------- 139.2/276.6 MB 9.6 MB/s eta 0:00:15\n",
      "   -------------------- ------------------- 139.6/276.6 MB 9.8 MB/s eta 0:00:15\n",
      "   -------------------- ------------------- 140.0/276.6 MB 9.5 MB/s eta 0:00:15\n",
      "   -------------------- ------------------- 140.5/276.6 MB 9.2 MB/s eta 0:00:15\n",
      "   -------------------- ------------------- 140.9/276.6 MB 9.2 MB/s eta 0:00:15\n",
      "   -------------------- ------------------- 141.3/276.6 MB 9.2 MB/s eta 0:00:15\n",
      "   -------------------- ------------------- 141.8/276.6 MB 9.2 MB/s eta 0:00:15\n",
      "   -------------------- ------------------- 142.2/276.6 MB 9.2 MB/s eta 0:00:15\n",
      "   -------------------- ------------------- 142.6/276.6 MB 9.2 MB/s eta 0:00:15\n",
      "   -------------------- ------------------- 143.0/276.6 MB 9.2 MB/s eta 0:00:15\n",
      "   -------------------- ------------------- 143.5/276.6 MB 9.2 MB/s eta 0:00:15\n",
      "   -------------------- ------------------- 143.9/276.6 MB 9.2 MB/s eta 0:00:15\n",
      "   -------------------- ------------------- 144.4/276.6 MB 9.2 MB/s eta 0:00:15\n",
      "   -------------------- ------------------- 144.8/276.6 MB 9.4 MB/s eta 0:00:15\n",
      "   -------------------- ------------------- 145.0/276.6 MB 9.0 MB/s eta 0:00:15\n",
      "   --------------------- ------------------ 145.5/276.6 MB 9.1 MB/s eta 0:00:15\n",
      "   --------------------- ------------------ 145.9/276.6 MB 9.1 MB/s eta 0:00:15\n",
      "   --------------------- ------------------ 146.5/276.6 MB 9.4 MB/s eta 0:00:14\n",
      "   --------------------- ------------------ 146.7/276.6 MB 9.1 MB/s eta 0:00:15\n",
      "   --------------------- ------------------ 147.2/276.6 MB 9.2 MB/s eta 0:00:15\n",
      "   --------------------- ------------------ 147.7/276.6 MB 9.2 MB/s eta 0:00:14\n",
      "   --------------------- ------------------ 148.1/276.6 MB 9.2 MB/s eta 0:00:14\n",
      "   --------------------- ------------------ 148.5/276.6 MB 9.4 MB/s eta 0:00:14\n",
      "   --------------------- ------------------ 148.8/276.6 MB 9.1 MB/s eta 0:00:15\n",
      "   --------------------- ------------------ 149.4/276.6 MB 9.1 MB/s eta 0:00:14\n",
      "   --------------------- ------------------ 149.7/276.6 MB 9.1 MB/s eta 0:00:14\n",
      "   --------------------- ------------------ 150.3/276.6 MB 9.2 MB/s eta 0:00:14\n",
      "   --------------------- ------------------ 150.9/276.6 MB 9.4 MB/s eta 0:00:14\n",
      "   --------------------- ------------------ 151.0/276.6 MB 9.4 MB/s eta 0:00:14\n",
      "   --------------------- ------------------ 151.5/276.6 MB 9.1 MB/s eta 0:00:14\n",
      "   --------------------- ------------------ 151.9/276.6 MB 9.1 MB/s eta 0:00:14\n",
      "   ---------------------- ----------------- 152.6/276.6 MB 9.4 MB/s eta 0:00:14\n",
      "   ---------------------- ----------------- 153.0/276.6 MB 9.4 MB/s eta 0:00:14\n",
      "   ---------------------- ----------------- 153.1/276.6 MB 9.1 MB/s eta 0:00:14\n",
      "   ---------------------- ----------------- 153.9/276.6 MB 9.4 MB/s eta 0:00:14\n",
      "   ---------------------- ----------------- 154.2/276.6 MB 9.5 MB/s eta 0:00:13\n",
      "   ---------------------- ----------------- 154.6/276.6 MB 9.2 MB/s eta 0:00:14\n",
      "   ---------------------- ----------------- 154.9/276.6 MB 9.2 MB/s eta 0:00:14\n",
      "   ---------------------- ----------------- 155.4/276.6 MB 9.2 MB/s eta 0:00:14\n",
      "   ---------------------- ----------------- 155.8/276.6 MB 9.4 MB/s eta 0:00:13\n",
      "   ---------------------- ----------------- 156.3/276.6 MB 9.2 MB/s eta 0:00:14\n",
      "   ---------------------- ----------------- 156.7/276.6 MB 9.2 MB/s eta 0:00:13\n",
      "   ---------------------- ----------------- 157.2/276.6 MB 9.4 MB/s eta 0:00:13\n",
      "   ---------------------- ----------------- 157.7/276.6 MB 9.5 MB/s eta 0:00:13\n",
      "   ---------------------- ----------------- 158.0/276.6 MB 9.2 MB/s eta 0:00:13\n",
      "   ---------------------- ----------------- 158.5/276.6 MB 9.4 MB/s eta 0:00:13\n",
      "   ---------------------- ----------------- 158.9/276.6 MB 9.4 MB/s eta 0:00:13\n",
      "   ----------------------- ---------------- 159.3/276.6 MB 9.5 MB/s eta 0:00:13\n",
      "   ----------------------- ---------------- 159.7/276.6 MB 9.4 MB/s eta 0:00:13\n",
      "   ----------------------- ---------------- 160.2/276.6 MB 9.5 MB/s eta 0:00:13\n",
      "   ----------------------- ---------------- 160.6/276.6 MB 9.5 MB/s eta 0:00:13\n",
      "   ----------------------- ---------------- 161.0/276.6 MB 9.1 MB/s eta 0:00:13\n",
      "   ----------------------- ---------------- 161.4/276.6 MB 9.4 MB/s eta 0:00:13\n",
      "   ----------------------- ---------------- 161.9/276.6 MB 9.4 MB/s eta 0:00:13\n",
      "   ----------------------- ---------------- 162.6/276.6 MB 9.6 MB/s eta 0:00:12\n",
      "   ----------------------- ---------------- 162.9/276.6 MB 9.4 MB/s eta 0:00:13\n",
      "   ----------------------- ---------------- 163.2/276.6 MB 9.1 MB/s eta 0:00:13\n",
      "   ----------------------- ---------------- 163.7/276.6 MB 9.4 MB/s eta 0:00:13\n",
      "   ----------------------- ---------------- 164.0/276.6 MB 9.1 MB/s eta 0:00:13\n",
      "   ----------------------- ---------------- 164.8/276.6 MB 9.5 MB/s eta 0:00:12\n",
      "   ----------------------- ---------------- 165.0/276.6 MB 9.5 MB/s eta 0:00:12\n",
      "   ----------------------- ---------------- 165.3/276.6 MB 9.5 MB/s eta 0:00:12\n",
      "   ----------------------- ---------------- 165.8/276.6 MB 9.4 MB/s eta 0:00:12\n",
      "   ------------------------ --------------- 166.2/276.6 MB 9.4 MB/s eta 0:00:12\n",
      "   ------------------------ --------------- 167.0/276.6 MB 9.6 MB/s eta 0:00:12\n",
      "   ------------------------ --------------- 167.0/276.6 MB 9.6 MB/s eta 0:00:12\n",
      "   ------------------------ --------------- 167.5/276.6 MB 9.4 MB/s eta 0:00:12\n",
      "   ------------------------ --------------- 168.0/276.6 MB 9.6 MB/s eta 0:00:12\n",
      "   ------------------------ --------------- 168.7/276.6 MB 9.5 MB/s eta 0:00:12\n",
      "   ------------------------ --------------- 169.0/276.6 MB 9.6 MB/s eta 0:00:12\n",
      "   ------------------------ --------------- 169.3/276.6 MB 9.4 MB/s eta 0:00:12\n",
      "   ------------------------ --------------- 169.7/276.6 MB 9.5 MB/s eta 0:00:12\n",
      "   ------------------------ --------------- 170.1/276.6 MB 9.4 MB/s eta 0:00:12\n",
      "   ------------------------ --------------- 170.9/276.6 MB 9.6 MB/s eta 0:00:11\n",
      "   ------------------------ --------------- 171.0/276.6 MB 9.6 MB/s eta 0:00:11\n",
      "   ------------------------ --------------- 171.4/276.6 MB 9.2 MB/s eta 0:00:12\n",
      "   ------------------------ --------------- 172.0/276.6 MB 9.6 MB/s eta 0:00:11\n",
      "   ------------------------ --------------- 172.3/276.6 MB 9.4 MB/s eta 0:00:12\n",
      "   ------------------------- -------------- 173.0/276.6 MB 9.4 MB/s eta 0:00:12\n",
      "   ------------------------- -------------- 173.1/276.6 MB 9.4 MB/s eta 0:00:12\n",
      "   ------------------------- -------------- 173.6/276.6 MB 9.4 MB/s eta 0:00:12\n",
      "   ------------------------- -------------- 174.0/276.6 MB 9.6 MB/s eta 0:00:11\n",
      "   ------------------------- -------------- 174.5/276.6 MB 9.4 MB/s eta 0:00:11\n",
      "   ------------------------- -------------- 175.0/276.6 MB 9.4 MB/s eta 0:00:11\n",
      "   ------------------------- -------------- 175.3/276.6 MB 9.4 MB/s eta 0:00:11\n",
      "   ------------------------- -------------- 175.9/276.6 MB 9.5 MB/s eta 0:00:11\n",
      "   ------------------------- -------------- 176.1/276.6 MB 9.2 MB/s eta 0:00:11\n",
      "   ------------------------- -------------- 176.9/276.6 MB 9.4 MB/s eta 0:00:11\n",
      "   ------------------------- -------------- 177.0/276.6 MB 9.0 MB/s eta 0:00:12\n",
      "   ------------------------- -------------- 177.5/276.6 MB 9.2 MB/s eta 0:00:11\n",
      "   ------------------------- -------------- 177.9/276.6 MB 9.2 MB/s eta 0:00:11\n",
      "   ------------------------- -------------- 178.0/276.6 MB 9.1 MB/s eta 0:00:11\n",
      "   ------------------------- -------------- 179.1/276.6 MB 9.4 MB/s eta 0:00:11\n",
      "   ------------------------- -------------- 179.4/276.6 MB 9.5 MB/s eta 0:00:11\n",
      "   ------------------------- -------------- 179.7/276.6 MB 9.2 MB/s eta 0:00:11\n",
      "   -------------------------- ------------- 180.1/276.6 MB 9.5 MB/s eta 0:00:11\n",
      "   -------------------------- ------------- 180.6/276.6 MB 9.4 MB/s eta 0:00:11\n",
      "   -------------------------- ------------- 181.0/276.6 MB 9.4 MB/s eta 0:00:11\n",
      "   -------------------------- ------------- 181.4/276.6 MB 9.4 MB/s eta 0:00:11\n",
      "   -------------------------- ------------- 182.0/276.6 MB 9.4 MB/s eta 0:00:11\n",
      "   -------------------------- ------------- 182.2/276.6 MB 9.2 MB/s eta 0:00:11\n",
      "   -------------------------- ------------- 183.0/276.6 MB 9.4 MB/s eta 0:00:11\n",
      "   -------------------------- ------------- 183.1/276.6 MB 9.0 MB/s eta 0:00:11\n",
      "   -------------------------- ------------- 183.7/276.6 MB 9.4 MB/s eta 0:00:10\n",
      "   -------------------------- ------------- 183.9/276.6 MB 9.2 MB/s eta 0:00:11\n",
      "   -------------------------- ------------- 184.4/276.6 MB 9.2 MB/s eta 0:00:10\n",
      "   -------------------------- ------------- 184.9/276.6 MB 9.4 MB/s eta 0:00:10\n",
      "   -------------------------- ------------- 185.3/276.6 MB 9.0 MB/s eta 0:00:11\n",
      "   -------------------------- ------------- 185.3/276.6 MB 9.2 MB/s eta 0:00:10\n",
      "   -------------------------- ------------- 186.1/276.6 MB 9.0 MB/s eta 0:00:11\n",
      "   --------------------------- ------------ 186.8/276.6 MB 9.4 MB/s eta 0:00:10\n",
      "   --------------------------- ------------ 187.3/276.6 MB 9.6 MB/s eta 0:00:10\n",
      "   --------------------------- ------------ 187.4/276.6 MB 9.5 MB/s eta 0:00:10\n",
      "   --------------------------- ------------ 187.8/276.6 MB 9.2 MB/s eta 0:00:10\n",
      "   --------------------------- ------------ 188.3/276.6 MB 9.6 MB/s eta 0:00:10\n",
      "   --------------------------- ------------ 189.0/276.6 MB 9.4 MB/s eta 0:00:10\n",
      "   --------------------------- ------------ 189.4/276.6 MB 9.2 MB/s eta 0:00:10\n",
      "   --------------------------- ------------ 189.5/276.6 MB 9.0 MB/s eta 0:00:10\n",
      "   --------------------------- ------------ 190.1/276.6 MB 9.4 MB/s eta 0:00:10\n",
      "   --------------------------- ------------ 190.6/276.6 MB 9.5 MB/s eta 0:00:10\n",
      "   --------------------------- ------------ 191.2/276.6 MB 9.2 MB/s eta 0:00:10\n",
      "   --------------------------- ------------ 191.2/276.6 MB 9.0 MB/s eta 0:00:10\n",
      "   --------------------------- ------------ 191.8/276.6 MB 9.2 MB/s eta 0:00:10\n",
      "   --------------------------- ------------ 192.1/276.6 MB 9.0 MB/s eta 0:00:10\n",
      "   --------------------------- ------------ 192.7/276.6 MB 9.4 MB/s eta 0:00:09\n",
      "   --------------------------- ------------ 192.8/276.6 MB 9.0 MB/s eta 0:00:10\n",
      "   --------------------------- ------------ 193.2/276.6 MB 9.0 MB/s eta 0:00:10\n",
      "   ---------------------------- ----------- 194.2/276.6 MB 9.6 MB/s eta 0:00:09\n",
      "   ---------------------------- ----------- 194.6/276.6 MB 9.5 MB/s eta 0:00:09\n",
      "   ---------------------------- ----------- 195.0/276.6 MB 9.2 MB/s eta 0:00:09\n",
      "   ---------------------------- ----------- 195.4/276.6 MB 9.5 MB/s eta 0:00:09\n",
      "   ---------------------------- ----------- 195.9/276.6 MB 9.6 MB/s eta 0:00:09\n",
      "   ---------------------------- ----------- 196.3/276.6 MB 9.5 MB/s eta 0:00:09\n",
      "   ---------------------------- ----------- 196.7/276.6 MB 9.5 MB/s eta 0:00:09\n",
      "   ---------------------------- ----------- 197.1/276.6 MB 9.2 MB/s eta 0:00:09\n",
      "   ---------------------------- ----------- 197.5/276.6 MB 9.4 MB/s eta 0:00:09\n",
      "   ---------------------------- ----------- 198.0/276.6 MB 9.6 MB/s eta 0:00:09\n",
      "   ---------------------------- ----------- 198.4/276.6 MB 9.5 MB/s eta 0:00:09\n",
      "   ---------------------------- ----------- 198.8/276.6 MB 9.5 MB/s eta 0:00:09\n",
      "   ---------------------------- ----------- 199.2/276.6 MB 9.2 MB/s eta 0:00:09\n",
      "   ---------------------------- ----------- 199.6/276.6 MB 9.6 MB/s eta 0:00:08\n",
      "   ---------------------------- ----------- 200.0/276.6 MB 9.5 MB/s eta 0:00:09\n",
      "   ---------------------------- ----------- 200.5/276.6 MB 9.4 MB/s eta 0:00:09\n",
      "   ----------------------------- ---------- 200.9/276.6 MB 9.4 MB/s eta 0:00:09\n",
      "   ----------------------------- ---------- 201.3/276.6 MB 9.2 MB/s eta 0:00:09\n",
      "   ----------------------------- ---------- 201.7/276.6 MB 9.5 MB/s eta 0:00:08\n",
      "   ----------------------------- ---------- 202.2/276.6 MB 9.5 MB/s eta 0:00:08\n",
      "   ----------------------------- ---------- 202.6/276.6 MB 9.4 MB/s eta 0:00:08\n",
      "   ----------------------------- ---------- 203.0/276.6 MB 9.6 MB/s eta 0:00:08\n",
      "   ----------------------------- ---------- 203.4/276.6 MB 9.8 MB/s eta 0:00:08\n",
      "   ----------------------------- ---------- 203.9/276.6 MB 9.4 MB/s eta 0:00:08\n",
      "   ----------------------------- ---------- 204.3/276.6 MB 9.1 MB/s eta 0:00:08\n",
      "   ----------------------------- ---------- 204.7/276.6 MB 9.1 MB/s eta 0:00:08\n",
      "   ----------------------------- ---------- 205.2/276.6 MB 9.1 MB/s eta 0:00:08\n",
      "   ----------------------------- ---------- 205.6/276.6 MB 9.1 MB/s eta 0:00:08\n",
      "   ----------------------------- ---------- 206.0/276.6 MB 9.1 MB/s eta 0:00:08\n",
      "   ----------------------------- ---------- 206.4/276.6 MB 9.1 MB/s eta 0:00:08\n",
      "   ----------------------------- ---------- 206.8/276.6 MB 9.1 MB/s eta 0:00:08\n",
      "   ----------------------------- ---------- 207.3/276.6 MB 9.1 MB/s eta 0:00:08\n",
      "   ------------------------------ --------- 207.7/276.6 MB 9.1 MB/s eta 0:00:08\n",
      "   ------------------------------ --------- 208.2/276.6 MB 9.1 MB/s eta 0:00:08\n",
      "   ------------------------------ --------- 208.7/276.6 MB 9.2 MB/s eta 0:00:08\n",
      "   ------------------------------ --------- 209.2/276.6 MB 9.4 MB/s eta 0:00:08\n",
      "   ------------------------------ --------- 209.4/276.6 MB 9.4 MB/s eta 0:00:08\n",
      "   ------------------------------ --------- 209.5/276.6 MB 9.2 MB/s eta 0:00:08\n",
      "   ------------------------------ --------- 210.2/276.6 MB 9.1 MB/s eta 0:00:08\n",
      "   ------------------------------ --------- 210.7/276.6 MB 9.2 MB/s eta 0:00:08\n",
      "   ------------------------------ --------- 211.1/276.6 MB 9.2 MB/s eta 0:00:08\n",
      "   ------------------------------ --------- 211.5/276.6 MB 9.2 MB/s eta 0:00:08\n",
      "   ------------------------------ --------- 212.2/276.6 MB 9.4 MB/s eta 0:00:07\n",
      "   ------------------------------ --------- 212.4/276.6 MB 9.2 MB/s eta 0:00:07\n",
      "   ------------------------------ --------- 212.9/276.6 MB 9.2 MB/s eta 0:00:07\n",
      "   ------------------------------ --------- 213.6/276.6 MB 9.5 MB/s eta 0:00:07\n",
      "   ------------------------------ --------- 214.0/276.6 MB 9.5 MB/s eta 0:00:07\n",
      "   ------------------------------- -------- 214.4/276.6 MB 9.5 MB/s eta 0:00:07\n",
      "   ------------------------------- -------- 214.9/276.6 MB 9.6 MB/s eta 0:00:07\n",
      "   ------------------------------- -------- 215.3/276.6 MB 9.5 MB/s eta 0:00:07\n",
      "   ------------------------------- -------- 215.7/276.6 MB 9.6 MB/s eta 0:00:07\n",
      "   ------------------------------- -------- 216.1/276.6 MB 9.5 MB/s eta 0:00:07\n",
      "   ------------------------------- -------- 216.6/276.6 MB 9.5 MB/s eta 0:00:07\n",
      "   ------------------------------- -------- 217.0/276.6 MB 9.5 MB/s eta 0:00:07\n",
      "   ------------------------------- -------- 217.4/276.6 MB 9.5 MB/s eta 0:00:07\n",
      "   ------------------------------- -------- 217.9/276.6 MB 9.5 MB/s eta 0:00:07\n",
      "   ------------------------------- -------- 218.3/276.6 MB 9.5 MB/s eta 0:00:07\n",
      "   ------------------------------- -------- 218.7/276.6 MB 9.4 MB/s eta 0:00:07\n",
      "   ------------------------------- -------- 219.2/276.6 MB 9.4 MB/s eta 0:00:07\n",
      "   ------------------------------- -------- 219.6/276.6 MB 9.2 MB/s eta 0:00:07\n",
      "   ------------------------------- -------- 220.0/276.6 MB 9.8 MB/s eta 0:00:06\n",
      "   ------------------------------- -------- 220.5/276.6 MB 9.6 MB/s eta 0:00:06\n",
      "   ------------------------------- -------- 220.9/276.6 MB 9.5 MB/s eta 0:00:06\n",
      "   -------------------------------- ------- 221.3/276.6 MB 9.5 MB/s eta 0:00:06\n",
      "   -------------------------------- ------- 221.7/276.6 MB 9.5 MB/s eta 0:00:06\n",
      "   -------------------------------- ------- 222.2/276.6 MB 9.5 MB/s eta 0:00:06\n",
      "   -------------------------------- ------- 222.6/276.6 MB 9.5 MB/s eta 0:00:06\n",
      "   -------------------------------- ------- 223.0/276.6 MB 9.5 MB/s eta 0:00:06\n",
      "   -------------------------------- ------- 223.4/276.6 MB 9.4 MB/s eta 0:00:06\n",
      "   -------------------------------- ------- 223.9/276.6 MB 9.2 MB/s eta 0:00:06\n",
      "   -------------------------------- ------- 224.3/276.6 MB 9.2 MB/s eta 0:00:06\n",
      "   -------------------------------- ------- 224.7/276.6 MB 9.2 MB/s eta 0:00:06\n",
      "   -------------------------------- ------- 225.1/276.6 MB 9.2 MB/s eta 0:00:06\n",
      "   -------------------------------- ------- 225.6/276.6 MB 9.2 MB/s eta 0:00:06\n",
      "   -------------------------------- ------- 226.0/276.6 MB 9.2 MB/s eta 0:00:06\n",
      "   -------------------------------- ------- 226.5/276.6 MB 9.2 MB/s eta 0:00:06\n",
      "   -------------------------------- ------- 226.9/276.6 MB 9.2 MB/s eta 0:00:06\n",
      "   -------------------------------- ------- 227.3/276.6 MB 9.2 MB/s eta 0:00:06\n",
      "   -------------------------------- ------- 227.7/276.6 MB 9.2 MB/s eta 0:00:06\n",
      "   --------------------------------- ------ 228.3/276.6 MB 9.4 MB/s eta 0:00:06\n",
      "   --------------------------------- ------ 228.7/276.6 MB 9.4 MB/s eta 0:00:06\n",
      "   --------------------------------- ------ 229.2/276.6 MB 9.4 MB/s eta 0:00:06\n",
      "   --------------------------------- ------ 229.3/276.6 MB 9.0 MB/s eta 0:00:06\n",
      "   --------------------------------- ------ 229.8/276.6 MB 9.1 MB/s eta 0:00:06\n",
      "   --------------------------------- ------ 230.2/276.6 MB 9.4 MB/s eta 0:00:05\n",
      "   --------------------------------- ------ 230.7/276.6 MB 9.1 MB/s eta 0:00:06\n",
      "   --------------------------------- ------ 230.9/276.6 MB 9.1 MB/s eta 0:00:06\n",
      "   --------------------------------- ------ 231.3/276.6 MB 9.0 MB/s eta 0:00:06\n",
      "   --------------------------------- ------ 231.9/276.6 MB 9.1 MB/s eta 0:00:05\n",
      "   --------------------------------- ------ 232.7/276.6 MB 9.4 MB/s eta 0:00:05\n",
      "   --------------------------------- ------ 233.1/276.6 MB 9.4 MB/s eta 0:00:05\n",
      "   --------------------------------- ------ 233.5/276.6 MB 9.4 MB/s eta 0:00:05\n",
      "   --------------------------------- ------ 234.0/276.6 MB 9.4 MB/s eta 0:00:05\n",
      "   --------------------------------- ------ 234.4/276.6 MB 9.4 MB/s eta 0:00:05\n",
      "   --------------------------------- ------ 234.8/276.6 MB 9.4 MB/s eta 0:00:05\n",
      "   ---------------------------------- ----- 235.3/276.6 MB 9.4 MB/s eta 0:00:05\n",
      "   ---------------------------------- ----- 235.7/276.6 MB 9.4 MB/s eta 0:00:05\n",
      "   ---------------------------------- ----- 236.1/276.6 MB 9.4 MB/s eta 0:00:05\n",
      "   ---------------------------------- ----- 236.6/276.6 MB 9.4 MB/s eta 0:00:05\n",
      "   ---------------------------------- ----- 237.0/276.6 MB 9.4 MB/s eta 0:00:05\n",
      "   ---------------------------------- ----- 237.4/276.6 MB 9.4 MB/s eta 0:00:05\n",
      "   ---------------------------------- ----- 237.6/276.6 MB 9.4 MB/s eta 0:00:05\n",
      "   ---------------------------------- ----- 238.3/276.6 MB 9.5 MB/s eta 0:00:05\n",
      "   ---------------------------------- ----- 238.7/276.6 MB 9.5 MB/s eta 0:00:04\n",
      "   ---------------------------------- ----- 239.1/276.6 MB 9.4 MB/s eta 0:00:05\n",
      "   ---------------------------------- ----- 239.6/276.6 MB 9.6 MB/s eta 0:00:04\n",
      "   ---------------------------------- ----- 240.0/276.6 MB 9.6 MB/s eta 0:00:04\n",
      "   ---------------------------------- ----- 240.4/276.6 MB 9.4 MB/s eta 0:00:04\n",
      "   ---------------------------------- ----- 240.9/276.6 MB 9.6 MB/s eta 0:00:04\n",
      "   ---------------------------------- ----- 241.3/276.6 MB 9.9 MB/s eta 0:00:04\n",
      "   ---------------------------------- ----- 241.7/276.6 MB 9.9 MB/s eta 0:00:04\n",
      "   ----------------------------------- ---- 242.1/276.6 MB 9.8 MB/s eta 0:00:04\n",
      "   ----------------------------------- ---- 242.6/276.6 MB 9.6 MB/s eta 0:00:04\n",
      "   ----------------------------------- ---- 243.0/276.6 MB 9.4 MB/s eta 0:00:04\n",
      "   ----------------------------------- ---- 243.5/276.6 MB 9.4 MB/s eta 0:00:04\n",
      "   ----------------------------------- ---- 243.9/276.6 MB 9.4 MB/s eta 0:00:04\n",
      "   ----------------------------------- ---- 244.4/276.6 MB 9.4 MB/s eta 0:00:04\n",
      "   ----------------------------------- ---- 244.8/276.6 MB 9.4 MB/s eta 0:00:04\n",
      "   ----------------------------------- ---- 245.2/276.6 MB 9.4 MB/s eta 0:00:04\n",
      "   ----------------------------------- ---- 245.7/276.6 MB 9.4 MB/s eta 0:00:04\n",
      "   ----------------------------------- ---- 246.1/276.6 MB 9.4 MB/s eta 0:00:04\n",
      "   ----------------------------------- ---- 246.5/276.6 MB 9.4 MB/s eta 0:00:04\n",
      "   ----------------------------------- ---- 246.9/276.6 MB 9.4 MB/s eta 0:00:04\n",
      "   ----------------------------------- ---- 247.4/276.6 MB 9.4 MB/s eta 0:00:04\n",
      "   ----------------------------------- ---- 247.8/276.6 MB 9.6 MB/s eta 0:00:03\n",
      "   ----------------------------------- ---- 248.1/276.6 MB 9.4 MB/s eta 0:00:04\n",
      "   ----------------------------------- ---- 248.4/276.6 MB 9.1 MB/s eta 0:00:04\n",
      "   ------------------------------------ --- 249.1/276.6 MB 9.2 MB/s eta 0:00:03\n",
      "   ------------------------------------ --- 249.5/276.6 MB 9.4 MB/s eta 0:00:03\n",
      "   ------------------------------------ --- 250.0/276.6 MB 9.4 MB/s eta 0:00:03\n",
      "   ------------------------------------ --- 250.1/276.6 MB 9.4 MB/s eta 0:00:03\n",
      "   ------------------------------------ --- 250.8/276.6 MB 9.2 MB/s eta 0:00:03\n",
      "   ------------------------------------ --- 251.3/276.6 MB 9.4 MB/s eta 0:00:03\n",
      "   ------------------------------------ --- 251.4/276.6 MB 9.0 MB/s eta 0:00:03\n",
      "   ------------------------------------ --- 252.0/276.6 MB 9.2 MB/s eta 0:00:03\n",
      "   ------------------------------------ --- 252.3/276.6 MB 9.1 MB/s eta 0:00:03\n",
      "   ------------------------------------ --- 253.0/276.6 MB 9.4 MB/s eta 0:00:03\n",
      "   ------------------------------------ --- 253.3/276.6 MB 9.4 MB/s eta 0:00:03\n",
      "   ------------------------------------ --- 253.6/276.6 MB 9.0 MB/s eta 0:00:03\n",
      "   ------------------------------------ --- 254.0/276.6 MB 9.2 MB/s eta 0:00:03\n",
      "   ------------------------------------ --- 254.5/276.6 MB 9.1 MB/s eta 0:00:03\n",
      "   ------------------------------------ --- 255.2/276.6 MB 9.4 MB/s eta 0:00:03\n",
      "   ------------------------------------ --- 255.3/276.6 MB 9.0 MB/s eta 0:00:03\n",
      "   ------------------------------------- -- 256.1/276.6 MB 9.2 MB/s eta 0:00:03\n",
      "   ------------------------------------- -- 256.3/276.6 MB 9.4 MB/s eta 0:00:03\n",
      "   ------------------------------------- -- 256.9/276.6 MB 9.2 MB/s eta 0:00:03\n",
      "   ------------------------------------- -- 257.1/276.6 MB 9.2 MB/s eta 0:00:03\n",
      "   ------------------------------------- -- 257.6/276.6 MB 9.1 MB/s eta 0:00:03\n",
      "   ------------------------------------- -- 257.9/276.6 MB 9.0 MB/s eta 0:00:03\n",
      "   ------------------------------------- -- 258.4/276.6 MB 9.4 MB/s eta 0:00:02\n",
      "   ------------------------------------- -- 258.8/276.6 MB 9.4 MB/s eta 0:00:02\n",
      "   ------------------------------------- -- 259.3/276.6 MB 9.0 MB/s eta 0:00:02\n",
      "   ------------------------------------- -- 259.6/276.6 MB 9.0 MB/s eta 0:00:02\n",
      "   ------------------------------------- -- 260.1/276.6 MB 9.0 MB/s eta 0:00:02\n",
      "   ------------------------------------- -- 260.9/276.6 MB 9.4 MB/s eta 0:00:02\n",
      "   ------------------------------------- -- 261.0/276.6 MB 9.4 MB/s eta 0:00:02\n",
      "   ------------------------------------- -- 261.4/276.6 MB 9.0 MB/s eta 0:00:02\n",
      "   ------------------------------------- -- 261.9/276.6 MB 9.6 MB/s eta 0:00:02\n",
      "   ------------------------------------- -- 262.2/276.6 MB 9.4 MB/s eta 0:00:02\n",
      "   -------------------------------------- - 263.0/276.6 MB 9.4 MB/s eta 0:00:02\n",
      "   -------------------------------------- - 263.1/276.6 MB 9.1 MB/s eta 0:00:02\n",
      "   -------------------------------------- - 263.7/276.6 MB 9.5 MB/s eta 0:00:02\n",
      "   -------------------------------------- - 264.0/276.6 MB 9.4 MB/s eta 0:00:02\n",
      "   -------------------------------------- - 264.5/276.6 MB 9.4 MB/s eta 0:00:02\n",
      "   -------------------------------------- - 265.0/276.6 MB 9.4 MB/s eta 0:00:02\n",
      "   -------------------------------------- - 265.3/276.6 MB 9.1 MB/s eta 0:00:02\n",
      "   -------------------------------------- - 265.7/276.6 MB 9.4 MB/s eta 0:00:02\n",
      "   -------------------------------------- - 266.2/276.6 MB 9.2 MB/s eta 0:00:02\n",
      "   -------------------------------------- - 266.9/276.6 MB 9.5 MB/s eta 0:00:02\n",
      "   -------------------------------------- - 267.0/276.6 MB 9.4 MB/s eta 0:00:02\n",
      "   -------------------------------------- - 267.5/276.6 MB 9.4 MB/s eta 0:00:01\n",
      "   -------------------------------------- - 267.9/276.6 MB 9.2 MB/s eta 0:00:01\n",
      "   -------------------------------------- - 268.3/276.6 MB 9.4 MB/s eta 0:00:01\n",
      "   -------------------------------------- - 269.1/276.6 MB 9.6 MB/s eta 0:00:01\n",
      "   -------------------------------------- - 269.2/276.6 MB 9.4 MB/s eta 0:00:01\n",
      "   ---------------------------------------  269.7/276.6 MB 9.2 MB/s eta 0:00:01\n",
      "   ---------------------------------------  270.1/276.6 MB 9.4 MB/s eta 0:00:01\n",
      "   ---------------------------------------  270.8/276.6 MB 9.5 MB/s eta 0:00:01\n",
      "   ---------------------------------------  271.0/276.6 MB 9.4 MB/s eta 0:00:01\n",
      "   ---------------------------------------  271.4/276.6 MB 9.4 MB/s eta 0:00:01\n",
      "   ---------------------------------------  272.0/276.6 MB 9.5 MB/s eta 0:00:01\n",
      "   ---------------------------------------  272.1/276.6 MB 9.0 MB/s eta 0:00:01\n",
      "   ---------------------------------------  272.9/276.6 MB 9.4 MB/s eta 0:00:01\n",
      "   ---------------------------------------  273.2/276.6 MB 9.2 MB/s eta 0:00:01\n",
      "   ---------------------------------------  273.5/276.6 MB 9.4 MB/s eta 0:00:01\n",
      "   ---------------------------------------  273.9/276.6 MB 9.1 MB/s eta 0:00:01\n",
      "   ---------------------------------------  274.4/276.6 MB 9.2 MB/s eta 0:00:01\n",
      "   ---------------------------------------  275.1/276.6 MB 9.2 MB/s eta 0:00:01\n",
      "   ---------------------------------------  275.2/276.6 MB 9.0 MB/s eta 0:00:01\n",
      "   ---------------------------------------  275.7/276.6 MB 9.4 MB/s eta 0:00:01\n",
      "   ---------------------------------------  276.1/276.6 MB 9.2 MB/s eta 0:00:01\n",
      "   ---------------------------------------  276.6/276.6 MB 9.4 MB/s eta 0:00:01\n",
      "   ---------------------------------------  276.6/276.6 MB 9.4 MB/s eta 0:00:01\n",
      "   ---------------------------------------  276.6/276.6 MB 9.4 MB/s eta 0:00:01\n",
      "   ---------------------------------------  276.6/276.6 MB 9.4 MB/s eta 0:00:01\n",
      "   ---------------------------------------  276.6/276.6 MB 9.4 MB/s eta 0:00:01\n",
      "   ---------------------------------------  276.6/276.6 MB 9.4 MB/s eta 0:00:01\n",
      "   ---------------------------------------  276.6/276.6 MB 9.4 MB/s eta 0:00:01\n",
      "   ---------------------------------------  276.6/276.6 MB 9.4 MB/s eta 0:00:01\n",
      "   ---------------------------------------- 276.6/276.6 MB 7.1 MB/s eta 0:00:00\n",
      "Downloading tensorflow-2.13.1-cp311-cp311-win_amd64.whl (1.9 kB)\n",
      "Using cached absl_py-2.1.0-py3-none-any.whl (133 kB)\n",
      "Using cached astunparse-1.6.3-py2.py3-none-any.whl (12 kB)\n",
      "Using cached flatbuffers-24.3.25-py2.py3-none-any.whl (26 kB)\n",
      "Downloading gast-0.4.0-py3-none-any.whl (9.8 kB)\n",
      "Using cached google_pasta-0.2.0-py3-none-any.whl (57 kB)\n",
      "Using cached grpcio-1.64.0-cp311-cp311-win_amd64.whl (4.1 MB)\n",
      "Using cached h5py-3.11.0-cp311-cp311-win_amd64.whl (3.0 MB)\n",
      "Downloading keras-2.13.1-py3-none-any.whl (1.7 MB)\n",
      "   ---------------------------------------- 0.0/1.7 MB ? eta -:--:--\n",
      "   -------- ------------------------------- 0.4/1.7 MB 11.2 MB/s eta 0:00:01\n",
      "   --------------------- ------------------ 0.9/1.7 MB 11.4 MB/s eta 0:00:01\n",
      "   -------------------------------- ------- 1.4/1.7 MB 11.1 MB/s eta 0:00:01\n",
      "   ---------------------------------------- 1.7/1.7 MB 10.8 MB/s eta 0:00:00\n",
      "Using cached libclang-18.1.1-py2.py3-none-win_amd64.whl (26.4 MB)\n",
      "Downloading numpy-1.24.3-cp311-cp311-win_amd64.whl (14.8 MB)\n",
      "   ---------------------------------------- 0.0/14.8 MB ? eta -:--:--\n",
      "   - -------------------------------------- 0.5/14.8 MB 14.9 MB/s eta 0:00:01\n",
      "   -- ------------------------------------- 1.1/14.8 MB 13.8 MB/s eta 0:00:01\n",
      "   ---- ----------------------------------- 1.8/14.8 MB 14.0 MB/s eta 0:00:01\n",
      "   ------ --------------------------------- 2.4/14.8 MB 14.1 MB/s eta 0:00:01\n",
      "   ------- -------------------------------- 2.8/14.8 MB 13.6 MB/s eta 0:00:01\n",
      "   ------- -------------------------------- 2.8/14.8 MB 11.9 MB/s eta 0:00:02\n",
      "   --------- ------------------------------ 3.5/14.8 MB 11.1 MB/s eta 0:00:02\n",
      "   --------- ------------------------------ 3.6/14.8 MB 10.0 MB/s eta 0:00:02\n",
      "   ---------- ----------------------------- 4.0/14.8 MB 10.2 MB/s eta 0:00:02\n",
      "   ---------- ----------------------------- 4.0/14.8 MB 9.2 MB/s eta 0:00:02\n",
      "   ---------- ----------------------------- 4.0/14.8 MB 8.3 MB/s eta 0:00:02\n",
      "   --------------- ------------------------ 5.7/14.8 MB 10.3 MB/s eta 0:00:01\n",
      "   ---------------- ----------------------- 6.0/14.8 MB 10.2 MB/s eta 0:00:01\n",
      "   ----------------- ---------------------- 6.4/14.8 MB 10.0 MB/s eta 0:00:01\n",
      "   ------------------ --------------------- 6.8/14.8 MB 9.9 MB/s eta 0:00:01\n",
      "   ------------------- -------------------- 7.2/14.8 MB 9.8 MB/s eta 0:00:01\n",
      "   -------------------- ------------------- 7.6/14.8 MB 9.7 MB/s eta 0:00:01\n",
      "   --------------------- ------------------ 7.9/14.8 MB 9.6 MB/s eta 0:00:01\n",
      "   ---------------------- ----------------- 8.3/14.8 MB 9.5 MB/s eta 0:00:01\n",
      "   ----------------------- ---------------- 8.7/14.8 MB 9.4 MB/s eta 0:00:01\n",
      "   ------------------------ --------------- 9.1/14.8 MB 9.4 MB/s eta 0:00:01\n",
      "   ------------------------- -------------- 9.5/14.8 MB 9.3 MB/s eta 0:00:01\n",
      "   -------------------------- ------------- 9.9/14.8 MB 9.3 MB/s eta 0:00:01\n",
      "   --------------------------- ------------ 10.3/14.8 MB 9.2 MB/s eta 0:00:01\n",
      "   ---------------------------- ----------- 10.7/14.8 MB 9.1 MB/s eta 0:00:01\n",
      "   ----------------------------- ---------- 11.0/14.8 MB 9.0 MB/s eta 0:00:01\n",
      "   ------------------------------ --------- 11.4/14.8 MB 8.8 MB/s eta 0:00:01\n",
      "   ------------------------------- -------- 11.8/14.8 MB 8.6 MB/s eta 0:00:01\n",
      "   -------------------------------- ------- 12.2/14.8 MB 8.5 MB/s eta 0:00:01\n",
      "   --------------------------------- ------ 12.6/14.8 MB 8.4 MB/s eta 0:00:01\n",
      "   ---------------------------------- ----- 13.0/14.8 MB 8.2 MB/s eta 0:00:01\n",
      "   ----------------------------------- ---- 13.3/14.8 MB 8.5 MB/s eta 0:00:01\n",
      "   ------------------------------------- -- 13.7/14.8 MB 8.4 MB/s eta 0:00:01\n",
      "   -------------------------------------- - 14.1/14.8 MB 8.6 MB/s eta 0:00:01\n",
      "   ---------------------------------------  14.5/14.8 MB 9.2 MB/s eta 0:00:01\n",
      "   ---------------------------------------  14.8/14.8 MB 8.8 MB/s eta 0:00:01\n",
      "   ---------------------------------------- 14.8/14.8 MB 8.7 MB/s eta 0:00:00\n",
      "Using cached opt_einsum-3.3.0-py3-none-any.whl (65 kB)\n",
      "Downloading protobuf-4.25.3-cp310-abi3-win_amd64.whl (413 kB)\n",
      "   ---------------------------------------- 0.0/413.4 kB ? eta -:--:--\n",
      "   ------------------------------------ --- 378.9/413.4 kB 7.8 MB/s eta 0:00:01\n",
      "   ---------------------------------------- 413.4/413.4 kB 6.5 MB/s eta 0:00:00\n",
      "Downloading six-1.16.0-py2.py3-none-any.whl (11 kB)\n",
      "Downloading tensorboard-2.13.0-py3-none-any.whl (5.6 MB)\n",
      "   ---------------------------------------- 0.0/5.6 MB ? eta -:--:--\n",
      "   -- ------------------------------------- 0.3/5.6 MB 8.9 MB/s eta 0:00:01\n",
      "   ---- ----------------------------------- 0.7/5.6 MB 8.3 MB/s eta 0:00:01\n",
      "   ------- -------------------------------- 1.0/5.6 MB 8.3 MB/s eta 0:00:01\n",
      "   ---------- ----------------------------- 1.4/5.6 MB 8.3 MB/s eta 0:00:01\n",
      "   ------------ --------------------------- 1.8/5.6 MB 8.2 MB/s eta 0:00:01\n",
      "   --------------- ------------------------ 2.2/5.6 MB 8.2 MB/s eta 0:00:01\n",
      "   ------------------ --------------------- 2.5/5.6 MB 8.6 MB/s eta 0:00:01\n",
      "   --------------------- ------------------ 3.0/5.6 MB 8.2 MB/s eta 0:00:01\n",
      "   ------------------------ --------------- 3.3/5.6 MB 8.6 MB/s eta 0:00:01\n",
      "   --------------------------- ------------ 3.8/5.6 MB 8.6 MB/s eta 0:00:01\n",
      "   ------------------------------ --------- 4.2/5.6 MB 8.4 MB/s eta 0:00:01\n",
      "   --------------------------------- ------ 4.7/5.6 MB 8.8 MB/s eta 0:00:01\n",
      "   ------------------------------------ --- 5.1/5.6 MB 8.9 MB/s eta 0:00:01\n",
      "   ---------------------------------------  5.6/5.6 MB 8.9 MB/s eta 0:00:01\n",
      "   ---------------------------------------- 5.6/5.6 MB 8.7 MB/s eta 0:00:00\n",
      "Downloading setuptools-70.0.0-py3-none-any.whl (863 kB)\n",
      "   ---------------------------------------- 0.0/863.4 kB ? eta -:--:--\n",
      "   ---------------------- ---------------- 501.8/863.4 kB 15.4 MB/s eta 0:00:01\n",
      "   --------------------------------------- 863.4/863.4 kB 10.9 MB/s eta 0:00:00\n",
      "Downloading tensorflow_estimator-2.13.0-py2.py3-none-any.whl (440 kB)\n",
      "   ---------------------------------------- 0.0/440.8 kB ? eta -:--:--\n",
      "   ---------------------------------------- 440.8/440.8 kB 9.2 MB/s eta 0:00:00\n",
      "Using cached tensorflow_io_gcs_filesystem-0.31.0-cp311-cp311-win_amd64.whl (1.5 MB)\n",
      "Using cached termcolor-2.4.0-py3-none-any.whl (7.7 kB)\n",
      "Downloading typing_extensions-4.5.0-py3-none-any.whl (27 kB)\n",
      "Downloading wrapt-1.16.0-cp311-cp311-win_amd64.whl (37 kB)\n",
      "Downloading packaging-24.0-py3-none-any.whl (53 kB)\n",
      "   ---------------------------------------- 0.0/53.5 kB ? eta -:--:--\n",
      "   -------------------------------------- - 51.2/53.5 kB ? eta -:--:--\n",
      "   ---------------------------------------- 53.5/53.5 kB 697.5 kB/s eta 0:00:00\n",
      "Downloading google_auth-2.29.0-py2.py3-none-any.whl (189 kB)\n",
      "   ---------------------------------------- 0.0/189.2 kB ? eta -:--:--\n",
      "   --------------------------------------- 189.2/189.2 kB 11.9 MB/s eta 0:00:00\n",
      "Downloading google_auth_oauthlib-1.0.0-py2.py3-none-any.whl (18 kB)\n",
      "Downloading Markdown-3.6-py3-none-any.whl (105 kB)\n",
      "   ---------------------------------------- 0.0/105.4 kB ? eta -:--:--\n",
      "   ---------------------------------------- 105.4/105.4 kB 5.9 MB/s eta 0:00:00\n",
      "Downloading requests-2.32.3-py3-none-any.whl (64 kB)\n",
      "   ---------------------------------------- 0.0/64.9 kB ? eta -:--:--\n",
      "   ---------------------------------------- 64.9/64.9 kB 3.6 MB/s eta 0:00:00\n",
      "Using cached tensorboard_data_server-0.7.2-py3-none-any.whl (2.4 kB)\n",
      "Downloading werkzeug-3.0.3-py3-none-any.whl (227 kB)\n",
      "   ---------------------------------------- 0.0/227.3 kB ? eta -:--:--\n",
      "   --------------------------------------- 227.3/227.3 kB 13.6 MB/s eta 0:00:00\n",
      "Downloading wheel-0.43.0-py3-none-any.whl (65 kB)\n",
      "   ---------------------------------------- 0.0/65.8 kB ? eta -:--:--\n",
      "   ---------------------------------------- 65.8/65.8 kB 3.5 MB/s eta 0:00:00\n",
      "Downloading cachetools-5.3.3-py3-none-any.whl (9.3 kB)\n",
      "Downloading certifi-2024.2.2-py3-none-any.whl (163 kB)\n",
      "   ---------------------------------------- 0.0/163.8 kB ? eta -:--:--\n",
      "   --------------------------------------- 163.8/163.8 kB 10.2 MB/s eta 0:00:00\n",
      "Downloading charset_normalizer-3.3.2-cp311-cp311-win_amd64.whl (99 kB)\n",
      "   ---------------------------------------- 0.0/99.9 kB ? eta -:--:--\n",
      "   ---------------------------------------- 99.9/99.9 kB 6.0 MB/s eta 0:00:00\n",
      "Downloading idna-3.7-py3-none-any.whl (66 kB)\n",
      "   ---------------------------------------- 0.0/66.8 kB ? eta -:--:--\n",
      "   ---------------------------------------- 66.8/66.8 kB 3.5 MB/s eta 0:00:00\n",
      "Downloading MarkupSafe-2.1.5-cp311-cp311-win_amd64.whl (17 kB)\n",
      "Downloading pyasn1_modules-0.4.0-py3-none-any.whl (181 kB)\n",
      "   ---------------------------------------- 0.0/181.2 kB ? eta -:--:--\n",
      "   ---------------------------------------- 181.2/181.2 kB 5.5 MB/s eta 0:00:00\n",
      "Downloading requests_oauthlib-2.0.0-py2.py3-none-any.whl (24 kB)\n",
      "Downloading rsa-4.9-py3-none-any.whl (34 kB)\n",
      "Downloading urllib3-2.2.1-py3-none-any.whl (121 kB)\n",
      "   ---------------------------------------- 0.0/121.1 kB ? eta -:--:--\n",
      "   ---------------------------------------- 121.1/121.1 kB 6.9 MB/s eta 0:00:00\n",
      "Downloading oauthlib-3.2.2-py3-none-any.whl (151 kB)\n",
      "   ---------------------------------------- 0.0/151.7 kB ? eta -:--:--\n",
      "   ---------------------------------------- 151.7/151.7 kB 8.8 MB/s eta 0:00:00\n",
      "Downloading pyasn1-0.6.0-py2.py3-none-any.whl (85 kB)\n",
      "   ---------------------------------------- 0.0/85.3 kB ? eta -:--:--\n",
      "   ---------------------------------------- 85.3/85.3 kB 4.7 MB/s eta 0:00:00\n",
      "Installing collected packages: libclang, flatbuffers, wrapt, wheel, urllib3, typing-extensions, termcolor, tensorflow-io-gcs-filesystem, tensorflow-estimator, tensorboard-data-server, six, setuptools, pyasn1, protobuf, packaging, oauthlib, numpy, MarkupSafe, markdown, keras, idna, grpcio, gast, charset-normalizer, certifi, cachetools, absl-py, werkzeug, rsa, requests, pyasn1-modules, opt-einsum, h5py, google-pasta, astunparse, requests-oauthlib, google-auth, google-auth-oauthlib, tensorboard, tensorflow-intel, tensorflow\n",
      "  Attempting uninstall: libclang\n",
      "    Found existing installation: libclang 18.1.1\n",
      "    Uninstalling libclang-18.1.1:\n",
      "      Successfully uninstalled libclang-18.1.1\n",
      "  Attempting uninstall: flatbuffers\n",
      "    Found existing installation: flatbuffers 24.3.25\n",
      "    Uninstalling flatbuffers-24.3.25:\n",
      "      Successfully uninstalled flatbuffers-24.3.25\n",
      "  Attempting uninstall: termcolor\n",
      "    Found existing installation: termcolor 2.4.0\n",
      "    Uninstalling termcolor-2.4.0:\n",
      "      Successfully uninstalled termcolor-2.4.0\n",
      "  Attempting uninstall: tensorflow-io-gcs-filesystem\n",
      "    Found existing installation: tensorflow-io-gcs-filesystem 0.31.0\n",
      "    Uninstalling tensorflow-io-gcs-filesystem-0.31.0:\n",
      "      Successfully uninstalled tensorflow-io-gcs-filesystem-0.31.0\n",
      "  Attempting uninstall: tensorboard-data-server\n",
      "    Found existing installation: tensorboard-data-server 0.7.2\n",
      "    Uninstalling tensorboard-data-server-0.7.2:\n",
      "      Successfully uninstalled tensorboard-data-server-0.7.2\n",
      "  Attempting uninstall: six\n",
      "    Found existing installation: six 1.16.0\n",
      "    Uninstalling six-1.16.0:\n",
      "      Successfully uninstalled six-1.16.0\n",
      "  Attempting uninstall: packaging\n",
      "    Found existing installation: packaging 23.2\n",
      "    Uninstalling packaging-23.2:\n",
      "      Successfully uninstalled packaging-23.2\n",
      "  Attempting uninstall: keras\n",
      "    Found existing installation: keras 3.3.3\n",
      "    Uninstalling keras-3.3.3:\n",
      "      Successfully uninstalled keras-3.3.3\n",
      "  Attempting uninstall: grpcio\n",
      "    Found existing installation: grpcio 1.64.0\n",
      "    Uninstalling grpcio-1.64.0:\n",
      "      Successfully uninstalled grpcio-1.64.0\n",
      "  Attempting uninstall: gast\n",
      "    Found existing installation: gast 0.5.4\n",
      "    Uninstalling gast-0.5.4:\n",
      "      Successfully uninstalled gast-0.5.4\n",
      "  Attempting uninstall: absl-py\n",
      "    Found existing installation: absl-py 2.1.0\n",
      "    Uninstalling absl-py-2.1.0:\n",
      "      Successfully uninstalled absl-py-2.1.0\n",
      "  Attempting uninstall: opt-einsum\n",
      "    Found existing installation: opt-einsum 3.3.0\n",
      "    Uninstalling opt-einsum-3.3.0:\n",
      "      Successfully uninstalled opt-einsum-3.3.0\n",
      "  Attempting uninstall: h5py\n",
      "    Found existing installation: h5py 3.11.0\n",
      "    Uninstalling h5py-3.11.0:\n",
      "      Successfully uninstalled h5py-3.11.0\n",
      "  Attempting uninstall: google-pasta\n",
      "    Found existing installation: google-pasta 0.2.0\n",
      "    Uninstalling google-pasta-0.2.0:\n",
      "      Successfully uninstalled google-pasta-0.2.0\n",
      "  Attempting uninstall: astunparse\n",
      "    Found existing installation: astunparse 1.6.3\n",
      "    Uninstalling astunparse-1.6.3:\n",
      "      Successfully uninstalled astunparse-1.6.3\n",
      "  Attempting uninstall: tensorboard\n",
      "    Found existing installation: tensorboard 2.16.2\n",
      "    Uninstalling tensorboard-2.16.2:\n",
      "      Successfully uninstalled tensorboard-2.16.2\n",
      "  Attempting uninstall: tensorflow-intel\n",
      "    Found existing installation: tensorflow-intel 2.16.1\n",
      "    Uninstalling tensorflow-intel-2.16.1:\n",
      "      Successfully uninstalled tensorflow-intel-2.16.1\n",
      "  Attempting uninstall: tensorflow\n",
      "    Found existing installation: tensorflow 2.16.1\n",
      "    Uninstalling tensorflow-2.16.1:\n",
      "      Successfully uninstalled tensorflow-2.16.1\n",
      "Successfully installed MarkupSafe-2.1.5 absl-py-2.1.0 astunparse-1.6.3 cachetools-5.3.3 certifi-2024.2.2 charset-normalizer-3.3.2 flatbuffers-24.3.25 gast-0.4.0 google-auth-2.29.0 google-auth-oauthlib-1.0.0 google-pasta-0.2.0 grpcio-1.64.0 h5py-3.11.0 idna-3.7 keras-2.13.1 libclang-18.1.1 markdown-3.6 numpy-1.24.3 oauthlib-3.2.2 opt-einsum-3.3.0 packaging-24.0 protobuf-4.25.3 pyasn1-0.6.0 pyasn1-modules-0.4.0 requests-2.32.3 requests-oauthlib-2.0.0 rsa-4.9 setuptools-70.0.0 six-1.16.0 tensorboard-2.13.0 tensorboard-data-server-0.7.2 tensorflow-2.13.1 tensorflow-estimator-2.13.0 tensorflow-intel-2.13.1 tensorflow-io-gcs-filesystem-0.31.0 termcolor-2.4.0 typing-extensions-4.5.0 urllib3-2.2.1 werkzeug-3.0.3 wheel-0.43.0 wrapt-1.16.0\n"
     ]
    }
   ],
   "source": [
    "pip install --force-reinstall tensorflow[and-cuda]"
   ]
  },
  {
   "cell_type": "code",
   "execution_count": null,
   "id": "f160df7a-d963-4b84-9c62-d89eb00ca777",
   "metadata": {},
   "outputs": [],
   "source": []
  },
  {
   "cell_type": "code",
   "execution_count": 75,
   "id": "fdf59c92-6933-452d-8bc3-c09ce0cb4b36",
   "metadata": {},
   "outputs": [],
   "source": [
    "# Evaluate Model and Make Predictions"
   ]
  },
  {
   "cell_type": "code",
   "execution_count": 78,
   "id": "0d063cec-e1c2-41f5-97d8-a93e62b52f19",
   "metadata": {},
   "outputs": [],
   "source": [
    "from tensorflow.keras.metrics import Precision, Recall"
   ]
  },
  {
   "cell_type": "code",
   "execution_count": 79,
   "id": "c3fdad0c-2115-4f96-89ce-c937b2619507",
   "metadata": {},
   "outputs": [],
   "source": [
    "test_input,test_val , y_true = test_data.as_numpy_iterator().next()"
   ]
  },
  {
   "cell_type": "code",
   "execution_count": 80,
   "id": "fa26de92-073e-4071-b3e4-47298467a8bf",
   "metadata": {},
   "outputs": [
    {
     "data": {
      "text/plain": [
       "4"
      ]
     },
     "execution_count": 80,
     "metadata": {},
     "output_type": "execute_result"
    }
   ],
   "source": [
    "len(test_val)"
   ]
  },
  {
   "cell_type": "code",
   "execution_count": 81,
   "id": "389e24b2",
   "metadata": {},
   "outputs": [
    {
     "data": {
      "text/plain": [
       "array([1., 1., 1., 1.], dtype=float32)"
      ]
     },
     "execution_count": 81,
     "metadata": {},
     "output_type": "execute_result"
    }
   ],
   "source": [
    "y_true"
   ]
  },
  {
   "cell_type": "code",
   "execution_count": 82,
   "id": "a5c1a53f",
   "metadata": {},
   "outputs": [],
   "source": [
    "test_var = test_data.as_numpy_iterator().next()"
   ]
  },
  {
   "cell_type": "code",
   "execution_count": 83,
   "id": "bbc75b0b",
   "metadata": {},
   "outputs": [
    {
     "data": {
      "text/plain": [
       "3"
      ]
     },
     "execution_count": 83,
     "metadata": {},
     "output_type": "execute_result"
    }
   ],
   "source": [
    "len(test_var)"
   ]
  },
  {
   "cell_type": "code",
   "execution_count": 84,
   "id": "c026d0ee",
   "metadata": {},
   "outputs": [
    {
     "data": {
      "text/plain": [
       "array([1., 1., 1., 1.], dtype=float32)"
      ]
     },
     "execution_count": 84,
     "metadata": {},
     "output_type": "execute_result"
    }
   ],
   "source": [
    "test_var[2]"
   ]
  },
  {
   "cell_type": "code",
   "execution_count": 85,
   "id": "032e68f1",
   "metadata": {},
   "outputs": [
    {
     "name": "stdout",
     "output_type": "stream",
     "text": [
      "\u001b[1m1/1\u001b[0m \u001b[32m━━━━━━━━━━━━━━━━━━━━\u001b[0m\u001b[37m\u001b[0m \u001b[1m0s\u001b[0m 78ms/step\n"
     ]
    },
    {
     "data": {
      "text/plain": [
       "array([[0.99997604],\n",
       "       [0.999982  ],\n",
       "       [0.99999875],\n",
       "       [0.9802222 ]], dtype=float32)"
      ]
     },
     "execution_count": 85,
     "metadata": {},
     "output_type": "execute_result"
    }
   ],
   "source": [
    "y_hat = siamese_model.predict([test_input, test_val])\n",
    "y_hat"
   ]
  },
  {
   "cell_type": "code",
   "execution_count": 86,
   "id": "4750a011",
   "metadata": {},
   "outputs": [
    {
     "data": {
      "text/plain": [
       "[1, 1, 1, 1]"
      ]
     },
     "execution_count": 86,
     "metadata": {},
     "output_type": "execute_result"
    }
   ],
   "source": [
    "res=[]\n",
    "for prediction in y_hat:\n",
    "    if prediction > 0.5:\n",
    "        res.append(1)\n",
    "    else:\n",
    "        res.append(0)\n",
    "\n",
    "res"
   ]
  },
  {
   "cell_type": "code",
   "execution_count": 87,
   "id": "ef98ca98",
   "metadata": {},
   "outputs": [
    {
     "data": {
      "text/plain": [
       "array([1., 1., 1., 1.], dtype=float32)"
      ]
     },
     "execution_count": 87,
     "metadata": {},
     "output_type": "execute_result"
    }
   ],
   "source": [
    "y_true"
   ]
  },
  {
   "cell_type": "code",
   "execution_count": 99,
   "id": "99afe46c",
   "metadata": {},
   "outputs": [],
   "source": [
    "# CALCULATING METRICS\n"
   ]
  },
  {
   "cell_type": "code",
   "execution_count": 88,
   "id": "eb42d7dc",
   "metadata": {},
   "outputs": [
    {
     "data": {
      "text/plain": [
       "1.0"
      ]
     },
     "execution_count": 88,
     "metadata": {},
     "output_type": "execute_result"
    }
   ],
   "source": [
    "# create a metric object\n",
    "\n",
    "m = Recall()\n",
    "\n",
    "# Calculate the recall value\n",
    "m.update_state(test_var[2], y_hat)\n",
    "\n",
    "# Return the recall result \n",
    "m.result().numpy()"
   ]
  },
  {
   "cell_type": "code",
   "execution_count": 89,
   "id": "71cb5fc6",
   "metadata": {},
   "outputs": [
    {
     "data": {
      "text/plain": [
       "1.0"
      ]
     },
     "execution_count": 89,
     "metadata": {},
     "output_type": "execute_result"
    }
   ],
   "source": [
    "# create a metric object\n",
    "m= Precision()\n",
    "\n",
    "# Calculate the precision value\n",
    "m.update_state(test_var[2], y_hat)\n",
    "\n",
    "# Return the precision result\n",
    "m.result().numpy()"
   ]
  },
  {
   "cell_type": "code",
   "execution_count": 102,
   "id": "5ca9a28c",
   "metadata": {},
   "outputs": [],
   "source": [
    "# VISUALIZE "
   ]
  },
  {
   "cell_type": "code",
   "execution_count": 90,
   "id": "d8b085a2",
   "metadata": {},
   "outputs": [
    {
     "data": {
      "image/png": "[encoded data removed]",
      "text/plain": [
       "<Figure size 1000x800 with 2 Axes>"
      ]
     },
     "metadata": {},
     "output_type": "display_data"
    }
   ],
   "source": [
    "plt.figure(figsize=(10,8))\n",
    "\n",
    "plt.subplot(1,2,1)\n",
    "plt.imshow(test_input[2])\n",
    "\n",
    "plt.subplot(1,2,2)\n",
    "plt.imshow(test_val[2])\n",
    "\n",
    "plt.show()"
   ]
  },
  {
   "cell_type": "code",
   "execution_count": 105,
   "id": "511d9dcb",
   "metadata": {},
   "outputs": [],
   "source": [
    "# Save the model"
   ]
  },
  {
   "cell_type": "code",
   "execution_count": 91,
   "id": "fad68b2e",
   "metadata": {},
   "outputs": [
    {
     "name": "stderr",
     "output_type": "stream",
     "text": [
      "WARNING:absl:You are saving your model as an HDF5 file via `model.save()` or `keras.saving.save_model(model)`. This file format is considered legacy. We recommend using instead the native Keras format, e.g. `model.save('my_model.keras')` or `keras.saving.save_model(model, 'my_model.keras')`. \n"
     ]
    }
   ],
   "source": [
    "siamese_model.save('siamese_model.h5')\n"
   ]
  },
  {
   "cell_type": "code",
   "execution_count": 92,
   "id": "9062b4a7",
   "metadata": {},
   "outputs": [
    {
     "name": "stderr",
     "output_type": "stream",
     "text": [
      "WARNING:absl:No training configuration found in the save file, so the model was *not* compiled. Compile it manually.\n"
     ]
    }
   ],
   "source": [
    "# reload the model\n",
    "model = tf.keras.models.load_model('siamese_model.h5' , custom_objects={'L1Dist': L1Dist, 'BinaryCrossentropy': tf.losses.BinaryCrossentropy})"
   ]
  },
  {
   "cell_type": "code",
   "execution_count": 93,
   "id": "258ce869",
   "metadata": {},
   "outputs": [
    {
     "name": "stdout",
     "output_type": "stream",
     "text": [
      "\u001b[1m1/1\u001b[0m \u001b[32m━━━━━━━━━━━━━━━━━━━━\u001b[0m\u001b[37m\u001b[0m \u001b[1m0s\u001b[0m 69ms/step\n"
     ]
    },
    {
     "data": {
      "text/plain": [
       "array([[0.99997604],\n",
       "       [0.999982  ],\n",
       "       [0.99999875],\n",
       "       [0.9802222 ]], dtype=float32)"
      ]
     },
     "execution_count": 93,
     "metadata": {},
     "output_type": "execute_result"
    }
   ],
   "source": [
    "# make prediction with reloaded model\n",
    "model.predict([test_input, test_val])"
   ]
  },
  {
   "cell_type": "code",
   "execution_count": 94,
   "id": "39b98696",
   "metadata": {},
   "outputs": [
    {
     "data": {
      "text/html": [
       "<pre style=\"white-space:pre;overflow-x:auto;line-height:normal;font-family:Menlo,'DejaVu Sans Mono',consolas,'Courier New',monospace\"><span style=\"font-weight: bold\">Model: \"SiameseNetwork\"</span>\n",
       "</pre>\n"
      ],
      "text/plain": [
       "\u001b[1mModel: \"SiameseNetwork\"\u001b[0m\n"
      ]
     },
     "metadata": {},
     "output_type": "display_data"
    },
    {
     "data": {
      "text/html": [
       "<pre style=\"white-space:pre;overflow-x:auto;line-height:normal;font-family:Menlo,'DejaVu Sans Mono',consolas,'Courier New',monospace\">┏━━━━━━━━━━━━━━━━━━━━━┳━━━━━━━━━━━━━━━━━━━┳━━━━━━━━━━━━┳━━━━━━━━━━━━━━━━━━━┓\n",
       "┃<span style=\"font-weight: bold\"> Layer (type)        </span>┃<span style=\"font-weight: bold\"> Output Shape      </span>┃<span style=\"font-weight: bold\">    Param # </span>┃<span style=\"font-weight: bold\"> Connected to      </span>┃\n",
       "┡━━━━━━━━━━━━━━━━━━━━━╇━━━━━━━━━━━━━━━━━━━╇━━━━━━━━━━━━╇━━━━━━━━━━━━━━━━━━━┩\n",
       "│ input_img           │ (<span style=\"color: #00d7ff; text-decoration-color: #00d7ff\">None</span>, <span style=\"color: #00af00; text-decoration-color: #00af00\">100</span>, <span style=\"color: #00af00; text-decoration-color: #00af00\">100</span>,  │          <span style=\"color: #00af00; text-decoration-color: #00af00\">0</span> │ -                 │\n",
       "│ (<span style=\"color: #0087ff; text-decoration-color: #0087ff\">InputLayer</span>)        │ <span style=\"color: #00af00; text-decoration-color: #00af00\">3</span>)                │            │                   │\n",
       "├─────────────────────┼───────────────────┼────────────┼───────────────────┤\n",
       "│ validation_img      │ (<span style=\"color: #00d7ff; text-decoration-color: #00d7ff\">None</span>, <span style=\"color: #00af00; text-decoration-color: #00af00\">100</span>, <span style=\"color: #00af00; text-decoration-color: #00af00\">100</span>,  │          <span style=\"color: #00af00; text-decoration-color: #00af00\">0</span> │ -                 │\n",
       "│ (<span style=\"color: #0087ff; text-decoration-color: #0087ff\">InputLayer</span>)        │ <span style=\"color: #00af00; text-decoration-color: #00af00\">3</span>)                │            │                   │\n",
       "├─────────────────────┼───────────────────┼────────────┼───────────────────┤\n",
       "│ sequential          │ (<span style=\"color: #00d7ff; text-decoration-color: #00d7ff\">None</span>, <span style=\"color: #00af00; text-decoration-color: #00af00\">76832</span>)     │        <span style=\"color: #00af00; text-decoration-color: #00af00\">896</span> │ input_img[<span style=\"color: #00af00; text-decoration-color: #00af00\">0</span>][<span style=\"color: #00af00; text-decoration-color: #00af00\">0</span>],  │\n",
       "│ (<span style=\"color: #0087ff; text-decoration-color: #0087ff\">Sequential</span>)        │                   │            │ validation_img[<span style=\"color: #00af00; text-decoration-color: #00af00\">0</span>… │\n",
       "├─────────────────────┼───────────────────┼────────────┼───────────────────┤\n",
       "│ l1_dist_2 (<span style=\"color: #0087ff; text-decoration-color: #0087ff\">L1Dist</span>)  │ (<span style=\"color: #00d7ff; text-decoration-color: #00d7ff\">None</span>, <span style=\"color: #00af00; text-decoration-color: #00af00\">76832</span>)     │          <span style=\"color: #00af00; text-decoration-color: #00af00\">0</span> │ sequential[<span style=\"color: #00af00; text-decoration-color: #00af00\">0</span>][<span style=\"color: #00af00; text-decoration-color: #00af00\">0</span>], │\n",
       "│                     │                   │            │ sequential[<span style=\"color: #00af00; text-decoration-color: #00af00\">1</span>][<span style=\"color: #00af00; text-decoration-color: #00af00\">0</span>]  │\n",
       "├─────────────────────┼───────────────────┼────────────┼───────────────────┤\n",
       "│ dense_3 (<span style=\"color: #0087ff; text-decoration-color: #0087ff\">Dense</span>)     │ (<span style=\"color: #00d7ff; text-decoration-color: #00d7ff\">None</span>, <span style=\"color: #00af00; text-decoration-color: #00af00\">1</span>)         │     <span style=\"color: #00af00; text-decoration-color: #00af00\">76,833</span> │ l1_dist_2[<span style=\"color: #00af00; text-decoration-color: #00af00\">0</span>][<span style=\"color: #00af00; text-decoration-color: #00af00\">0</span>]   │\n",
       "└─────────────────────┴───────────────────┴────────────┴───────────────────┘\n",
       "</pre>\n"
      ],
      "text/plain": [
       "┏━━━━━━━━━━━━━━━━━━━━━┳━━━━━━━━━━━━━━━━━━━┳━━━━━━━━━━━━┳━━━━━━━━━━━━━━━━━━━┓\n",
       "┃\u001b[1m \u001b[0m\u001b[1mLayer (type)       \u001b[0m\u001b[1m \u001b[0m┃\u001b[1m \u001b[0m\u001b[1mOutput Shape     \u001b[0m\u001b[1m \u001b[0m┃\u001b[1m \u001b[0m\u001b[1m   Param #\u001b[0m\u001b[1m \u001b[0m┃\u001b[1m \u001b[0m\u001b[1mConnected to     \u001b[0m\u001b[1m \u001b[0m┃\n",
       "┡━━━━━━━━━━━━━━━━━━━━━╇━━━━━━━━━━━━━━━━━━━╇━━━━━━━━━━━━╇━━━━━━━━━━━━━━━━━━━┩\n",
       "│ input_img           │ (\u001b[38;5;45mNone\u001b[0m, \u001b[38;5;34m100\u001b[0m, \u001b[38;5;34m100\u001b[0m,  │          \u001b[38;5;34m0\u001b[0m │ -                 │\n",
       "│ (\u001b[38;5;33mInputLayer\u001b[0m)        │ \u001b[38;5;34m3\u001b[0m)                │            │                   │\n",
       "├─────────────────────┼───────────────────┼────────────┼───────────────────┤\n",
       "│ validation_img      │ (\u001b[38;5;45mNone\u001b[0m, \u001b[38;5;34m100\u001b[0m, \u001b[38;5;34m100\u001b[0m,  │          \u001b[38;5;34m0\u001b[0m │ -                 │\n",
       "│ (\u001b[38;5;33mInputLayer\u001b[0m)        │ \u001b[38;5;34m3\u001b[0m)                │            │                   │\n",
       "├─────────────────────┼───────────────────┼────────────┼───────────────────┤\n",
       "│ sequential          │ (\u001b[38;5;45mNone\u001b[0m, \u001b[38;5;34m76832\u001b[0m)     │        \u001b[38;5;34m896\u001b[0m │ input_img[\u001b[38;5;34m0\u001b[0m][\u001b[38;5;34m0\u001b[0m],  │\n",
       "│ (\u001b[38;5;33mSequential\u001b[0m)        │                   │            │ validation_img[\u001b[38;5;34m0\u001b[0m… │\n",
       "├─────────────────────┼───────────────────┼────────────┼───────────────────┤\n",
       "│ l1_dist_2 (\u001b[38;5;33mL1Dist\u001b[0m)  │ (\u001b[38;5;45mNone\u001b[0m, \u001b[38;5;34m76832\u001b[0m)     │          \u001b[38;5;34m0\u001b[0m │ sequential[\u001b[38;5;34m0\u001b[0m][\u001b[38;5;34m0\u001b[0m], │\n",
       "│                     │                   │            │ sequential[\u001b[38;5;34m1\u001b[0m][\u001b[38;5;34m0\u001b[0m]  │\n",
       "├─────────────────────┼───────────────────┼────────────┼───────────────────┤\n",
       "│ dense_3 (\u001b[38;5;33mDense\u001b[0m)     │ (\u001b[38;5;45mNone\u001b[0m, \u001b[38;5;34m1\u001b[0m)         │     \u001b[38;5;34m76,833\u001b[0m │ l1_dist_2[\u001b[38;5;34m0\u001b[0m][\u001b[38;5;34m0\u001b[0m]   │\n",
       "└─────────────────────┴───────────────────┴────────────┴───────────────────┘\n"
      ]
     },
     "metadata": {},
     "output_type": "display_data"
    },
    {
     "data": {
      "text/html": [
       "<pre style=\"white-space:pre;overflow-x:auto;line-height:normal;font-family:Menlo,'DejaVu Sans Mono',consolas,'Courier New',monospace\"><span style=\"font-weight: bold\"> Total params: </span><span style=\"color: #00af00; text-decoration-color: #00af00\">77,729</span> (303.63 KB)\n",
       "</pre>\n"
      ],
      "text/plain": [
       "\u001b[1m Total params: \u001b[0m\u001b[38;5;34m77,729\u001b[0m (303.63 KB)\n"
      ]
     },
     "metadata": {},
     "output_type": "display_data"
    },
    {
     "data": {
      "text/html": [
       "<pre style=\"white-space:pre;overflow-x:auto;line-height:normal;font-family:Menlo,'DejaVu Sans Mono',consolas,'Courier New',monospace\"><span style=\"font-weight: bold\"> Trainable params: </span><span style=\"color: #00af00; text-decoration-color: #00af00\">77,729</span> (303.63 KB)\n",
       "</pre>\n"
      ],
      "text/plain": [
       "\u001b[1m Trainable params: \u001b[0m\u001b[38;5;34m77,729\u001b[0m (303.63 KB)\n"
      ]
     },
     "metadata": {},
     "output_type": "display_data"
    },
    {
     "data": {
      "text/html": [
       "<pre style=\"white-space:pre;overflow-x:auto;line-height:normal;font-family:Menlo,'DejaVu Sans Mono',consolas,'Courier New',monospace\"><span style=\"font-weight: bold\"> Non-trainable params: </span><span style=\"color: #00af00; text-decoration-color: #00af00\">0</span> (0.00 B)\n",
       "</pre>\n"
      ],
      "text/plain": [
       "\u001b[1m Non-trainable params: \u001b[0m\u001b[38;5;34m0\u001b[0m (0.00 B)\n"
      ]
     },
     "metadata": {},
     "output_type": "display_data"
    }
   ],
   "source": [
    "model.summary()"
   ]
  },
  {
   "cell_type": "code",
   "execution_count": 95,
   "id": "6d3bbe23",
   "metadata": {},
   "outputs": [],
   "source": [
    "import os\n",
    "path = \"application_data/verification_images\"\n",
    "path1 = \"application_data/input_image\"\n",
    "isExist = os.path.exists(path)\n",
    "isExist = os.path.exists(path1)\n",
    "if not isExist:\n",
    "    os.makedirs(path)\n",
    "if not isExist:\n",
    "    os.makedirs(path1)"
   ]
  },
  {
   "cell_type": "code",
   "execution_count": 96,
   "id": "841c9682",
   "metadata": {},
   "outputs": [
    {
     "data": {
      "text/plain": [
       "[]"
      ]
     },
     "execution_count": 96,
     "metadata": {},
     "output_type": "execute_result"
    }
   ],
   "source": [
    "os.listdir(os.path.join('application_data', 'verification_images'))"
   ]
  },
  {
   "cell_type": "code",
   "execution_count": 97,
   "id": "7aabc275",
   "metadata": {},
   "outputs": [
    {
     "data": {
      "text/plain": [
       "'application_data\\\\input_image\\\\input_image.jpg'"
      ]
     },
     "execution_count": 97,
     "metadata": {},
     "output_type": "execute_result"
    }
   ],
   "source": [
    "os.path.join('application_data', 'input_image', 'input_image.jpg') "
   ]
  },
  {
   "cell_type": "code",
   "execution_count": null,
   "id": "a5cecadf",
   "metadata": {},
   "outputs": [],
   "source": [
    "# Add and delete function"
   ]
  },
  {
   "cell_type": "code",
   "execution_count": 98,
   "id": "12c3f4d1",
   "metadata": {},
   "outputs": [
    {
     "data": {
      "text/plain": [
       "'application_data\\\\input_image\\\\input_image.jpg'"
      ]
     },
     "execution_count": 98,
     "metadata": {},
     "output_type": "execute_result"
    }
   ],
   "source": [
    "#captured image from webcam will be stored in this folder\n",
    "os.path.join('application_data', 'input_image', 'input_image.jpg')"
   ]
  },
  {
   "cell_type": "code",
   "execution_count": 99,
   "id": "2c78ad5f",
   "metadata": {},
   "outputs": [],
   "source": [
    "for image in os.listdir(os.path.join('application_data', 'verification_images')):\n",
    "    validation_img = os.path.join('application_data', 'verification_images', image)\n",
    "    print(validation_img)"
   ]
  },
  {
   "cell_type": "code",
   "execution_count": 110,
   "id": "74c9ddbb",
   "metadata": {},
   "outputs": [
    {
     "name": "stdout",
     "output_type": "stream",
     "text": [
      "a84b3b99-2fe9-11ef-b509-a8fbefe3552a.jpg\n",
      "ab4f94ab-2fe9-11ef-b9da-a8fbefe3552a.jpg\n",
      "ae4e6918-2fe9-11ef-b6b6-a8fbefe3552a.jpg\n",
      "b14d8af5-2fe9-11ef-a604-a8fbefe3552a.jpg\n",
      "b44c3846-2fe9-11ef-94a1-a8fbefe3552a.jpg\n",
      "b749af85-2fe9-11ef-bcf8-a8fbefe3552a.jpg\n"
     ]
    }
   ],
   "source": [
    "import shutil\n",
    "import os\n",
    "import glob\n",
    "\n",
    "IMAGES_PATH = os.path.join('data', 'positive')\n",
    "\n",
    "VER_PATH = os.path.join('application_data','verification_images')\n",
    "\n",
    "for i in os.listdir(IMAGES_PATH):\n",
    "    print(i)"
   ]
  },
  {
   "cell_type": "code",
   "execution_count": 111,
   "id": "08536954",
   "metadata": {},
   "outputs": [
    {
     "data": {
      "text/plain": [
       "'application_data\\\\input_image\\\\input_image.jpg'"
      ]
     },
     "execution_count": 111,
     "metadata": {},
     "output_type": "execute_result"
    }
   ],
   "source": [
    "os.path.join('application_data', 'input_image', 'input_image.jpg')"
   ]
  },
  {
   "cell_type": "code",
   "execution_count": 100,
   "id": "17ae13a4",
   "metadata": {},
   "outputs": [],
   "source": [
    "def verify(model, detection_threshold ,verification_threshold):\n",
    "\n",
    "    results = []\n",
    "    for image in os.listdir(os.path.join('application_data','verification_images')):\n",
    "        input_images = preprocess(os.path.join('application_data', 'input_image', 'input_images.jpg'))\n",
    "        validation_img = preprocess(os.path.join('application_data','verification_images', image))\n",
    "\n",
    "        # make predictions\n",
    "        results - model.predict(list(np.expand_dims([input_image , validation_images], axis = 1)))\n",
    "        result.append(result)\n",
    "\n",
    "    detection = np.sum(np.array(results) > detection_threshold)\n",
    "\n",
    "    # calculating for final verification\n",
    "    verification = detection / len(os.listdir(os.path.join('application_data', 'verification_images')))\n",
    "    verified = verification > verification_threshold\n",
    "\n",
    "    return results, verified"
   ]
  },
  {
   "cell_type": "code",
   "execution_count": null,
   "id": "1c1f634f",
   "metadata": {},
   "outputs": [],
   "source": []
  },
  {
   "cell_type": "code",
   "execution_count": 101,
   "id": "e675a78c",
   "metadata": {},
   "outputs": [],
   "source": [
    "#webcam verification\n",
    "cap = cv2.VideoCapture(0)\n",
    "while cap.isOpened():\n",
    "    ret, frame = cap.read()\n",
    "    frame = frame[120:120+250,200:200+250, :]\n",
    "    \n",
    "    cv2.imshow('Verification', frame)\n",
    "    \n",
    "    # Verification trigger\n",
    "    if cv2.waitKey(10) & 0xFF == ord('v'):\n",
    "        # Save input image to application_data/input_image folder \n",
    "        hsv = cv2.cvtColor(frame, cv2.COLOR_BGR2HSV) \n",
    "        h, s, v = cv2.split(hsv)\n",
    "\n",
    "        lim = 255 - 10\n",
    "        v[v > lim] = 255\n",
    "        v[v <= lim] -= 10\n",
    "        \n",
    "        final_hsv = cv2.merge((h, s, v))\n",
    "        img = cv2.cvtColor(final_hsv, cv2.COLOR_HSV2BGR)\n",
    "\n",
    "        cv2.imwrite(os.path.join('application_data', 'input_image', 'input_image.jpg'), frame)\n",
    "        # Run verification\n",
    "        results, verified = verify(siamese_model, 0.5, 0.5)\n",
    "        print(verified)\n",
    "    \n",
    "    \n",
    "    k = cv2.waitKey(30) & 0xff\n",
    "    if k == 113: \n",
    "        break\n",
    "cap.release()\n",
    "cv2.destroyAllWindows()"
   ]
  },
  {
   "cell_type": "code",
   "execution_count": 104,
   "id": "7ca14499",
   "metadata": {},
   "outputs": [],
   "source": [
    "import os\n",
    "import cv2\n",
    "\n",
    "cap = cv2.VideoCapture(0)\n",
    "while cap.isOpened():\n",
    "    ret, frame = cap.read()\n",
    "    frame = frame[120:120+250, 200:200+250, :]\n",
    "    \n",
    "    cv2.imshow('Verification', frame)\n",
    "    \n",
    "    key = cv2.waitKey(30) & 0xff\n",
    "    \n",
    "    # Verification trigger\n",
    "    if key == ord('v'):\n",
    "        hsv = cv2.cvtColor(frame, cv2.COLOR_BGR2HSV) \n",
    "        h, s, v = cv2.split(hsv)\n",
    "\n",
    "        lim = 255 - 10\n",
    "        v[v > lim] = 255\n",
    "        v[v <= lim] -= 10\n",
    "        \n",
    "        final_hsv = cv2.merge((h, s, v))\n",
    "        img = cv2.cvtColor(final_hsv, cv2.COLOR_HSV2BGR)\n",
    "\n",
    "        cv2.imwrite(os.path.join('application_data', 'input_image', 'input_image.jpg'), img)\n",
    "        # Run verification\n",
    "        results, verified = verify(siamese_model, 1, 1)\n",
    "        print(verified)\n",
    "    \n",
    "    if key == ord('q'):\n",
    "        break\n",
    "\n",
    "cap.release()\n",
    "cv2.destroyAllWindows()\n"
   ]
  },
  {
   "cell_type": "code",
   "execution_count": null,
   "id": "71bd78e6",
   "metadata": {},
   "outputs": [],
   "source": []
  }
 ],
 "metadata": {
  "kernelspec": {
   "display_name": "AI-KERNEL",
   "language": "python",
   "name": "ai-kernel"
  },
  "language_info": {
   "codemirror_mode": {
    "name": "ipython",
    "version": 3
   },
   "file_extension": ".py",
   "mimetype": "text/x-python",
   "name": "python",
   "nbconvert_exporter": "python",
   "pygments_lexer": "ipython3",
   "version": "3.11.9"
  }
 },
 "nbformat": 4,
 "nbformat_minor": 5
}
